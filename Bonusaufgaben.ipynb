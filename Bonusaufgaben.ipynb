{
 "cells": [
  {
   "cell_type": "markdown",
   "metadata": {},
   "source": [
    "# Bonusaufgaben (10 + 10 = 20 Punkte) \n",
    "## Abgabe in der Woche 14.-18. Januar"
   ]
  },
  {
   "cell_type": "code",
   "execution_count": 1,
   "metadata": {},
   "outputs": [
    {
     "ename": "ImportError",
     "evalue": "No module named 'imageio'",
     "output_type": "error",
     "traceback": [
      "\u001b[0;31m---------------------------------------------------------------------------\u001b[0m",
      "\u001b[0;31mImportError\u001b[0m                               Traceback (most recent call last)",
      "\u001b[0;32m<ipython-input-1-c3cae5bdea01>\u001b[0m in \u001b[0;36m<module>\u001b[0;34m()\u001b[0m\n\u001b[1;32m      1\u001b[0m \u001b[0;32mimport\u001b[0m \u001b[0mnumpy\u001b[0m \u001b[0;32mas\u001b[0m \u001b[0mnp\u001b[0m\u001b[0;34m\u001b[0m\u001b[0m\n\u001b[0;32m----> 2\u001b[0;31m \u001b[0;32mfrom\u001b[0m \u001b[0mimageio\u001b[0m \u001b[0;32mimport\u001b[0m \u001b[0;34m*\u001b[0m\u001b[0;34m\u001b[0m\u001b[0m\n\u001b[0m\u001b[1;32m      3\u001b[0m \u001b[0;32mimport\u001b[0m \u001b[0mmatplotlib\u001b[0m\u001b[0;34m.\u001b[0m\u001b[0mpyplot\u001b[0m \u001b[0;32mas\u001b[0m \u001b[0mplt\u001b[0m\u001b[0;34m\u001b[0m\u001b[0m\n\u001b[1;32m      4\u001b[0m \u001b[0;32mimport\u001b[0m \u001b[0mscipy\u001b[0m\u001b[0;34m\u001b[0m\u001b[0m\n",
      "\u001b[0;31mImportError\u001b[0m: No module named 'imageio'"
     ]
    }
   ],
   "source": [
    "import numpy as np\n",
    "from imageio import * \n",
    "import matplotlib.pyplot as plt\n",
    "import scipy "
   ]
  },
  {
   "cell_type": "markdown",
   "metadata": {},
   "source": [
    "## Bonusaufgabe 1: Veranschaulichung der Singulärwertzerlegung (10 Punkte)"
   ]
  },
  {
   "cell_type": "markdown",
   "metadata": {},
   "source": [
    "_Vorbemerkung:_ Die hier gezeigte Technik wird in der Praxis __nicht__ für die Kompression von Bildern eingesetzt. Die Aufgabe soll lediglich die Approximationseigenschaften der Singulärwertzerlegung anschaulich darstellen. \n",
    "\n",
    "Unter Benutzung der Bibliothek _imageio_ können in Python Bilder als numpy-array importiert bzw. angezeigt werden. Kopieren Sie beispielsweise unser Beispielbild (\"Bonusaufgabe1_beispiel.jpg\") in Ihr Homeverzeichnis und führen Sie die folgenden Zeilen aus: \n",
    "\n",
    "Das Bild (in Graustufen) wird als zweidimensionales array mit ganzzahligen Einträgen von 0 bis 255 importiert. Die Einträge des Arrays codieren die Helligkeit der jeweiligen Pixel. Wir normieren die Einträge auf das Intervall $[0,1]$ und lassen anschließend das Bild anzeigen."
   ]
  },
  {
   "cell_type": "code",
   "execution_count": 16,
   "metadata": {},
   "outputs": [
    {
     "data": {
      "text/plain": [
       "<matplotlib.image.AxesImage at 0x7f4195f11ef0>"
      ]
     },
     "execution_count": 16,
     "metadata": {},
     "output_type": "execute_result"
    },
    {
     "data": {
      "image/png": "[encoded data removed]",
      "text/plain": [
       "<Figure size 432x288 with 1 Axes>"
      ]
     },
     "metadata": {
      "needs_background": "light"
     },
     "output_type": "display_data"
    }
   ],
   "source": [
    "## Quelle der ursprünglichen Version des Beispielbildes: https://upload.wikimedia.org/wikipedia/commons/7/72/Universität_Bonn.svg\n",
    "## Diese ursprüngliche Version des Bildes wurde in Graustufen und das jpg-Format konvertiert. \n",
    "\n",
    "A = imread(\"~/Bonusaufgabe1_beispiel.jpg\")\n",
    "A = A/255\n",
    "plt.figure()\n",
    "plt.gray()\n",
    "plt.imshow(A)\n"
   ]
  },
  {
   "cell_type": "markdown",
   "metadata": {},
   "source": [
    "Sei nun $A$ die oben durch das Bild gegebene Matrix. Führen Sie die (in numpy/scipy vorimplementierte) Singulärwertzerlegung für $A$ aus. Plotten Sie die Singulärwerte und die zu den Matrizen $A_k$ gehörigen Bilder, wobei $A_k$ durch das Abschneiden der Singulärwertzerlegung nach $k$ Singulärwerten entsteht, vgl. Aufgabe 3a) von Blatt 10. Geben Sie jeweils den (relativen) Fehler $\\lVert A - A_k \\rVert_F / \\lVert A \\rVert_F$ bzgl. der Frobeniusnorm an. Geben Sie ferner an, wie viel Prozent des zur Speicherung von $A$ nötigen Speichers noch benötigt wird, um $A_k$ geschickt zu speichern, vgl. Aufgabe 3b) von Blatt 10. \n",
    "\n",
    "Wiederholen Sie dies für eine aussagekräftige Wahl von verschiedenen $k$'s und interpretieren Sie Ihre Ergebnisse. "
   ]
  },
  {
   "cell_type": "code",
   "execution_count": null,
   "metadata": {},
   "outputs": [],
   "source": []
  },
  {
   "cell_type": "markdown",
   "metadata": {},
   "source": [
    "## Bonusaufgabe 2: Perron-Cluster Cluster Analysis (10 Punkte)"
   ]
  },
  {
   "cell_type": "markdown",
   "metadata": {},
   "source": [
    "Erzeugen Sie eine Blockdiagonalmatrix $A$ mit Diagonalblöcken $A_l \\in \\mathbb{R}^{n_l \\times n_l}$, $n_1 = 10$, $n_2 = 20$, $n_3 = 30$, deren Einträge zufällig in $[0,1]$ gewählt sind. Normieren Sie anschließend die Zeilen von $A$ derart, dass $A$ eine stochastische Matrix ist. \n",
    "\n",
    "Berechnen Sie nun mit Hilfe einer geeigneten scipy/numpy-Routine ein System von Eigenvektoren zum Perron-Eigenwert 1 von $A$. Plotten Sie diese berechneten Eigenvektoren. Können Sie die zu den Blöcken gehörigen Indexmengen (\"Cluster\") aus dem Plot ablesen?"
   ]
  },
  {
   "cell_type": "code",
   "execution_count": null,
   "metadata": {},
   "outputs": [],
   "source": []
  },
  {
   "cell_type": "markdown",
   "metadata": {},
   "source": [
    "Bilden Sie nun die Matrix $\\tilde{A} = (1-\\epsilon)A + \\epsilon E$ mit $\\epsilon > 0$ wobei $E \\in \\mathbb{R}^{60 \\times 60}$ eine stochastische Matrix mit zufälligen Einträgen ist. Berechnen Sie nun die Eigenwerte der gestörten Matrix $\\tilde{A}$ und plotten Sie die Eigenvektoren zu denjenigen Eigenwerten, die in einer $\\delta$-Umgebung von 1 liegen. \n",
    "\n",
    "Variieren Sie $\\epsilon$ und versuchen Sie dabei $\\delta$ so anzupassen, dass Sie aus dem Plot der Eigenvektoren noch Clusten ablesen können. "
   ]
  },
  {
   "cell_type": "code",
   "execution_count": null,
   "metadata": {},
   "outputs": [],
   "source": []
  },
  {
   "cell_type": "code",
   "execution_count": null,
   "metadata": {},
   "outputs": [],
   "source": []
  }
 ],
 "metadata": {
  "kernelspec": {
   "display_name": "Python 3",
   "language": "python",
   "name": "python3"
  },
  "language_info": {
   "codemirror_mode": {
    "name": "ipython",
    "version": 3
   },
   "file_extension": ".py",
   "mimetype": "text/x-python",
   "name": "python",
   "nbconvert_exporter": "python",
   "pygments_lexer": "ipython3",
   "version": "3.5.2"
  }
 },
 "nbformat": 4,
 "nbformat_minor": 2
}
