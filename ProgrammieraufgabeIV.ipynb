{
 "cells": [
  {
   "cell_type": "markdown",
   "metadata": {},
   "source": [
    "# Programmieraufgabe IV     ( 6 + 10 + 4 = 20 Punkte) \n",
    "## Abgabe in der Woche 17. bis 21. Dezember"
   ]
  },
  {
   "cell_type": "code",
   "execution_count": 1,
   "metadata": {},
   "outputs": [],
   "source": [
    "import numpy as np \n",
    "import matplotlib.pyplot as plt\n",
    "import numpy.linalg as la"
   ]
  },
  {
   "cell_type": "markdown",
   "metadata": {},
   "source": [
    "## Teilaufgabe a) "
   ]
  },
  {
   "cell_type": "markdown",
   "metadata": {},
   "source": [
    "Schreiben Sie eine Funktion, die eine gegebene Matrix $A$ (numpy-array) mittels Householder-Transformationen in eine obere Hessenbergmatrix überführt. \n"
   ]
  },
  {
   "cell_type": "code",
   "execution_count": 2,
   "metadata": {},
   "outputs": [],
   "source": [
    "# Das ist die Kopie von altem Code\n",
    "\n",
    "def householder(arg, w): \n",
    "    \n",
    "    ## Diese Funktion soll eine Householder-Transformation $I - 2ww^T$ auf das Argument arg (Matrix oder Vektor) anwenden.\n",
    "    \n",
    "    l = len(w)\n",
    "    \n",
    "    H_ = np.identity(l)\n",
    "    for i in range(l):\n",
    "        for j in range(l):\n",
    "            H_[i][j] -= 2*w[i]*w[j]\n",
    "    \n",
    "    (num_rows, num_cols) = np.shape(arg)\n",
    "    \n",
    "    H = np.identity(num_rows)\n",
    "    H[num_rows-l:, num_rows-l:] = H_\n",
    "    \n",
    "    result = H@arg\n",
    "    \n",
    "    return (result, H)"
   ]
  },
  {
   "cell_type": "code",
   "execution_count": 3,
   "metadata": {},
   "outputs": [],
   "source": [
    "# Diese Funktion funktioniert noch nicht.\n",
    "# Die Dimensionen stimmen nicht ueberein.\n",
    "\n",
    "def intohessenberg(A):\n",
    "    \n",
    "    m = np.shape(A)[0] - 2\n",
    "    \n",
    "    for k in range(m):\n",
    "        \n",
    "        v = np.copy(A[...,k][k+1:]) # A[k+1:m][k]\n",
    "        v[0] += np.sign(v[0]) * np.linalg.norm(v)\n",
    "        v = v / np.linalg.norm(v)\n",
    "        \n",
    "        ## Benutzte entweder die alte Funktion von oben:\n",
    "        A,_ = householder(A,v)\n",
    "        \n",
    "        ## Debug output\n",
    "        # print(\"k =\", k)\n",
    "        # print(\"v =\", v)\n",
    "        # print(\"np.transpose(v) =\", np.transpose(v))\n",
    "        # print(\"A[...,k:][k+1:] =\", A[...,k:][k+1:])\n",
    "        # print(\"np.transpose(v) @ A[...,k:][k+1:] =\", np.transpose(v) @ A[...,k:][k+1:])\n",
    "        # print(\"v @ (np.transpose(v) @ A[...,k:][k+1:]) =\", v @ (np.transpose(v) @ A[...,k:][k+1:]))\n",
    "        \n",
    "        ## Oder schreibe die Funktion neu:\n",
    "        # A[...,k:][k+1:] -= 2 * (v @ (np.transpose(v) @ A[...,k:][k+1:])) # A[k+1:m][k:m]\n",
    "        # A[...,k+1:][k:] -= 2 * ((A[...,k+1:][k:] @ v) @ np.transpose(v)) # A[1:m][k+1:m]\n",
    "        \n",
    "        # print(\"\")\n",
    "        \n",
    "    return A"
   ]
  },
  {
   "cell_type": "code",
   "execution_count": 4,
   "metadata": {},
   "outputs": [
    {
     "ename": "IndexError",
     "evalue": "index 3 is out of bounds for axis 1 with size 3",
     "output_type": "error",
     "traceback": [
      "\u001b[0;31m---------------------------------------------------------------------------\u001b[0m",
      "\u001b[0;31mIndexError\u001b[0m                                Traceback (most recent call last)",
      "\u001b[0;32m<ipython-input-4-7a90d4682862>\u001b[0m in \u001b[0;36m<module>\u001b[0;34m\u001b[0m\n\u001b[1;32m      2\u001b[0m \u001b[0mA\u001b[0m \u001b[0;34m=\u001b[0m \u001b[0mnp\u001b[0m\u001b[0;34m.\u001b[0m\u001b[0marray\u001b[0m\u001b[0;34m(\u001b[0m\u001b[0mA\u001b[0m\u001b[0;34m)\u001b[0m\u001b[0;34m.\u001b[0m\u001b[0mastype\u001b[0m\u001b[0;34m(\u001b[0m\u001b[0mfloat\u001b[0m\u001b[0;34m)\u001b[0m\u001b[0;34m\u001b[0m\u001b[0;34m\u001b[0m\u001b[0m\n\u001b[1;32m      3\u001b[0m \u001b[0;34m\u001b[0m\u001b[0m\n\u001b[0;32m----> 4\u001b[0;31m \u001b[0mprint\u001b[0m\u001b[0;34m(\u001b[0m\u001b[0mintohessenberg\u001b[0m\u001b[0;34m(\u001b[0m\u001b[0mA\u001b[0m\u001b[0;34m)\u001b[0m\u001b[0;34m)\u001b[0m\u001b[0;34m\u001b[0m\u001b[0;34m\u001b[0m\u001b[0m\n\u001b[0m",
      "\u001b[0;32m<ipython-input-3-e97923262f98>\u001b[0m in \u001b[0;36mintohessenberg\u001b[0;34m(A)\u001b[0m\n\u001b[1;32m      8\u001b[0m     \u001b[0;32mfor\u001b[0m \u001b[0mk\u001b[0m \u001b[0;32min\u001b[0m \u001b[0mrange\u001b[0m\u001b[0;34m(\u001b[0m\u001b[0mm\u001b[0m\u001b[0;34m)\u001b[0m\u001b[0;34m:\u001b[0m\u001b[0;34m\u001b[0m\u001b[0;34m\u001b[0m\u001b[0m\n\u001b[1;32m      9\u001b[0m \u001b[0;34m\u001b[0m\u001b[0m\n\u001b[0;32m---> 10\u001b[0;31m         \u001b[0mv\u001b[0m \u001b[0;34m=\u001b[0m \u001b[0mnp\u001b[0m\u001b[0;34m.\u001b[0m\u001b[0mcopy\u001b[0m\u001b[0;34m(\u001b[0m\u001b[0mA\u001b[0m\u001b[0;34m[\u001b[0m\u001b[0;34m...\u001b[0m\u001b[0;34m,\u001b[0m\u001b[0mk\u001b[0m\u001b[0;34m]\u001b[0m\u001b[0;34m[\u001b[0m\u001b[0mk\u001b[0m\u001b[0;34m+\u001b[0m\u001b[0;36m1\u001b[0m\u001b[0;34m:\u001b[0m\u001b[0;34m]\u001b[0m\u001b[0;34m)\u001b[0m \u001b[0;31m# A[k+1:m][k]\u001b[0m\u001b[0;34m\u001b[0m\u001b[0;34m\u001b[0m\u001b[0m\n\u001b[0m\u001b[1;32m     11\u001b[0m         \u001b[0mv\u001b[0m\u001b[0;34m[\u001b[0m\u001b[0;36m0\u001b[0m\u001b[0;34m]\u001b[0m \u001b[0;34m+=\u001b[0m \u001b[0mnp\u001b[0m\u001b[0;34m.\u001b[0m\u001b[0msign\u001b[0m\u001b[0;34m(\u001b[0m\u001b[0mv\u001b[0m\u001b[0;34m[\u001b[0m\u001b[0;36m0\u001b[0m\u001b[0;34m]\u001b[0m\u001b[0;34m)\u001b[0m \u001b[0;34m*\u001b[0m \u001b[0mnp\u001b[0m\u001b[0;34m.\u001b[0m\u001b[0mlinalg\u001b[0m\u001b[0;34m.\u001b[0m\u001b[0mnorm\u001b[0m\u001b[0;34m(\u001b[0m\u001b[0mv\u001b[0m\u001b[0;34m)\u001b[0m\u001b[0;34m\u001b[0m\u001b[0;34m\u001b[0m\u001b[0m\n\u001b[1;32m     12\u001b[0m         \u001b[0mv\u001b[0m \u001b[0;34m=\u001b[0m \u001b[0mv\u001b[0m \u001b[0;34m/\u001b[0m \u001b[0mnp\u001b[0m\u001b[0;34m.\u001b[0m\u001b[0mlinalg\u001b[0m\u001b[0;34m.\u001b[0m\u001b[0mnorm\u001b[0m\u001b[0;34m(\u001b[0m\u001b[0mv\u001b[0m\u001b[0;34m)\u001b[0m\u001b[0;34m\u001b[0m\u001b[0;34m\u001b[0m\u001b[0m\n",
      "\u001b[0;31mIndexError\u001b[0m: index 3 is out of bounds for axis 1 with size 3"
     ]
    }
   ],
   "source": [
    "A = [[1,2,3],[4,5,6],[7,8,9],[10,11,12],[13,14,15],[16,17,18],[19,20,21]]\n",
    "A = np.array(A).astype(float)\n",
    "\n",
    "print(intohessenberg(A))"
   ]
  },
  {
   "cell_type": "markdown",
   "metadata": {},
   "source": [
    "## Teilaufgabe b)"
   ]
  },
  {
   "cell_type": "markdown",
   "metadata": {},
   "source": [
    "Implementieren Sie das in der Vorlesung behandelte QR-Verfahren zur Eigenwertbestimmung einer oberen Hessenbergmatrix $A$ (numpy-array). Input der Funktion soll die Matrix $A$, eine maximale Anzahl von Iterationen $\\text{itmax}$ und eine Toleranz $\\text{tol}$ sein, die in ein (sinnvolles) Abbruchkriterium eingeht.\n",
    "\n",
    "Ausgegeben werden soll ein array mit den Näherungen für die Eigenwerte, geordnet nach Größe. Außerdem soll eine Liste der Eigenwertnäherungen aller Iterationen ausgegeben werden. \n",
    "\n",
    "Beachten Sie, dass hier die __in der Vorlesung besprochene praktische Umsetzung des QR-Verfahrens zur Eigenwertbestimmung__ implementiert werden soll, d.h. ein bloßes Ausrechnen der QR-Zerlegung $A=QR$ und anschließende Zuweisung $A \\leftarrow RQ$, explizites Aufstellen und Ausmultiplizieren von Givens-Rotations-Matrizen etc. soll hier _nicht_ verwendet werden!"
   ]
  },
  {
   "cell_type": "code",
   "execution_count": 5,
   "metadata": {},
   "outputs": [],
   "source": [
    "def qr_eigenvalues(A, itmax, tol):\n",
    "    \n",
    "    ## to be completed ##\n",
    "    \n",
    "    return eigvals, eigvalslist"
   ]
  },
  {
   "cell_type": "markdown",
   "metadata": {},
   "source": [
    "Testen Sie Ihre Implementierung, indem Sie Ihre Ergebnisse für eine zufällige symmetrische $10 \\times 10$-Matrix und die übliche Matrix $A = \\text{tridiag}(-1,4,-1) \\in \\mathbb{R}^{5 \\times 5}$ mit der in numpy vorimplementierten Eigenwertberechnung (wählen Sie eine geeignete Routine) vergleichen. "
   ]
  },
  {
   "cell_type": "code",
   "execution_count": 6,
   "metadata": {},
   "outputs": [
    {
     "name": "stdout",
     "output_type": "stream",
     "text": [
      "[[ 2.40604667  2.85777295 -0.32696867  3.70245298  7.26366679 -4.89243996\n",
      "  -3.66081887 -1.22788368 -3.9676795  -6.28515257]\n",
      " [ 2.85777295 -5.13926362 -2.53497169  0.82540933 -1.67964657  0.2501766\n",
      "   0.6344695  -4.29001542 -4.55870887  2.30514985]\n",
      " [-0.32696867 -2.53497169 -1.36198636 -3.74157333  1.00061366 -3.29488944\n",
      "  -2.62216441  0.68295915  5.06851717 -5.13681696]\n",
      " [ 3.70245298  0.82540933 -3.74157333  8.9408121   4.16514476 -8.44189906\n",
      "  -0.50649962  0.32410388 -0.92603304 -5.54896404]\n",
      " [ 7.26366679 -1.67964657  1.00061366  4.16514476 -3.59862349  8.00527062\n",
      "  -4.19233843  2.92300632  1.0824948   3.70758741]\n",
      " [-4.89243996  0.2501766  -3.29488944 -8.44189906  8.00527062 -6.06149765\n",
      "   2.49583757  9.49002733 -4.68864592 -9.66311224]\n",
      " [-3.66081887  0.6344695  -2.62216441 -0.50649962 -4.19233843  2.49583757\n",
      "   8.54627225  0.13770504  8.6116958   3.83000082]\n",
      " [-1.22788368 -4.29001542  0.68295915  0.32410388  2.92300632  9.49002733\n",
      "   0.13770504 -1.4176214  -3.96758916 -4.17726326]\n",
      " [-3.9676795  -4.55870887  5.06851717 -0.92603304  1.0824948  -4.68864592\n",
      "   8.6116958  -3.96758916 -0.74156628  0.0569392 ]\n",
      " [-6.28515257  2.30514985 -5.13681696 -5.54896404  3.70758741 -9.66311224\n",
      "   3.83000082 -4.17726326  0.0569392   8.88913876]]\n",
      "[[ 4. -1.  0.  0.  0.]\n",
      " [-1.  4. -1.  0.  0.]\n",
      " [ 0. -1.  4. -1.  0.]\n",
      " [ 0.  0. -1.  4. -1.]\n",
      " [ 0.  0.  0. -1.  4.]]\n"
     ]
    }
   ],
   "source": [
    "scal = 10 # Skaliere die Zufallszahlen -> [-scal,scal)\n",
    "\n",
    "# np.random.random_sample((m,n)) gives B \\in [0,1)^(m x n)\n",
    "# https://docs.scipy.org/doc/numpy/reference/generated/numpy.random.random.html\n",
    "B = 2*scal*(np.random.random_sample((10,10)) - .5)\n",
    "B = (B + B.T)/2\n",
    "\n",
    "A = [[4,-1,0,0,0],\n",
    "     [-1,4,-1,0,0],\n",
    "     [0,-1,4,-1,0],\n",
    "     [0,0,-1,4,-1],\n",
    "     [0,0,0,-1,4]]\n",
    "A = np.array(A).astype(float)\n",
    "\n",
    "print(B)\n",
    "print(A)"
   ]
  },
  {
   "cell_type": "code",
   "execution_count": 7,
   "metadata": {},
   "outputs": [
    {
     "ename": "NameError",
     "evalue": "name 'eigvals' is not defined",
     "output_type": "error",
     "traceback": [
      "\u001b[0;31m---------------------------------------------------------------------------\u001b[0m",
      "\u001b[0;31mNameError\u001b[0m                                 Traceback (most recent call last)",
      "\u001b[0;32m<ipython-input-7-64059358ecce>\u001b[0m in \u001b[0;36m<module>\u001b[0;34m\u001b[0m\n\u001b[1;32m      2\u001b[0m \u001b[0mtol\u001b[0m \u001b[0;34m=\u001b[0m \u001b[0;36m.001\u001b[0m\u001b[0;34m\u001b[0m\u001b[0;34m\u001b[0m\u001b[0m\n\u001b[1;32m      3\u001b[0m \u001b[0;34m\u001b[0m\u001b[0m\n\u001b[0;32m----> 4\u001b[0;31m \u001b[0mmyeigvalsA\u001b[0m\u001b[0;34m,\u001b[0m \u001b[0m_\u001b[0m \u001b[0;34m=\u001b[0m \u001b[0mqr_eigenvalues\u001b[0m\u001b[0;34m(\u001b[0m\u001b[0mA\u001b[0m\u001b[0;34m,\u001b[0m \u001b[0mitmax\u001b[0m\u001b[0;34m,\u001b[0m \u001b[0mtol\u001b[0m\u001b[0;34m)\u001b[0m\u001b[0;34m\u001b[0m\u001b[0;34m\u001b[0m\u001b[0m\n\u001b[0m\u001b[1;32m      5\u001b[0m \u001b[0mmyeigvalsB\u001b[0m\u001b[0;34m,\u001b[0m \u001b[0m_\u001b[0m \u001b[0;34m=\u001b[0m \u001b[0mqr_eigenvalues\u001b[0m\u001b[0;34m(\u001b[0m\u001b[0mB\u001b[0m\u001b[0;34m,\u001b[0m \u001b[0mitmax\u001b[0m\u001b[0;34m,\u001b[0m \u001b[0mtol\u001b[0m\u001b[0;34m)\u001b[0m\u001b[0;34m\u001b[0m\u001b[0;34m\u001b[0m\u001b[0m\n",
      "\u001b[0;32m<ipython-input-5-658b7521662f>\u001b[0m in \u001b[0;36mqr_eigenvalues\u001b[0;34m(A, itmax, tol)\u001b[0m\n\u001b[1;32m      3\u001b[0m     \u001b[0;31m## to be completed ##\u001b[0m\u001b[0;34m\u001b[0m\u001b[0;34m\u001b[0m\u001b[0;34m\u001b[0m\u001b[0m\n\u001b[1;32m      4\u001b[0m \u001b[0;34m\u001b[0m\u001b[0m\n\u001b[0;32m----> 5\u001b[0;31m     \u001b[0;32mreturn\u001b[0m \u001b[0meigvals\u001b[0m\u001b[0;34m,\u001b[0m \u001b[0meigvalslist\u001b[0m\u001b[0;34m\u001b[0m\u001b[0;34m\u001b[0m\u001b[0m\n\u001b[0m",
      "\u001b[0;31mNameError\u001b[0m: name 'eigvals' is not defined"
     ]
    }
   ],
   "source": [
    "itmax = 100\n",
    "tol = .001\n",
    "\n",
    "myeigvalsA, _ = qr_eigenvalues(A, itmax, tol)\n",
    "myeigvalsB, _ = qr_eigenvalues(B, itmax, tol)"
   ]
  },
  {
   "cell_type": "code",
   "execution_count": 8,
   "metadata": {},
   "outputs": [
    {
     "name": "stdout",
     "output_type": "stream",
     "text": [
      "A:\n",
      "w_0 = 2.26794919243\n",
      "v_0 = [-0.28867513 -0.5        -0.57735027 -0.5        -0.28867513]\n",
      "w_1 = 3.0\n",
      "v_1 = [  5.00000000e-01   5.00000000e-01   3.42143760e-16  -5.00000000e-01\n",
      "  -5.00000000e-01]\n",
      "w_2 = 4.0\n",
      "v_2 = [  5.77350269e-01   4.90435668e-17  -5.77350269e-01   4.10676918e-16\n",
      "   5.77350269e-01]\n",
      "w_3 = 5.73205080757\n",
      "v_3 = [-0.28867513  0.5        -0.57735027  0.5        -0.28867513]\n",
      "w_4 = 5.0\n",
      "v_4 = [ -5.00000000e-01   5.00000000e-01   5.56426531e-16  -5.00000000e-01\n",
      "   5.00000000e-01]\n",
      "B:\n",
      "w_0 = -26.4331303022\n",
      "v_0 = [-0.2805701   0.09377316 -0.16385062 -0.25847598  0.45408771 -0.65671322\n",
      "  0.13310825  0.12079476 -0.16785572 -0.34767446]\n",
      "w_1 = 23.0855583111\n",
      "v_1 = [ 0.39130436 -0.00793919  0.04745726  0.31927073  0.21411704  0.15783951\n",
      " -0.47384586  0.21471156 -0.29563659 -0.5602147 ]\n",
      "w_2 = -13.8719891173\n",
      "v_2 = [-0.09930041 -0.43812672  0.26561504  0.07549429  0.17125721  0.12437069\n",
      "  0.27796621 -0.50765527 -0.5846568  -0.01827297]\n",
      "w_3 = -7.80923374435\n",
      "v_3 = [ 0.27240243 -0.68916905 -0.58213578 -0.19673277 -0.17579971 -0.12645299\n",
      " -0.07739075 -0.04935162  0.11034165 -0.07590121]\n",
      "w_4 = -7.04171035221\n",
      "v_4 = [ 0.31278952 -0.15225764  0.33801145 -0.02539243 -0.33692165 -0.33642585\n",
      "  0.23233103  0.5644803  -0.34534625  0.21332021]\n",
      "w_5 = 17.211850795\n",
      "v_5 = [ 0.29040535  0.17105151 -0.12511941  0.54488347  0.0086411  -0.54384347\n",
      " -0.13664052 -0.40000804 -0.00463483  0.31514174]\n",
      "w_6 = 1.68828261197\n",
      "v_6 = [-0.68693021 -0.33362449 -0.0028715   0.41091947 -0.13310528 -0.08776949\n",
      " -0.37243529  0.25902519 -0.04499367  0.12129099]\n",
      "w_7 = 3.51501312192\n",
      "v_7 = [ 0.17150813 -0.32391757  0.21645003  0.04717018  0.71622722  0.05642365\n",
      " -0.01135635  0.21777967  0.33357435  0.37628828]\n",
      "w_8 = 8.22440180553\n",
      "v_8 = [-0.02324562  0.16037753 -0.59162786  0.3495528   0.17312367  0.29327477\n",
      "  0.44687403  0.29307313 -0.27374135  0.15818824]\n",
      "w_9 = 11.8926678509\n",
      "v_9 = [ 0.00982829  0.17275622 -0.18622128 -0.44276793  0.11602823  0.08068909\n",
      " -0.51314325 -0.0099894  -0.47213185  0.48274149]\n"
     ]
    }
   ],
   "source": [
    "# The column v[:,i] is the eigenvector corresponding to the eigenvalue w[i]\n",
    "# https://docs.scipy.org/doc/numpy/reference/generated/numpy.linalg.eig.html\n",
    "\n",
    "w1, v1 = la.eig(A)\n",
    "w2, v2 = la.eig(B)\n",
    "eigvalsA = w1\n",
    "eigvalsB = w2\n",
    "\n",
    "print(\"A:\")\n",
    "for i in range(w1.shape[0]):\n",
    "    print(\"w_\" + str(i), \"=\", w1[i])\n",
    "    print(\"v_\" + str(i), \"=\", v1[:,i])\n",
    "print(\"B:\")\n",
    "for i in range(w2.shape[0]):\n",
    "    print(\"w_\" + str(i), \"=\", w2[i])\n",
    "    print(\"v_\" + str(i), \"=\", v2[:,i])"
   ]
  },
  {
   "cell_type": "markdown",
   "metadata": {},
   "source": [
    "## Teilaufgabe c) "
   ]
  },
  {
   "cell_type": "markdown",
   "metadata": {},
   "source": [
    "Erstellen Sie einen Plot, aus dem für jeden Eigenwert der Matrix die Konvergenzgeschwindigkeit der jeweiligen Eigenwertnäherungen des QR-Verfahrens hervorgeht. Als die \"richtigen\" Eigenwerte können Sie beispielsweise die mit einer numpy-Routine berechneten Eigenwerte oder die letzte Iterierte Ihres Verfahrens verwenden. \n",
    "\n",
    "Test-Matrix soll $B = B(a,b,c,d)$ wie unten angegeben sein. \n",
    "\n",
    "Variieren Sie die Parameter $a,b,c,d$ und interpretieren Sie Ihre Beobachtungen."
   ]
  },
  {
   "cell_type": "code",
   "execution_count": 9,
   "metadata": {},
   "outputs": [
    {
     "ename": "NameError",
     "evalue": "name 'eigvals' is not defined",
     "output_type": "error",
     "traceback": [
      "\u001b[0;31m---------------------------------------------------------------------------\u001b[0m",
      "\u001b[0;31mNameError\u001b[0m                                 Traceback (most recent call last)",
      "\u001b[0;32m<ipython-input-9-d4d8497c20fd>\u001b[0m in \u001b[0;36m<module>\u001b[0;34m\u001b[0m\n\u001b[1;32m      9\u001b[0m \u001b[0;34m\u001b[0m\u001b[0m\n\u001b[1;32m     10\u001b[0m \u001b[0msolution\u001b[0m\u001b[0;34m,\u001b[0m \u001b[0m_\u001b[0m \u001b[0;34m=\u001b[0m \u001b[0mla\u001b[0m\u001b[0;34m.\u001b[0m\u001b[0meig\u001b[0m\u001b[0;34m(\u001b[0m\u001b[0mB\u001b[0m\u001b[0;34m)\u001b[0m\u001b[0;34m\u001b[0m\u001b[0;34m\u001b[0m\u001b[0m\n\u001b[0;32m---> 11\u001b[0;31m \u001b[0m_\u001b[0m\u001b[0;34m,\u001b[0m \u001b[0meigvalslist\u001b[0m \u001b[0;34m=\u001b[0m \u001b[0mqr_eigenvalues\u001b[0m\u001b[0;34m(\u001b[0m\u001b[0mB\u001b[0m\u001b[0;34m,\u001b[0m \u001b[0mitmax\u001b[0m\u001b[0;34m,\u001b[0m \u001b[0mtol\u001b[0m\u001b[0;34m)\u001b[0m\u001b[0;34m\u001b[0m\u001b[0;34m\u001b[0m\u001b[0m\n\u001b[0m\u001b[1;32m     12\u001b[0m \u001b[0mprint\u001b[0m\u001b[0;34m(\u001b[0m\u001b[0msolution\u001b[0m\u001b[0;34m)\u001b[0m\u001b[0;34m\u001b[0m\u001b[0;34m\u001b[0m\u001b[0m\n\u001b[1;32m     13\u001b[0m \u001b[0;34m\u001b[0m\u001b[0m\n",
      "\u001b[0;32m<ipython-input-5-658b7521662f>\u001b[0m in \u001b[0;36mqr_eigenvalues\u001b[0;34m(A, itmax, tol)\u001b[0m\n\u001b[1;32m      3\u001b[0m     \u001b[0;31m## to be completed ##\u001b[0m\u001b[0;34m\u001b[0m\u001b[0;34m\u001b[0m\u001b[0;34m\u001b[0m\u001b[0m\n\u001b[1;32m      4\u001b[0m \u001b[0;34m\u001b[0m\u001b[0m\n\u001b[0;32m----> 5\u001b[0;31m     \u001b[0;32mreturn\u001b[0m \u001b[0meigvals\u001b[0m\u001b[0;34m,\u001b[0m \u001b[0meigvalslist\u001b[0m\u001b[0;34m\u001b[0m\u001b[0;34m\u001b[0m\u001b[0m\n\u001b[0m",
      "\u001b[0;31mNameError\u001b[0m: name 'eigvals' is not defined"
     ]
    }
   ],
   "source": [
    "a = 1\n",
    "b = 2 \n",
    "c = 3\n",
    "d = 4\n",
    "\n",
    "T = 0.5*np.array([[1,1,1,1],[1,1,-1,-1],[-1,1,-1,1],[-1,1,1,-1]])\n",
    "B = np.diag([a, b, c, d])\n",
    "B = T.T @ (B @ T) # np.matmul(T.T, np.matmul(B, T))\n",
    "\n",
    "solution, _ = la.eig(B)\n",
    "_, eigvalslist = qr_eigenvalues(B, itmax, tol)\n",
    "print(solution)\n",
    "\n",
    "eigvalplot = [np.linalg.norm(eigval - solution) for eigval in eigvallist]\n",
    "\n",
    "\n",
    "plt.plot(eigvalplot, label=\"eigval B\")\n",
    "\n",
    "plt.legend()\n",
    "plt.show()\n",
    "plt.close()"
   ]
  }
 ],
 "metadata": {
  "kernelspec": {
   "display_name": "Python 3",
   "language": "python",
   "name": "python3"
  },
  "language_info": {
   "codemirror_mode": {
    "name": "ipython",
    "version": 3
   },
   "file_extension": ".py",
   "mimetype": "text/x-python",
   "name": "python",
   "nbconvert_exporter": "python",
   "pygments_lexer": "ipython3",
   "version": "3.6.7"
  }
 },
 "nbformat": 4,
 "nbformat_minor": 2
}
