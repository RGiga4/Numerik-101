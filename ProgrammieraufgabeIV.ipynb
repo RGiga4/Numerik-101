{
 "cells": [
  {
   "cell_type": "markdown",
   "metadata": {},
   "source": [
    "# Programmieraufgabe IV     ( 6 + 10 + 4 = 20 Punkte) \n",
    "## Abgabe in der Woche 17. bis 21. Dezember"
   ]
  },
  {
   "cell_type": "code",
   "execution_count": 1,
   "metadata": {},
   "outputs": [],
   "source": [
    "import numpy as np \n",
    "import matplotlib.pyplot as plt\n",
    "import numpy.linalg as la"
   ]
  },
  {
   "cell_type": "markdown",
   "metadata": {},
   "source": [
    "## Teilaufgabe a) "
   ]
  },
  {
   "cell_type": "markdown",
   "metadata": {},
   "source": [
    "Schreiben Sie eine Funktion, die eine gegebene Matrix $A$ (numpy-array) mittels Householder-Transformationen in eine obere Hessenbergmatrix überführt. \n"
   ]
  },
  {
   "cell_type": "code",
   "execution_count": 2,
   "metadata": {},
   "outputs": [],
   "source": [
    "# Das ist die Kopie von altem Code\n",
    "\n",
    "def householder(arg, w): \n",
    "    \n",
    "    ## Diese Funktion soll eine Householder-Transformation $I - 2ww^T$ auf das Argument arg (Matrix oder Vektor) anwenden.\n",
    "    \n",
    "    l = len(w)\n",
    "    \n",
    "    H_ = np.identity(l)\n",
    "    for i in range(l):\n",
    "        for j in range(l):\n",
    "            H_[i][j] -= 2*w[i]*w[j]\n",
    "    \n",
    "    (num_rows, num_cols) = np.shape(arg)\n",
    "    \n",
    "    H = np.identity(num_rows)\n",
    "    H[num_rows-l:, num_rows-l:] = H_\n",
    "    \n",
    "    result = H@arg\n",
    "    \n",
    "    return (result, H)"
   ]
  },
  {
   "cell_type": "code",
   "execution_count": 3,
   "metadata": {},
   "outputs": [],
   "source": [
    "# Diese Funktion funktioniert noch nicht.\n",
    "# Die Dimensionen stimmen nicht ueberein.\n",
    "\n",
    "def intohessenberg(A):\n",
    "    \n",
    "    m = np.shape(A)[0] - 2\n",
    "    \n",
    "    for k in range(m):\n",
    "        \n",
    "        v = np.copy(A[...,k][k+1:]) # A[k+1:m][k]\n",
    "        v[0] += np.sign(v[0]) * np.linalg.norm(v)\n",
    "        v = v / np.linalg.norm(v)\n",
    "        \n",
    "        ## Benutzte entweder die alte Funktion von oben:\n",
    "        A,_ = householder(A,v)\n",
    "        \n",
    "        ## Debug output\n",
    "        # print(\"k =\", k)\n",
    "        # print(\"v =\", v)\n",
    "        # print(\"np.transpose(v) =\", np.transpose(v))\n",
    "        # print(\"A[...,k:][k+1:] =\", A[...,k:][k+1:])\n",
    "        # print(\"np.transpose(v) @ A[...,k:][k+1:] =\", np.transpose(v) @ A[...,k:][k+1:])\n",
    "        # print(\"v @ (np.transpose(v) @ A[...,k:][k+1:]) =\", v @ (np.transpose(v) @ A[...,k:][k+1:]))\n",
    "        \n",
    "        ## Oder schreibe die Funktion neu:\n",
    "        # A[...,k:][k+1:] -= 2 * (v @ (np.transpose(v) @ A[...,k:][k+1:])) # A[k+1:m][k:m]\n",
    "        # A[...,k+1:][k:] -= 2 * ((A[...,k+1:][k:] @ v) @ np.transpose(v)) # A[1:m][k+1:m]\n",
    "        \n",
    "        # print(\"\")\n",
    "        \n",
    "    return A"
   ]
  },
  {
   "cell_type": "code",
   "execution_count": 4,
   "metadata": {},
   "outputs": [
    {
     "ename": "IndexError",
     "evalue": "index 3 is out of bounds for axis 1 with size 3",
     "output_type": "error",
     "traceback": [
      "\u001b[0;31m---------------------------------------------------------------------------\u001b[0m",
      "\u001b[0;31mIndexError\u001b[0m                                Traceback (most recent call last)",
      "\u001b[0;32m<ipython-input-4-7a90d4682862>\u001b[0m in \u001b[0;36m<module>\u001b[0;34m\u001b[0m\n\u001b[1;32m      2\u001b[0m \u001b[0mA\u001b[0m \u001b[0;34m=\u001b[0m \u001b[0mnp\u001b[0m\u001b[0;34m.\u001b[0m\u001b[0marray\u001b[0m\u001b[0;34m(\u001b[0m\u001b[0mA\u001b[0m\u001b[0;34m)\u001b[0m\u001b[0;34m.\u001b[0m\u001b[0mastype\u001b[0m\u001b[0;34m(\u001b[0m\u001b[0mfloat\u001b[0m\u001b[0;34m)\u001b[0m\u001b[0;34m\u001b[0m\u001b[0;34m\u001b[0m\u001b[0m\n\u001b[1;32m      3\u001b[0m \u001b[0;34m\u001b[0m\u001b[0m\n\u001b[0;32m----> 4\u001b[0;31m \u001b[0mprint\u001b[0m\u001b[0;34m(\u001b[0m\u001b[0mintohessenberg\u001b[0m\u001b[0;34m(\u001b[0m\u001b[0mA\u001b[0m\u001b[0;34m)\u001b[0m\u001b[0;34m)\u001b[0m\u001b[0;34m\u001b[0m\u001b[0;34m\u001b[0m\u001b[0m\n\u001b[0m",
      "\u001b[0;32m<ipython-input-3-e97923262f98>\u001b[0m in \u001b[0;36mintohessenberg\u001b[0;34m(A)\u001b[0m\n\u001b[1;32m      8\u001b[0m     \u001b[0;32mfor\u001b[0m \u001b[0mk\u001b[0m \u001b[0;32min\u001b[0m \u001b[0mrange\u001b[0m\u001b[0;34m(\u001b[0m\u001b[0mm\u001b[0m\u001b[0;34m)\u001b[0m\u001b[0;34m:\u001b[0m\u001b[0;34m\u001b[0m\u001b[0;34m\u001b[0m\u001b[0m\n\u001b[1;32m      9\u001b[0m \u001b[0;34m\u001b[0m\u001b[0m\n\u001b[0;32m---> 10\u001b[0;31m         \u001b[0mv\u001b[0m \u001b[0;34m=\u001b[0m \u001b[0mnp\u001b[0m\u001b[0;34m.\u001b[0m\u001b[0mcopy\u001b[0m\u001b[0;34m(\u001b[0m\u001b[0mA\u001b[0m\u001b[0;34m[\u001b[0m\u001b[0;34m...\u001b[0m\u001b[0;34m,\u001b[0m\u001b[0mk\u001b[0m\u001b[0;34m]\u001b[0m\u001b[0;34m[\u001b[0m\u001b[0mk\u001b[0m\u001b[0;34m+\u001b[0m\u001b[0;36m1\u001b[0m\u001b[0;34m:\u001b[0m\u001b[0;34m]\u001b[0m\u001b[0;34m)\u001b[0m \u001b[0;31m# A[k+1:m][k]\u001b[0m\u001b[0;34m\u001b[0m\u001b[0;34m\u001b[0m\u001b[0m\n\u001b[0m\u001b[1;32m     11\u001b[0m         \u001b[0mv\u001b[0m\u001b[0;34m[\u001b[0m\u001b[0;36m0\u001b[0m\u001b[0;34m]\u001b[0m \u001b[0;34m+=\u001b[0m \u001b[0mnp\u001b[0m\u001b[0;34m.\u001b[0m\u001b[0msign\u001b[0m\u001b[0;34m(\u001b[0m\u001b[0mv\u001b[0m\u001b[0;34m[\u001b[0m\u001b[0;36m0\u001b[0m\u001b[0;34m]\u001b[0m\u001b[0;34m)\u001b[0m \u001b[0;34m*\u001b[0m \u001b[0mnp\u001b[0m\u001b[0;34m.\u001b[0m\u001b[0mlinalg\u001b[0m\u001b[0;34m.\u001b[0m\u001b[0mnorm\u001b[0m\u001b[0;34m(\u001b[0m\u001b[0mv\u001b[0m\u001b[0;34m)\u001b[0m\u001b[0;34m\u001b[0m\u001b[0;34m\u001b[0m\u001b[0m\n\u001b[1;32m     12\u001b[0m         \u001b[0mv\u001b[0m \u001b[0;34m=\u001b[0m \u001b[0mv\u001b[0m \u001b[0;34m/\u001b[0m \u001b[0mnp\u001b[0m\u001b[0;34m.\u001b[0m\u001b[0mlinalg\u001b[0m\u001b[0;34m.\u001b[0m\u001b[0mnorm\u001b[0m\u001b[0;34m(\u001b[0m\u001b[0mv\u001b[0m\u001b[0;34m)\u001b[0m\u001b[0;34m\u001b[0m\u001b[0;34m\u001b[0m\u001b[0m\n",
      "\u001b[0;31mIndexError\u001b[0m: index 3 is out of bounds for axis 1 with size 3"
     ]
    }
   ],
   "source": [
    "A = [[1,2,3],[4,5,6],[7,8,9],[10,11,12],[13,14,15],[16,17,18],[19,20,21]]\n",
    "A = np.array(A).astype(float)\n",
    "\n",
    "print(intohessenberg(A))"
   ]
  },
  {
   "cell_type": "markdown",
   "metadata": {},
   "source": [
    "## Teilaufgabe b)"
   ]
  },
  {
   "cell_type": "markdown",
   "metadata": {},
   "source": [
    "Implementieren Sie das in der Vorlesung behandelte QR-Verfahren zur Eigenwertbestimmung einer oberen Hessenbergmatrix $A$ (numpy-array). Input der Funktion soll die Matrix $A$, eine maximale Anzahl von Iterationen $\\text{itmax}$ und eine Toleranz $\\text{tol}$ sein, die in ein (sinnvolles) Abbruchkriterium eingeht.\n",
    "\n",
    "Ausgegeben werden soll ein array mit den Näherungen für die Eigenwerte, geordnet nach Größe. Außerdem soll eine Liste der Eigenwertnäherungen aller Iterationen ausgegeben werden. \n",
    "\n",
    "Beachten Sie, dass hier die __in der Vorlesung besprochene praktische Umsetzung des QR-Verfahrens zur Eigenwertbestimmung__ implementiert werden soll, d.h. ein bloßes Ausrechnen der QR-Zerlegung $A=QR$ und anschließende Zuweisung $A \\leftarrow RQ$, explizites Aufstellen und Ausmultiplizieren von Givens-Rotations-Matrizen etc. soll hier _nicht_ verwendet werden!"
   ]
  },
  {
   "cell_type": "code",
   "execution_count": 5,
   "metadata": {},
   "outputs": [],
   "source": [
    "def qr_eigenvalues(A, itmax, tol):\n",
    "    \n",
    "    ## to be completed ## \n",
    "    \n",
    "    return eigvals, eigvalslist"
   ]
  },
  {
   "cell_type": "markdown",
   "metadata": {},
   "source": [
    "Testen Sie Ihre Implementierung, indem Sie Ihre Ergebnisse für eine zufällige symmetrische $10 \\times 10$-Matrix und die übliche Matrix $A = \\text{tridiag}(1,4,1) \\in \\mathbb{R}^{5 \\times 5}$ mit der in numpy vorimplementierten Eigenwertberechnung (wählen Sie eine geeignete Routine) vergleichen. "
   ]
  },
  {
   "cell_type": "code",
   "execution_count": 6,
   "metadata": {},
   "outputs": [
    {
     "name": "stdout",
     "output_type": "stream",
     "text": [
      "[[-9.20582213  1.86306617  1.0872166   5.5475277   4.20478795  0.521884\n",
      "   3.56424079 -5.937172   -2.01972305 -3.70674653]\n",
      " [ 1.86306617 -2.47262564 -1.33439045 -0.54312285 -7.27289303  6.3225056\n",
      "  -0.23054862  4.82187046  7.06005108 -3.44853081]\n",
      " [ 1.0872166  -1.33439045 -4.14376918 -1.93910766  0.02100098  2.86051122\n",
      "  -8.3068246  -7.30953196  0.56116171  3.2979913 ]\n",
      " [ 5.5475277  -0.54312285 -1.93910766 -9.22040504  2.62956324 -2.49373416\n",
      "  -5.58519935 -6.64094036 -5.78158029  0.56592371]\n",
      " [ 4.20478795 -7.27289303  0.02100098  2.62956324 -0.03753951  1.79069063\n",
      "  -0.44885444  2.51585068 -2.66185208  6.3143901 ]\n",
      " [ 0.521884    6.3225056   2.86051122 -2.49373416  1.79069063  5.77721975\n",
      "   3.55110188 -6.32014607 -6.80786532  0.26305219]\n",
      " [ 3.56424079 -0.23054862 -8.3068246  -5.58519935 -0.44885444  3.55110188\n",
      "   4.28118487  0.18950242  1.44259708  3.46007959]\n",
      " [-5.937172    4.82187046 -7.30953196 -6.64094036  2.51585068 -6.32014607\n",
      "   0.18950242 -8.65982355 -4.37516108 -3.89458278]\n",
      " [-2.01972305  7.06005108  0.56116171 -5.78158029 -2.66185208 -6.80786532\n",
      "   1.44259708 -4.37516108  0.59435876 -1.23447582]\n",
      " [-3.70674653 -3.44853081  3.2979913   0.56592371  6.3143901   0.26305219\n",
      "   3.46007959 -3.89458278 -1.23447582 -8.19332939]]\n",
      "[[ 4.  1.  0.  0.  0.]\n",
      " [ 1.  4.  1.  0.  0.]\n",
      " [ 0.  1.  4.  1.  0.]\n",
      " [ 0.  0.  1.  4.  1.]\n",
      " [ 0.  0.  0.  1.  4.]]\n"
     ]
    }
   ],
   "source": [
    "scal = 10 # Skaliere die Zufallszahlen -> [-scal,scal)\n",
    "\n",
    "# np.random.random_sample((m,n)) gives B \\in [0,1)^(m x n)\n",
    "# https://docs.scipy.org/doc/numpy/reference/generated/numpy.random.random.html\n",
    "B = 2*scal*(np.random.random_sample((10,10)) - .5)\n",
    "B = (B + B.T)/2\n",
    "\n",
    "A = [[4,1,0,0,0],\n",
    "     [1,4,1,0,0],\n",
    "     [0,1,4,1,0],\n",
    "     [0,0,1,4,1],\n",
    "     [0,0,0,1,4]]\n",
    "A = np.array(A).astype(float)\n",
    "\n",
    "print(B)\n",
    "print(A)"
   ]
  },
  {
   "cell_type": "code",
   "execution_count": 7,
   "metadata": {},
   "outputs": [
    {
     "ename": "NameError",
     "evalue": "name 'eigvals' is not defined",
     "output_type": "error",
     "traceback": [
      "\u001b[0;31m---------------------------------------------------------------------------\u001b[0m",
      "\u001b[0;31mNameError\u001b[0m                                 Traceback (most recent call last)",
      "\u001b[0;32m<ipython-input-7-64059358ecce>\u001b[0m in \u001b[0;36m<module>\u001b[0;34m\u001b[0m\n\u001b[1;32m      2\u001b[0m \u001b[0mtol\u001b[0m \u001b[0;34m=\u001b[0m \u001b[0;36m.001\u001b[0m\u001b[0;34m\u001b[0m\u001b[0;34m\u001b[0m\u001b[0m\n\u001b[1;32m      3\u001b[0m \u001b[0;34m\u001b[0m\u001b[0m\n\u001b[0;32m----> 4\u001b[0;31m \u001b[0mmyeigvalsA\u001b[0m\u001b[0;34m,\u001b[0m \u001b[0m_\u001b[0m \u001b[0;34m=\u001b[0m \u001b[0mqr_eigenvalues\u001b[0m\u001b[0;34m(\u001b[0m\u001b[0mA\u001b[0m\u001b[0;34m,\u001b[0m \u001b[0mitmax\u001b[0m\u001b[0;34m,\u001b[0m \u001b[0mtol\u001b[0m\u001b[0;34m)\u001b[0m\u001b[0;34m\u001b[0m\u001b[0;34m\u001b[0m\u001b[0m\n\u001b[0m\u001b[1;32m      5\u001b[0m \u001b[0mmyeigvalsB\u001b[0m\u001b[0;34m,\u001b[0m \u001b[0m_\u001b[0m \u001b[0;34m=\u001b[0m \u001b[0mqr_eigenvalues\u001b[0m\u001b[0;34m(\u001b[0m\u001b[0mB\u001b[0m\u001b[0;34m,\u001b[0m \u001b[0mitmax\u001b[0m\u001b[0;34m,\u001b[0m \u001b[0mtol\u001b[0m\u001b[0;34m)\u001b[0m\u001b[0;34m\u001b[0m\u001b[0;34m\u001b[0m\u001b[0m\n",
      "\u001b[0;32m<ipython-input-5-672de7c1f5eb>\u001b[0m in \u001b[0;36mqr_eigenvalues\u001b[0;34m(A, itmax, tol)\u001b[0m\n\u001b[1;32m      3\u001b[0m     \u001b[0;31m## to be completed ##\u001b[0m\u001b[0;34m\u001b[0m\u001b[0;34m\u001b[0m\u001b[0;34m\u001b[0m\u001b[0m\n\u001b[1;32m      4\u001b[0m \u001b[0;34m\u001b[0m\u001b[0m\n\u001b[0;32m----> 5\u001b[0;31m     \u001b[0;32mreturn\u001b[0m \u001b[0meigvals\u001b[0m\u001b[0;34m,\u001b[0m \u001b[0meigvalslist\u001b[0m\u001b[0;34m\u001b[0m\u001b[0;34m\u001b[0m\u001b[0m\n\u001b[0m",
      "\u001b[0;31mNameError\u001b[0m: name 'eigvals' is not defined"
     ]
    }
   ],
   "source": [
    "itmax = 100\n",
    "tol = .001\n",
    "\n",
    "myeigvalsA, _ = qr_eigenvalues(A, itmax, tol)\n",
    "myeigvalsB, _ = qr_eigenvalues(B, itmax, tol)"
   ]
  },
  {
   "cell_type": "code",
   "execution_count": 8,
   "metadata": {},
   "outputs": [
    {
     "name": "stdout",
     "output_type": "stream",
     "text": [
      "A:\n",
      "w_0 = 2.26794919243\n",
      "v_0 = [-0.28867513  0.5        -0.57735027  0.5        -0.28867513]\n",
      "w_1 = 3.0\n",
      "v_1 = [ -5.00000000e-01   5.00000000e-01  -3.42143760e-16  -5.00000000e-01\n",
      "   5.00000000e-01]\n",
      "w_2 = 4.0\n",
      "v_2 = [  5.77350269e-01  -4.90435668e-17  -5.77350269e-01  -4.10676918e-16\n",
      "   5.77350269e-01]\n",
      "w_3 = 5.73205080757\n",
      "v_3 = [ 0.28867513  0.5         0.57735027  0.5         0.28867513]\n",
      "w_4 = 5.0\n",
      "v_4 = [ -5.00000000e-01  -5.00000000e-01   5.56426531e-16   5.00000000e-01\n",
      "   5.00000000e-01]\n",
      "B:\n",
      "w_0 = -26.6425969448\n",
      "v_0 = [ 0.28047807 -0.35353543  0.10832585  0.32166093 -0.26570862  0.28497589\n",
      " -0.02653098  0.61313544  0.33291528  0.20459871]\n",
      "w_1 = -21.3655966426\n",
      "v_1 = [-0.50205071  0.04457038  0.3854743   0.52334284  0.16790614 -0.00904845\n",
      "  0.36141303  0.10231     0.0598079  -0.38799788]\n",
      "w_2 = -11.8739490035\n",
      "v_2 = [ 0.27295304  0.43528576  0.51346503 -0.04497112 -0.07730286 -0.33370839\n",
      "  0.22009837  0.26296837 -0.34427419  0.34190176]\n",
      "w_3 = -9.95459273403\n",
      "v_3 = [-0.37097049  0.29527847 -0.34424981  0.46316819 -0.12426695  0.00776674\n",
      " -0.08162198 -0.12213687  0.01214394  0.63634045]\n",
      "w_4 = -3.49658091816\n",
      "v_4 = [-0.18204271 -0.44251362  0.0946839  -0.02614122 -0.72267388 -0.0939004\n",
      "  0.21712634 -0.25285957 -0.34496453  0.01538141]\n",
      "w_5 = 0.106304136368\n",
      "v_5 = [ 0.61207354  0.13353421 -0.25011056  0.54254038 -0.1237354  -0.20344297\n",
      "  0.13282426 -0.29684608 -0.00151269 -0.29693028]\n",
      "w_6 = 3.78004546924\n",
      "v_6 = [-0.10155533  0.18164893 -0.30731814  0.09733522 -0.12263399  0.13730127\n",
      " -0.31848268  0.47171094 -0.613214   -0.34482898]\n",
      "w_7 = 15.4192031144\n",
      "v_7 = [ 0.16389288 -0.39986864  0.24814652  0.2752524   0.45813492  0.27823623\n",
      " -0.18500704 -0.2488149  -0.48520297  0.23883514]\n",
      "w_8 = 12.5516248461\n",
      "v_8 = [ 0.10984476  0.27239053 -0.10758003 -0.14744981 -0.05022703  0.73985711\n",
      "  0.55771577 -0.09003732 -0.10379741  0.02416226]\n",
      "w_9 = 10.195587613\n",
      "v_9 = [ 0.01186865  0.34003758  0.46733915  0.06392526 -0.33877871  0.33678383\n",
      " -0.54961756 -0.29145407  0.16027532 -0.14433915]\n"
     ]
    }
   ],
   "source": [
    "# The column v[:,i] is the eigenvector corresponding to the eigenvalue w[i]\n",
    "# https://docs.scipy.org/doc/numpy/reference/generated/numpy.linalg.eig.html\n",
    "\n",
    "w1, v1 = la.eig(A)\n",
    "w2, v2 = la.eig(B)\n",
    "eigvalsA = w1\n",
    "eigvalsB = w2\n",
    "\n",
    "print(\"A:\")\n",
    "for i in range(w1.shape[0]):\n",
    "    print(\"w_\" + str(i), \"=\", w1[i])\n",
    "    print(\"v_\" + str(i), \"=\", v1[:,i])\n",
    "print(\"B:\")\n",
    "for i in range(w2.shape[0]):\n",
    "    print(\"w_\" + str(i), \"=\", w2[i])\n",
    "    print(\"v_\" + str(i), \"=\", v2[:,i])"
   ]
  },
  {
   "cell_type": "markdown",
   "metadata": {},
   "source": [
    "## Teilaufgabe c) "
   ]
  },
  {
   "cell_type": "markdown",
   "metadata": {},
   "source": [
    "Erstellen Sie einen Plot, aus dem für jeden Eigenwert der Matrix die Konvergenzgeschwindigkeit der jeweiligen Eigenwertnäherungen des QR-Verfahrens hervorgeht. Als die \"richtigen\" Eigenwerte können Sie beispielsweise die mit einer numpy-Routine berechneten Eigenwerte oder die letzte Iterierte Ihres Verfahrens verwenden. \n",
    "\n",
    "Test-Matrix soll $B = B(a,b,c,d)$ wie unten angegeben sein. \n",
    "\n",
    "Variieren Sie die Parameter $a,b,c,d$ und interpretieren Sie Ihre Beobachtungen."
   ]
  },
  {
   "cell_type": "code",
   "execution_count": 9,
   "metadata": {},
   "outputs": [
    {
     "ename": "NameError",
     "evalue": "name 'eigvals' is not defined",
     "output_type": "error",
     "traceback": [
      "\u001b[0;31m---------------------------------------------------------------------------\u001b[0m",
      "\u001b[0;31mNameError\u001b[0m                                 Traceback (most recent call last)",
      "\u001b[0;32m<ipython-input-9-d4d8497c20fd>\u001b[0m in \u001b[0;36m<module>\u001b[0;34m\u001b[0m\n\u001b[1;32m      9\u001b[0m \u001b[0;34m\u001b[0m\u001b[0m\n\u001b[1;32m     10\u001b[0m \u001b[0msolution\u001b[0m\u001b[0;34m,\u001b[0m \u001b[0m_\u001b[0m \u001b[0;34m=\u001b[0m \u001b[0mla\u001b[0m\u001b[0;34m.\u001b[0m\u001b[0meig\u001b[0m\u001b[0;34m(\u001b[0m\u001b[0mB\u001b[0m\u001b[0;34m)\u001b[0m\u001b[0;34m\u001b[0m\u001b[0;34m\u001b[0m\u001b[0m\n\u001b[0;32m---> 11\u001b[0;31m \u001b[0m_\u001b[0m\u001b[0;34m,\u001b[0m \u001b[0meigvalslist\u001b[0m \u001b[0;34m=\u001b[0m \u001b[0mqr_eigenvalues\u001b[0m\u001b[0;34m(\u001b[0m\u001b[0mB\u001b[0m\u001b[0;34m,\u001b[0m \u001b[0mitmax\u001b[0m\u001b[0;34m,\u001b[0m \u001b[0mtol\u001b[0m\u001b[0;34m)\u001b[0m\u001b[0;34m\u001b[0m\u001b[0;34m\u001b[0m\u001b[0m\n\u001b[0m\u001b[1;32m     12\u001b[0m \u001b[0mprint\u001b[0m\u001b[0;34m(\u001b[0m\u001b[0msolution\u001b[0m\u001b[0;34m)\u001b[0m\u001b[0;34m\u001b[0m\u001b[0;34m\u001b[0m\u001b[0m\n\u001b[1;32m     13\u001b[0m \u001b[0;34m\u001b[0m\u001b[0m\n",
      "\u001b[0;32m<ipython-input-5-672de7c1f5eb>\u001b[0m in \u001b[0;36mqr_eigenvalues\u001b[0;34m(A, itmax, tol)\u001b[0m\n\u001b[1;32m      3\u001b[0m     \u001b[0;31m## to be completed ##\u001b[0m\u001b[0;34m\u001b[0m\u001b[0;34m\u001b[0m\u001b[0;34m\u001b[0m\u001b[0m\n\u001b[1;32m      4\u001b[0m \u001b[0;34m\u001b[0m\u001b[0m\n\u001b[0;32m----> 5\u001b[0;31m     \u001b[0;32mreturn\u001b[0m \u001b[0meigvals\u001b[0m\u001b[0;34m,\u001b[0m \u001b[0meigvalslist\u001b[0m\u001b[0;34m\u001b[0m\u001b[0;34m\u001b[0m\u001b[0m\n\u001b[0m",
      "\u001b[0;31mNameError\u001b[0m: name 'eigvals' is not defined"
     ]
    }
   ],
   "source": [
    "a = 1\n",
    "b = 2 \n",
    "c = 3\n",
    "d = 4\n",
    "\n",
    "T = 0.5*np.array([[1,1,1,1],[1,1,-1,-1],[-1,1,-1,1],[-1,1,1,-1]])\n",
    "B = np.diag([a, b, c, d])\n",
    "B = T.T @ (B @ T) # np.matmul(T.T, np.matmul(B, T))\n",
    "\n",
    "solution, _ = la.eig(B)\n",
    "_, eigvalslist = qr_eigenvalues(B, itmax, tol)\n",
    "print(solution)\n",
    "\n",
    "eigvalplot = [np.linalg.norm(eigval - solution) for eigval in eigvallist]\n",
    "\n",
    "\n",
    "plt.plot(eigvalplot, label=\"eigval B\")\n",
    "\n",
    "plt.legend()\n",
    "plt.show()\n",
    "plt.close()"
   ]
  }
 ],
 "metadata": {
  "kernelspec": {
   "display_name": "Python 3",
   "language": "python",
   "name": "python3"
  },
  "language_info": {
   "codemirror_mode": {
    "name": "ipython",
    "version": 3
   },
   "file_extension": ".py",
   "mimetype": "text/x-python",
   "name": "python",
   "nbconvert_exporter": "python",
   "pygments_lexer": "ipython3",
   "version": "3.6.7"
  }
 },
 "nbformat": 4,
 "nbformat_minor": 2
}
