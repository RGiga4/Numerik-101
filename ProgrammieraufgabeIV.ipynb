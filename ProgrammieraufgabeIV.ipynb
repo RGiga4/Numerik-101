{
 "cells": [
  {
   "cell_type": "markdown",
   "metadata": {},
   "source": [
    "# Programmieraufgabe IV     ( 6 + 10 + 4 = 20 Punkte) \n",
    "## Abgabe in der Woche 17. bis 21. Dezember"
   ]
  },
  {
   "cell_type": "code",
   "execution_count": 1,
   "metadata": {},
   "outputs": [],
   "source": [
    "import numpy as np \n",
    "import matplotlib.pyplot as plt\n",
    "import numpy.linalg as la"
   ]
  },
  {
   "cell_type": "markdown",
   "metadata": {},
   "source": [
    "## Teilaufgabe a) "
   ]
  },
  {
   "cell_type": "markdown",
   "metadata": {},
   "source": [
    "Schreiben Sie eine Funktion, die eine gegebene Matrix $A$ (numpy-array) mittels Householder-Transformationen in eine obere Hessenbergmatrix überführt. \n"
   ]
  },
  {
   "cell_type": "code",
   "execution_count": 2,
   "metadata": {},
   "outputs": [],
   "source": [
    "# Das ist die Kopie von altem Code\n",
    "\n",
    "def householder(arg, w): \n",
    "    \n",
    "    ## Diese Funktion soll eine Householder-Transformation $I - 2ww^T$ auf das Argument arg (Matrix oder Vektor) anwenden.\n",
    "    \n",
    "    l = len(w)\n",
    "    \n",
    "    H_ = np.identity(l)\n",
    "    for i in range(l):\n",
    "        for j in range(l):\n",
    "            H_[i][j] -= 2*w[i]*w[j]\n",
    "    \n",
    "    (num_rows, num_cols) = np.shape(arg)\n",
    "    \n",
    "    H = np.identity(num_rows)\n",
    "    H[num_rows-l:, num_rows-l:] = H_\n",
    "    \n",
    "    result = H@arg\n",
    "    \n",
    "    return (result, H)"
   ]
  },
  {
   "cell_type": "code",
   "execution_count": 3,
   "metadata": {},
   "outputs": [],
   "source": [
    "# Diese Funktion funktioniert noch nicht.\n",
    "# Die Dimensionen stimmen nicht ueberein.\n",
    "\n",
    "def intohessenberg(A):\n",
    "    \n",
    "    m = np.shape(A)[0] - 2\n",
    "    \n",
    "    for k in range(m):\n",
    "        \n",
    "        v = np.copy(A[...,k][k+1:]) # A[k+1:m][k]\n",
    "        v[0] += np.sign(v[0]) * np.linalg.norm(v)\n",
    "        v = v / np.linalg.norm(v)\n",
    "        \n",
    "        ## Benutzte entweder die alte Funktion von oben:\n",
    "        A,_ = householder(A,v)\n",
    "        \n",
    "        ## Debug output\n",
    "        # print(\"k =\", k)\n",
    "        # print(\"v =\", v)\n",
    "        # print(\"np.transpose(v) =\", np.transpose(v))\n",
    "        # print(\"A[...,k:][k+1:] =\", A[...,k:][k+1:])\n",
    "        # print(\"np.transpose(v) @ A[...,k:][k+1:] =\", np.transpose(v) @ A[...,k:][k+1:])\n",
    "        # print(\"v @ (np.transpose(v) @ A[...,k:][k+1:]) =\", v @ (np.transpose(v) @ A[...,k:][k+1:]))\n",
    "        \n",
    "        ## Oder schreibe die Funktion neu:\n",
    "        # A[...,k:][k+1:] -= 2 * (v @ (np.transpose(v) @ A[...,k:][k+1:])) # A[k+1:m][k:m]\n",
    "        # A[...,k+1:][k:] -= 2 * ((A[...,k+1:][k:] @ v) @ np.transpose(v)) # A[1:m][k+1:m]\n",
    "        \n",
    "        # print(\"\")\n",
    "        \n",
    "    return A"
   ]
  },
  {
   "cell_type": "code",
   "execution_count": 4,
   "metadata": {},
   "outputs": [
    {
     "ename": "IndexError",
     "evalue": "index 3 is out of bounds for axis 1 with size 3",
     "output_type": "error",
     "traceback": [
      "\u001b[0;31m---------------------------------------------------------------------------\u001b[0m",
      "\u001b[0;31mIndexError\u001b[0m                                Traceback (most recent call last)",
      "\u001b[0;32m<ipython-input-4-7a90d4682862>\u001b[0m in \u001b[0;36m<module>\u001b[0;34m\u001b[0m\n\u001b[1;32m      2\u001b[0m \u001b[0mA\u001b[0m \u001b[0;34m=\u001b[0m \u001b[0mnp\u001b[0m\u001b[0;34m.\u001b[0m\u001b[0marray\u001b[0m\u001b[0;34m(\u001b[0m\u001b[0mA\u001b[0m\u001b[0;34m)\u001b[0m\u001b[0;34m.\u001b[0m\u001b[0mastype\u001b[0m\u001b[0;34m(\u001b[0m\u001b[0mfloat\u001b[0m\u001b[0;34m)\u001b[0m\u001b[0;34m\u001b[0m\u001b[0;34m\u001b[0m\u001b[0m\n\u001b[1;32m      3\u001b[0m \u001b[0;34m\u001b[0m\u001b[0m\n\u001b[0;32m----> 4\u001b[0;31m \u001b[0mprint\u001b[0m\u001b[0;34m(\u001b[0m\u001b[0mintohessenberg\u001b[0m\u001b[0;34m(\u001b[0m\u001b[0mA\u001b[0m\u001b[0;34m)\u001b[0m\u001b[0;34m)\u001b[0m\u001b[0;34m\u001b[0m\u001b[0;34m\u001b[0m\u001b[0m\n\u001b[0m",
      "\u001b[0;32m<ipython-input-3-e97923262f98>\u001b[0m in \u001b[0;36mintohessenberg\u001b[0;34m(A)\u001b[0m\n\u001b[1;32m      8\u001b[0m     \u001b[0;32mfor\u001b[0m \u001b[0mk\u001b[0m \u001b[0;32min\u001b[0m \u001b[0mrange\u001b[0m\u001b[0;34m(\u001b[0m\u001b[0mm\u001b[0m\u001b[0;34m)\u001b[0m\u001b[0;34m:\u001b[0m\u001b[0;34m\u001b[0m\u001b[0;34m\u001b[0m\u001b[0m\n\u001b[1;32m      9\u001b[0m \u001b[0;34m\u001b[0m\u001b[0m\n\u001b[0;32m---> 10\u001b[0;31m         \u001b[0mv\u001b[0m \u001b[0;34m=\u001b[0m \u001b[0mnp\u001b[0m\u001b[0;34m.\u001b[0m\u001b[0mcopy\u001b[0m\u001b[0;34m(\u001b[0m\u001b[0mA\u001b[0m\u001b[0;34m[\u001b[0m\u001b[0;34m...\u001b[0m\u001b[0;34m,\u001b[0m\u001b[0mk\u001b[0m\u001b[0;34m]\u001b[0m\u001b[0;34m[\u001b[0m\u001b[0mk\u001b[0m\u001b[0;34m+\u001b[0m\u001b[0;36m1\u001b[0m\u001b[0;34m:\u001b[0m\u001b[0;34m]\u001b[0m\u001b[0;34m)\u001b[0m \u001b[0;31m# A[k+1:m][k]\u001b[0m\u001b[0;34m\u001b[0m\u001b[0;34m\u001b[0m\u001b[0m\n\u001b[0m\u001b[1;32m     11\u001b[0m         \u001b[0mv\u001b[0m\u001b[0;34m[\u001b[0m\u001b[0;36m0\u001b[0m\u001b[0;34m]\u001b[0m \u001b[0;34m+=\u001b[0m \u001b[0mnp\u001b[0m\u001b[0;34m.\u001b[0m\u001b[0msign\u001b[0m\u001b[0;34m(\u001b[0m\u001b[0mv\u001b[0m\u001b[0;34m[\u001b[0m\u001b[0;36m0\u001b[0m\u001b[0;34m]\u001b[0m\u001b[0;34m)\u001b[0m \u001b[0;34m*\u001b[0m \u001b[0mnp\u001b[0m\u001b[0;34m.\u001b[0m\u001b[0mlinalg\u001b[0m\u001b[0;34m.\u001b[0m\u001b[0mnorm\u001b[0m\u001b[0;34m(\u001b[0m\u001b[0mv\u001b[0m\u001b[0;34m)\u001b[0m\u001b[0;34m\u001b[0m\u001b[0;34m\u001b[0m\u001b[0m\n\u001b[1;32m     12\u001b[0m         \u001b[0mv\u001b[0m \u001b[0;34m=\u001b[0m \u001b[0mv\u001b[0m \u001b[0;34m/\u001b[0m \u001b[0mnp\u001b[0m\u001b[0;34m.\u001b[0m\u001b[0mlinalg\u001b[0m\u001b[0;34m.\u001b[0m\u001b[0mnorm\u001b[0m\u001b[0;34m(\u001b[0m\u001b[0mv\u001b[0m\u001b[0;34m)\u001b[0m\u001b[0;34m\u001b[0m\u001b[0;34m\u001b[0m\u001b[0m\n",
      "\u001b[0;31mIndexError\u001b[0m: index 3 is out of bounds for axis 1 with size 3"
     ]
    }
   ],
   "source": [
    "A = [[1,2,3],[4,5,6],[7,8,9],[10,11,12],[13,14,15],[16,17,18],[19,20,21]]\n",
    "A = np.array(A).astype(float)\n",
    "\n",
    "print(intohessenberg(A))"
   ]
  },
  {
   "cell_type": "markdown",
   "metadata": {},
   "source": [
    "## Teilaufgabe b)"
   ]
  },
  {
   "cell_type": "markdown",
   "metadata": {},
   "source": [
    "Implementieren Sie das in der Vorlesung behandelte QR-Verfahren zur Eigenwertbestimmung einer oberen Hessenbergmatrix $A$ (numpy-array). Input der Funktion soll die Matrix $A$, eine maximale Anzahl von Iterationen $\\text{itmax}$ und eine Toleranz $\\text{tol}$ sein, die in ein (sinnvolles) Abbruchkriterium eingeht.\n",
    "\n",
    "Ausgegeben werden soll ein array mit den Näherungen für die Eigenwerte, geordnet nach Größe. Außerdem soll eine Liste der Eigenwertnäherungen aller Iterationen ausgegeben werden. \n",
    "\n",
    "Beachten Sie, dass hier die __in der Vorlesung besprochene praktische Umsetzung des QR-Verfahrens zur Eigenwertbestimmung__ implementiert werden soll, d.h. ein bloßes Ausrechnen der QR-Zerlegung $A=QR$ und anschließende Zuweisung $A \\leftarrow RQ$, explizites Aufstellen und Ausmultiplizieren von Givens-Rotations-Matrizen etc. soll hier _nicht_ verwendet werden!"
   ]
  },
  {
   "cell_type": "code",
   "execution_count": 5,
   "metadata": {},
   "outputs": [],
   "source": [
    "def qr_eigenvalues(A, itmax, tol):\n",
    "    \n",
    "    ## to be completed ## \n",
    "    \n",
    "    return eigvals, eigvalslist"
   ]
  },
  {
   "cell_type": "markdown",
   "metadata": {},
   "source": [
    "Testen Sie Ihre Implementierung, indem Sie Ihre Ergebnisse für eine zufällige symmetrische $10 \\times 10$-Matrix und die übliche Matrix $A = \\text{tridiag}(1,4,1) \\in \\mathbb{R}^{5 \\times 5}$ mit der in numpy vorimplementierten Eigenwertberechnung (wählen Sie eine geeignete Routine) vergleichen. "
   ]
  },
  {
   "cell_type": "code",
   "execution_count": 6,
   "metadata": {},
   "outputs": [
    {
     "name": "stdout",
     "output_type": "stream",
     "text": [
      "[[ 0.93344224  5.70611355  0.26229371 -2.49815945 -7.00440232 -3.07894994\n",
      "   7.91266884  3.76627965  8.18782569  0.57987203]\n",
      " [ 5.70611355  4.15214067  2.45190665 -8.15350065 -1.16229169 -3.88880774\n",
      "  -3.16917207 -0.11802294 -5.14140572  0.61040095]\n",
      " [ 0.26229371  2.45190665  9.33502082  4.58803392  1.39384624  3.57260246\n",
      "   2.43151323 -6.63885055  2.44482567 -3.23732847]\n",
      " [-2.49815945 -8.15350065  4.58803392 -8.7868998  -1.03644557  0.65108626\n",
      "  -2.79151023  7.94958499  3.61211208 -0.55072857]\n",
      " [-7.00440232 -1.16229169  1.39384624 -1.03644557  4.87868941 -5.59200435\n",
      "   2.68760723  2.97224254 -1.77452649  3.46647758]\n",
      " [-3.07894994 -3.88880774  3.57260246  0.65108626 -5.59200435  8.42113935\n",
      "  -1.5824998   0.40243775 -0.41162907  6.43339099]\n",
      " [ 7.91266884 -3.16917207  2.43151323 -2.79151023  2.68760723 -1.5824998\n",
      "  -6.46961839 -0.10162352  1.66486983  0.27063798]\n",
      " [ 3.76627965 -0.11802294 -6.63885055  7.94958499  2.97224254  0.40243775\n",
      "  -0.10162352  1.68183395  0.7195351  -7.76489705]\n",
      " [ 8.18782569 -5.14140572  2.44482567  3.61211208 -1.77452649 -0.41162907\n",
      "   1.66486983  0.7195351   7.7289281   5.38770592]\n",
      " [ 0.57987203  0.61040095 -3.23732847 -0.55072857  3.46647758  6.43339099\n",
      "   0.27063798 -7.76489705  5.38770592  2.38054513]]\n",
      "[[ 4.  1.  0.  0.  0.]\n",
      " [ 1.  4.  1.  0.  0.]\n",
      " [ 0.  1.  4.  1.  0.]\n",
      " [ 0.  0.  1.  4.  1.]\n",
      " [ 0.  0.  0.  1.  4.]]\n"
     ]
    }
   ],
   "source": [
    "scal = 10 # Skaliere die Zufallszahlen -> [-scal,scal)\n",
    "\n",
    "# np.random.random_sample((m,n)) gives B \\in [0,1)^(m x n)\n",
    "# https://docs.scipy.org/doc/numpy/reference/generated/numpy.random.random.html\n",
    "B = 2*scal*(np.random.random_sample((10,10)) - .5)\n",
    "B = (B + B.T)/2\n",
    "\n",
    "A = [[4,1,0,0,0],\n",
    "     [1,4,1,0,0],\n",
    "     [0,1,4,1,0],\n",
    "     [0,0,1,4,1],\n",
    "     [0,0,0,1,4]]\n",
    "A = np.array(A).astype(float)\n",
    "\n",
    "print(B)\n",
    "print(A)"
   ]
  },
  {
   "cell_type": "code",
   "execution_count": 7,
   "metadata": {},
   "outputs": [
    {
     "ename": "NameError",
     "evalue": "name 'eigvals' is not defined",
     "output_type": "error",
     "traceback": [
      "\u001b[0;31m---------------------------------------------------------------------------\u001b[0m",
      "\u001b[0;31mNameError\u001b[0m                                 Traceback (most recent call last)",
      "\u001b[0;32m<ipython-input-7-64059358ecce>\u001b[0m in \u001b[0;36m<module>\u001b[0;34m\u001b[0m\n\u001b[1;32m      2\u001b[0m \u001b[0mtol\u001b[0m \u001b[0;34m=\u001b[0m \u001b[0;36m.001\u001b[0m\u001b[0;34m\u001b[0m\u001b[0;34m\u001b[0m\u001b[0m\n\u001b[1;32m      3\u001b[0m \u001b[0;34m\u001b[0m\u001b[0m\n\u001b[0;32m----> 4\u001b[0;31m \u001b[0mmyeigvalsA\u001b[0m\u001b[0;34m,\u001b[0m \u001b[0m_\u001b[0m \u001b[0;34m=\u001b[0m \u001b[0mqr_eigenvalues\u001b[0m\u001b[0;34m(\u001b[0m\u001b[0mA\u001b[0m\u001b[0;34m,\u001b[0m \u001b[0mitmax\u001b[0m\u001b[0;34m,\u001b[0m \u001b[0mtol\u001b[0m\u001b[0;34m)\u001b[0m\u001b[0;34m\u001b[0m\u001b[0;34m\u001b[0m\u001b[0m\n\u001b[0m\u001b[1;32m      5\u001b[0m \u001b[0mmyeigvalsB\u001b[0m\u001b[0;34m,\u001b[0m \u001b[0m_\u001b[0m \u001b[0;34m=\u001b[0m \u001b[0mqr_eigenvalues\u001b[0m\u001b[0;34m(\u001b[0m\u001b[0mB\u001b[0m\u001b[0;34m,\u001b[0m \u001b[0mitmax\u001b[0m\u001b[0;34m,\u001b[0m \u001b[0mtol\u001b[0m\u001b[0;34m)\u001b[0m\u001b[0;34m\u001b[0m\u001b[0;34m\u001b[0m\u001b[0m\n",
      "\u001b[0;32m<ipython-input-5-672de7c1f5eb>\u001b[0m in \u001b[0;36mqr_eigenvalues\u001b[0;34m(A, itmax, tol)\u001b[0m\n\u001b[1;32m      3\u001b[0m     \u001b[0;31m## to be completed ##\u001b[0m\u001b[0;34m\u001b[0m\u001b[0;34m\u001b[0m\u001b[0;34m\u001b[0m\u001b[0m\n\u001b[1;32m      4\u001b[0m \u001b[0;34m\u001b[0m\u001b[0m\n\u001b[0;32m----> 5\u001b[0;31m     \u001b[0;32mreturn\u001b[0m \u001b[0meigvals\u001b[0m\u001b[0;34m,\u001b[0m \u001b[0meigvalslist\u001b[0m\u001b[0;34m\u001b[0m\u001b[0;34m\u001b[0m\u001b[0m\n\u001b[0m",
      "\u001b[0;31mNameError\u001b[0m: name 'eigvals' is not defined"
     ]
    }
   ],
   "source": [
    "itmax = 100\n",
    "tol = .001\n",
    "\n",
    "myeigvalsA, _ = qr_eigenvalues(A, itmax, tol)\n",
    "myeigvalsB, _ = qr_eigenvalues(B, itmax, tol)"
   ]
  },
  {
   "cell_type": "code",
   "execution_count": 8,
   "metadata": {},
   "outputs": [
    {
     "name": "stdout",
     "output_type": "stream",
     "text": [
      "A:\n",
      "w_0 = 2.26794919243\n",
      "v_0 = [-0.28867513  0.5        -0.57735027  0.5        -0.28867513]\n",
      "w_1 = 3.0\n",
      "v_1 = [ -5.00000000e-01   5.00000000e-01  -3.42143760e-16  -5.00000000e-01\n",
      "   5.00000000e-01]\n",
      "w_2 = 4.0\n",
      "v_2 = [  5.77350269e-01  -4.90435668e-17  -5.77350269e-01  -4.10676918e-16\n",
      "   5.77350269e-01]\n",
      "w_3 = 5.73205080757\n",
      "v_3 = [ 0.28867513  0.5         0.57735027  0.5         0.28867513]\n",
      "w_4 = 5.0\n",
      "v_4 = [ -5.00000000e-01  -5.00000000e-01   5.56426531e-16   5.00000000e-01\n",
      "   5.00000000e-01]\n",
      "B:\n",
      "w_0 = -20.9382107977\n",
      "v_0 = [-0.11170093 -0.28508645  0.30047551 -0.64996095 -0.20261353 -0.18716728\n",
      " -0.15827023  0.46058596 -0.03341947  0.28129037]\n",
      "w_1 = -16.8338069607\n",
      "v_1 = [ 0.60359855 -0.29849763  0.02681262 -0.07922697  0.29544804  0.07804989\n",
      " -0.61723348 -0.16903431 -0.16339002 -0.09972323]\n",
      "w_2 = -9.61123881034\n",
      "v_2 = [-0.19768124  0.07452563 -0.13267378 -0.5380617   0.21265283  0.29877478\n",
      " -0.02953136 -0.1035554   0.45183382 -0.54591035]\n",
      "w_3 = -1.76427453727\n",
      "v_3 = [-0.28059351  0.4026825   0.04868446  0.24186632 -0.06735066 -0.17387716\n",
      " -0.70140084  0.10404259  0.38254224  0.11978585]\n",
      "w_4 = 1.73422035017\n",
      "v_4 = [ 0.19029543  0.41555308  0.10966315  0.01971542  0.46467456  0.44914685\n",
      "  0.10047766  0.55267692 -0.06772313  0.20223571]\n",
      "w_5 = 18.7527566677\n",
      "v_5 = [-0.21976024  0.25053447 -0.32913166 -0.13993608  0.25837809 -0.44879496\n",
      " -0.10398555  0.17154219 -0.58801516 -0.32687988]\n",
      "w_6 = 16.6510824076\n",
      "v_6 = [-0.61787989 -0.22772754  0.15609434  0.05148926  0.17711245  0.47259454\n",
      " -0.20624104 -0.25492958 -0.38320862  0.17395491]\n",
      "w_7 = 14.5147684868\n",
      "v_7 = [ 0.15583495  0.59077486  0.4123001  -0.34952462 -0.13345046 -0.031008\n",
      "  0.03640706 -0.50600511 -0.20981946  0.119918  ]\n",
      "w_8 = 11.4123739434\n",
      "v_8 = [-0.10210795 -0.14555386  0.71437919  0.22279592  0.40612363 -0.33116783\n",
      "  0.1389998   0.02741221  0.11427423 -0.3172899 ]\n",
      "w_9 = 10.3375507322\n",
      "v_9 = [-0.06624247 -0.06637052 -0.25293269 -0.16981376  0.57017975 -0.31976233\n",
      "  0.13056641 -0.28474409  0.25964314  0.55272144]\n"
     ]
    }
   ],
   "source": [
    "# The column v[:,i] is the eigenvector corresponding to the eigenvalue w[i]\n",
    "# https://docs.scipy.org/doc/numpy/reference/generated/numpy.linalg.eig.html\n",
    "\n",
    "w1, v1 = la.eig(A)\n",
    "w2, v2 = la.eig(B)\n",
    "eigvalsA = w1\n",
    "eigvalsB = w2\n",
    "\n",
    "print(\"A:\")\n",
    "for i in range(w1.shape[0]):\n",
    "    print(\"w_\" + str(i), \"=\", w1[i])\n",
    "    print(\"v_\" + str(i), \"=\", v1[:,i])\n",
    "print(\"B:\")\n",
    "for i in range(w2.shape[0]):\n",
    "    print(\"w_\" + str(i), \"=\", w2[i])\n",
    "    print(\"v_\" + str(i), \"=\", v2[:,i])"
   ]
  },
  {
   "cell_type": "markdown",
   "metadata": {},
   "source": [
    "## Teilaufgabe c) "
   ]
  },
  {
   "cell_type": "markdown",
   "metadata": {},
   "source": [
    "Erstellen Sie einen Plot, aus dem für jeden Eigenwert der Matrix die Konvergenzgeschwindigkeit der jeweiligen Eigenwertnäherungen des QR-Verfahrens hervorgeht. Als die \"richtigen\" Eigenwerte können Sie beispielsweise die mit einer numpy-Routine berechneten Eigenwerte oder die letzte Iterierte Ihres Verfahrens verwenden. \n",
    "\n",
    "Test-Matrix soll $B = B(a,b,c,d)$ wie unten angegeben sein. \n",
    "\n",
    "Variieren Sie die Parameter $a,b,c,d$ und interpretieren Sie Ihre Beobachtungen."
   ]
  },
  {
   "cell_type": "code",
   "execution_count": 9,
   "metadata": {},
   "outputs": [],
   "source": [
    "a = 1\n",
    "b = 2 \n",
    "c = 3\n",
    "d = 4\n",
    "\n",
    "T = 0.5*np.array([[1,1,1,1],[1,1,-1,-1],[-1,1,-1,1],[-1,1,1,-1]])\n",
    "B = np.diag([a, b, c, d])\n",
    "B = T.T @ (B @ T) # np.matmul(T.T, np.matmul(B, T))"
   ]
  }
 ],
 "metadata": {
  "kernelspec": {
   "display_name": "Python 3",
   "language": "python",
   "name": "python3"
  },
  "language_info": {
   "codemirror_mode": {
    "name": "ipython",
    "version": 3
   },
   "file_extension": ".py",
   "mimetype": "text/x-python",
   "name": "python",
   "nbconvert_exporter": "python",
   "pygments_lexer": "ipython3",
   "version": "3.6.7"
  }
 },
 "nbformat": 4,
 "nbformat_minor": 2
}
