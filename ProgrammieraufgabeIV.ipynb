{
 "cells": [
  {
   "cell_type": "markdown",
   "metadata": {},
   "source": [
    "# Programmieraufgabe IV     ( 6 + 10 + 4 = 20 Punkte) \n",
    "## Abgabe in der Woche 17. bis 21. Dezember"
   ]
  },
  {
   "cell_type": "code",
   "execution_count": 2,
   "metadata": {
    "collapsed": true
   },
   "outputs": [],
   "source": [
    "import numpy as np \n",
    "import matplotlib.pyplot as plt\n",
    "import scipy.linalg as la"
   ]
  },
  {
   "cell_type": "markdown",
   "metadata": {},
   "source": [
    "## Teilaufgabe a) "
   ]
  },
  {
   "cell_type": "markdown",
   "metadata": {},
   "source": [
    "Schreiben Sie eine Funktion, die eine gegebene Matrix $A$ (numpy-array) mittels Householder-Transformationen in eine obere Hessenbergmatrix überführt. \n"
   ]
  },
  {
   "cell_type": "code",
   "execution_count": 29,
   "metadata": {
    "collapsed": false
   },
   "outputs": [
    {
     "name": "stdout",
     "output_type": "stream",
     "text": [
      "test:  [[  1.00000000e+00  -5.38516481e+00   1.09061106e-16  -2.07756313e-17]\n",
      " [ -5.38516481e+00   1.52068966e+01  -1.68930327e+00  -8.32667268e-16]\n",
      " [  0.00000000e+00  -1.68930327e+00  -2.06896552e-01   0.00000000e+00]\n",
      " [  0.00000000e+00   0.00000000e+00   1.10194533e-16  -1.63147961e-16]]\n"
     ]
    }
   ],
   "source": [
    "def householdertrafo(arg, w): \n",
    "    \n",
    "    ## Diese Funktion soll eine Householder-Transformation $I - 2ww^T$ auf das Argument arg (Matrix oder Vektor) anwenden.\n",
    "    \n",
    "    l = len(w)\n",
    "    \n",
    "    ## Berechne I - 2ww^T\n",
    "    H_ = np.identity(l)\n",
    "    for i in range (l):\n",
    "        for j in range (l):\n",
    "            H_[i][j] -= 2*w[i]*w[j]\n",
    "    \n",
    "    (num_rows, num_cols) = np.shape(arg)\n",
    "    \n",
    "    ## Bringe die Matrix für die Householder-Transformation auf passende Größe indem H_ in die rechte untere #\n",
    "    ## Ecke einer sonst Einheitsmatrix kommt\n",
    "    H = np.identity(num_rows)\n",
    "    H[num_rows-l:, num_rows-l:] = H_\n",
    "    \n",
    "    ## Führe Householder-Transformation auf arg aus\n",
    "    result = H.T@arg@H\n",
    "    \n",
    "    return (result, H)\n",
    "\n",
    "\n",
    "def intohessenberg(B):\n",
    "    \n",
    "    A = np.copy(B)\n",
    "    (num_rows, num_cols) = np.shape(A)\n",
    "    \n",
    "    for i in range (num_rows-2):\n",
    "        x = A[i+1:, i]\n",
    "        e = np.zeros_like(x, dtype=float)\n",
    "        e[0] = np.linalg.norm(x)*np.sign(x[0])\n",
    "        v = x + e\n",
    "        w = v / np.linalg.norm(v)\n",
    "        (A, H) = householdertrafo(A, w)\n",
    "        \n",
    "        ## der folgende Schritt kann auch weggelassen werden, aber da wir wissen, dass diese Einträge nur durch \n",
    "        ## Rundungsfehler nicht 0 sind, setzen wir diese auf 0\n",
    "        A[i+2:, i] = 0.\n",
    "    \n",
    "    return A\n",
    "\n",
    "A = np.array([[1, 2, 3, 4], [2, 3, 4, 5], [3, 4, 5, 6], [4, 5, 6, 7]])\n",
    "print(\"test: \", intohessenberg(A))"
   ]
  },
  {
   "cell_type": "markdown",
   "metadata": {},
   "source": [
    "## Teilaufgabe b)"
   ]
  },
  {
   "cell_type": "markdown",
   "metadata": {},
   "source": [
    "Implementieren Sie das in der Vorlesung behandelte QR-Verfahren zur Eigenwertbestimmung einer oberen Hessenbergmatrix $A$ (numpy-array). Input der Funktion soll die Matrix $A$, eine maximale Anzahl von Iterationen $itmax$ und eine Toleranz $tol$ sein, die in ein (sinnvolles) Abbruchkriterium eingeht.\n",
    "\n",
    "Ausgegeben werden soll ein array mit den Näherungen für die Eigenwerte, geordnet nach Größe. Außerdem soll eine Liste der Eigenwertnäherungen aller Iterationen ausgegeben werden. \n",
    "\n",
    "Beachten Sie, dass hier die __in der Vorlesung besprochene praktische Umsetzung des QR-Verfahrens zur Eigenwertbestimmung__ implementiert werden soll, d.h. ein bloßes Ausrechnen der QR-Zerlegung $A=QR$ und anschließende Zuweisung $A \\leftarrow RQ$, explizites Aufstellen und Ausmultiplizieren von Givens-Rotations-Matrizen etc. soll hier _nicht_ verwendet werden!"
   ]
  },
  {
   "cell_type": "markdown",
   "metadata": {},
   "source": [
    "Testen Sie Ihre Implementierung, indem Sie Ihre Ergebnisse für für eine zufällige symmetrische $10x10$-Matrix und die übliche Matrix $A = \\text{tridiag}(-1,4,1) \\in \\mathbb{R}^{5 \\times 5}$ mit der in numpy vorimplementierten Eigenwertberechnung (wählen Sie eine geeignete Routine) vergleichen. "
   ]
  },
  {
   "cell_type": "code",
   "execution_count": 79,
   "metadata": {
    "collapsed": false,
    "scrolled": false
   },
   "outputs": [
    {
     "name": "stdout",
     "output_type": "stream",
     "text": [
      "C:\n",
      " [[ 3.  1.]\n",
      " [ 4.  2.]]\n",
      "C in HB trafo:\n",
      " [[ 3.  1.]\n",
      " [ 4.  2.]]\n",
      "\n",
      "Eigenwerte Python:  [ 4.56155281  0.43844719]\n",
      "Eigenwerte Selbst:  [ 4.56155281  0.43844719]\n",
      "\n",
      "\n",
      "Vorgegebenes B:\n",
      " [[ 4 -1  0  0  0]\n",
      " [-1  4 -1  0  0]\n",
      " [ 0 -1  4 -1  0]\n",
      " [ 0  0 -1  4 -1]\n",
      " [ 0  0  0 -1  4]]\n",
      "B in HB trafo:\n",
      " [[ 4.  1.  0.  0.  0.]\n",
      " [ 1.  4. -1.  0.  0.]\n",
      " [ 0. -1.  4. -1.  0.]\n",
      " [ 0.  0. -1.  4.  1.]\n",
      " [ 0.  0.  0.  1.  4.]]\n",
      "\n",
      "Eigenwerte Python:  [ 2.26794919  3.          4.          5.73205081  5.        ]\n",
      "Eigenwerte Selbst:  [ 5.73205081  5.          4.          3.          2.26794919]\n",
      "\n",
      "\n",
      "Zufälliges M:\n",
      " [[ 4.82203469  2.92534661  3.59976717  4.05138199  1.78767104  2.85775196\n",
      "   3.49652135  3.82581691  3.68822065  3.74851007]\n",
      " [ 2.92534661  3.02843665  2.2088036   2.81124938  1.05431131  2.74206636\n",
      "   2.38770751  2.00588857  2.11990258  2.40325403]\n",
      " [ 3.59976717  2.2088036   2.91688154  3.13129919  1.42955894  2.11312081\n",
      "   2.77131979  3.02542845  2.5642016   3.12875514]\n",
      " [ 4.05138199  2.81124938  3.13129919  4.04900782  1.84319151  3.09817196\n",
      "   2.76046382  3.49171092  3.1323325   3.45057158]\n",
      " [ 1.78767104  1.05431131  1.42955894  1.84319151  1.31444617  1.05162498\n",
      "   1.17710032  2.02205805  1.44604028  1.54904948]\n",
      " [ 2.85775196  2.74206636  2.11312081  3.09817196  1.05162498  3.2784617\n",
      "   1.9188421   2.05553115  2.1845179   2.47254387]\n",
      " [ 3.49652135  2.38770751  2.77131979  2.76046382  1.17710032  1.9188421\n",
      "   3.13114312  2.77612782  2.61390088  2.89350568]\n",
      " [ 3.82581691  2.00588857  3.02542845  3.49171092  2.02205805  2.05553115\n",
      "   2.77612782  4.21646701  3.38941901  3.51388618]\n",
      " [ 3.68822065  2.11990258  2.5642016   3.1323325   1.44604028  2.1845179\n",
      "   2.61390088  3.38941901  3.47801284  2.82458114]\n",
      " [ 3.74851007  2.40325403  3.12875514  3.45057158  1.54904948  2.47254387\n",
      "   2.89350568  3.51388618  2.82458114  3.71918787]]\n",
      "M in HB trafo:\n",
      " [[  4.82203469e+00  -1.01886713e+01   3.82515650e-16  -2.31096904e-16\n",
      "    9.95938777e-16  -4.79788864e-16   5.50451278e-17   6.73843642e-16\n",
      "    4.65866428e-17  -2.08699369e-16]\n",
      " [ -1.01886713e+01   2.34316882e+01  -9.05234805e-01  -1.59666401e-16\n",
      "   -7.33416343e-16  -6.14446966e-16  -3.57254540e-16   1.70786853e-16\n",
      "    1.12384348e-15   4.99682117e-17]\n",
      " [  0.00000000e+00  -9.05234805e-01   1.08238061e+00  -7.50609645e-01\n",
      "    2.68367122e-16  -2.32795750e-16   1.24388764e-16   1.06796595e-16\n",
      "    1.62054779e-16  -2.11979018e-16]\n",
      " [  0.00000000e+00   0.00000000e+00  -7.50609645e-01   1.67107026e+00\n",
      "   -8.27831505e-01  -1.72799758e-16   1.19648029e-16  -9.25256472e-17\n",
      "   -2.37939530e-16  -6.50648029e-16]\n",
      " [  0.00000000e+00   0.00000000e+00   0.00000000e+00  -8.27831505e-01\n",
      "    1.27806608e+00  -2.97348142e-01   1.47430180e-16   1.10553631e-16\n",
      "   -5.75777353e-17   1.03820884e-16]\n",
      " [  0.00000000e+00   0.00000000e+00   0.00000000e+00   0.00000000e+00\n",
      "   -2.97348142e-01   6.87683258e-01   3.86828292e-01   3.43161682e-16\n",
      "    1.15114361e-16  -2.09028947e-16]\n",
      " [  0.00000000e+00   0.00000000e+00   0.00000000e+00   0.00000000e+00\n",
      "    0.00000000e+00   3.86828292e-01   3.43037281e-01   5.79733549e-02\n",
      "   -3.63443995e-16   1.12061763e-16]\n",
      " [  0.00000000e+00   0.00000000e+00   0.00000000e+00   0.00000000e+00\n",
      "    0.00000000e+00   0.00000000e+00   5.79733549e-02   4.15843339e-01\n",
      "   -1.81447865e-01   1.94289029e-16]\n",
      " [  0.00000000e+00   0.00000000e+00   0.00000000e+00   0.00000000e+00\n",
      "    0.00000000e+00   0.00000000e+00   0.00000000e+00  -1.81447865e-01\n",
      "    1.95264100e-01   1.14467544e-02]\n",
      " [  0.00000000e+00   0.00000000e+00   0.00000000e+00   0.00000000e+00\n",
      "    0.00000000e+00   0.00000000e+00   0.00000000e+00   0.00000000e+00\n",
      "    1.14467544e-02   2.70115717e-02]]\n",
      "\n",
      "Eigenwerte Python:  [  2.79505651e+01   2.59301386e+00   1.31917159e+00   8.98425158e-01\n",
      "   5.23459391e-01   4.47722312e-01   1.12797540e-01   7.83281273e-02\n",
      "   5.03583748e-03   2.55605083e-02]\n",
      "Eigenwerte Selbst:  [  2.79505651e+01   2.59301386e+00   1.31917159e+00   8.98425158e-01\n",
      "   5.23459391e-01   4.47722312e-01   1.12797540e-01   7.83281273e-02\n",
      "   2.55605083e-02   5.03583748e-03]\n"
     ]
    }
   ],
   "source": [
    "## benötigte Givensrotation von links G(i,i+1)\n",
    "def giv_left(B, c, s, i):\n",
    "    A = np.copy(B)\n",
    "    r0 = np.array(A[i, :])\n",
    "    r1 = np.array(A[i+1, :])\n",
    "    A[i, :] = c*r0 + s*r1\n",
    "    A[i+1, :] = -s*r0 + c*r1\n",
    "    return A\n",
    "\n",
    "## benötigte Givensrotation von rechts G(i,i+1)^T\n",
    "def giv_t_right(B, c, s, i):\n",
    "    A = np.copy(B)\n",
    "    c0 = np.array(A[:, i])\n",
    "    c1 = np.array(A[:, i+1])\n",
    "    A[:, i] = c*c0 + s*c1\n",
    "    A[:, i+1] = -s*c0 + c*c1\n",
    "    return A\n",
    "\n",
    "\n",
    "def qr_eigenvalues(B, itmax, tol):\n",
    "    \n",
    "    (num_rows, num_cols) = np.shape(B)\n",
    "    j = 0\n",
    "    \n",
    "    ## Transformieren zuerst A in HB Form\n",
    "    A = intohessenberg(B)\n",
    "    eigvalslist = np.array([])\n",
    "    \n",
    "    ## Führen pro Iteration einen Schritt des QR-Verfahrens für HB Matrizen aus (O(n^2))\n",
    "    while j < itmax and np.linalg.norm(A) - np.linalg.norm(np.diag(A)) > tol:\n",
    "\n",
    "        ## Wissen: R = G(n-1, n)*...*G(1, 2)*A und außerdem RQ = G(n-1, n)*...*G(1, 2)*A*G(1, 2).T*...*G(n-1, n).T\n",
    "        ## müssen bei Berechnung von RQ jedoch aufpassen, dass wir die Rechtsmult erst machen wenn wir die Spalten\n",
    "        ## von R die verändert werden schon errechnet haben -> Rechtsmult immer einen Schritt später\n",
    "        w = A[:2,0]\n",
    "        c_new = w[0]/np.linalg.norm(w)\n",
    "        s_new = w[1]/np.linalg.norm(w)\n",
    "        \n",
    "        R = giv_left(A, c_new, s_new, 0)\n",
    "        RQ = giv_left(A, c_new, s_new, 0)\n",
    "        \n",
    "        for i in range (1, num_rows-1):\n",
    "            c_old = c_new\n",
    "            s_old = s_new\n",
    "            \n",
    "            w = R[i:i+2,i]\n",
    "            c_new = w[0]/np.linalg.norm(w)\n",
    "            s_new = w[1]/np.linalg.norm(w)\n",
    "            \n",
    "            R = giv_left(R, c_new, s_new, i)\n",
    "            \n",
    "            ## wie oben erklärt, Rechtsmult bei RQ erst eins später\n",
    "            RQ = giv_left(RQ, c_new, s_new, i)\n",
    "            RQ = giv_t_right(RQ, c_old, s_old, i-1)\n",
    "            \n",
    "            \n",
    "        RQ = giv_t_right(RQ, c_new, s_new, num_rows-2)\n",
    "        A = RQ\n",
    "        eigvalslist = np.append(eigvalslist, np.diag(A))\n",
    "        j += 1\n",
    "    \n",
    "    eigvals = np.diag(A)\n",
    "    \n",
    "    return (eigvals, eigvalslist)\n",
    "\n",
    "C = np.array([[3.,1.],[4.,2.]])\n",
    "print(\"C:\\n\", C)\n",
    "print(\"C in HB trafo:\\n\", intohessenberg(C))\n",
    "print(\"\\nEigenwerte Python: \", np.linalg.eigvals(C))\n",
    "(eigvals, eigvalslist) = qr_eigenvalues(C, 100, 0)\n",
    "print(\"Eigenwerte Selbst: \", eigvals)\n",
    "\n",
    "B = np.array([[4,-1,0,0,0],[-1,4,-1,0,0],[0,-1,4,-1,0],[0,0,-1,4,-1],[0,0,0,-1,4]])\n",
    "print(\"\\n\\nVorgegebenes B:\\n\", B)\n",
    "print(\"B in HB trafo:\\n\", intohessenberg(B))\n",
    "print(\"\\nEigenwerte Python: \", np.linalg.eigvals(B))\n",
    "(eigvals, eigvalslist) = qr_eigenvalues(B, 100, 0)\n",
    "print(\"Eigenwerte Selbst: \", eigvals)\n",
    "\n",
    "M = np.random.rand(10,10)\n",
    "M = M.T@M\n",
    "print(\"\\n\\nZufälliges M:\\n\", M)\n",
    "print(\"M in HB trafo:\\n\", intohessenberg(M))\n",
    "print(\"\\nEigenwerte Python: \", np.linalg.eigvals(M))\n",
    "(eigvals, eigvalslist) = qr_eigenvalues(M, 100, 0)\n",
    "print(\"Eigenwerte Selbst: \", eigvals)"
   ]
  },
  {
   "cell_type": "code",
   "execution_count": null,
   "metadata": {
    "collapsed": true
   },
   "outputs": [],
   "source": []
  },
  {
   "cell_type": "markdown",
   "metadata": {},
   "source": [
    "## Teilaufgabe c) "
   ]
  },
  {
   "cell_type": "markdown",
   "metadata": {},
   "source": [
    "Erstellen Sie einen Plot, aus dem für jeden Eigenwert der Matrix die Konvergenzgeschwindigkeit der jeweiligen Eigenwertnäherungen des QR-Verfahrens hervorgeht. Als die \"richtigen\" Eigenwerte können Sie beispielsweise die mit einer numpy-Routine berechneten Eigenwerte oder die letzte Iterierte Ihres Verfahrens verwenden. \n",
    "\n",
    "Test-Matrix soll $B = B(a,b,c,d)$ wie unten angegeben sein. \n",
    "\n",
    "Variieren Sie die Parameter $a,b,c,d$ und interpretieren Sie Ihre Beobachtungen."
   ]
  },
  {
   "cell_type": "code",
   "execution_count": 75,
   "metadata": {
    "collapsed": false
   },
   "outputs": [
    {
     "name": "stdout",
     "output_type": "stream",
     "text": [
      "Errechnete Eigenwerte:  [ 4.  3.  2.  1.]\n"
     ]
    },
    {
     "data": {
      "image/png": "[encoded data removed]",
      "text/plain": [
       "<matplotlib.figure.Figure at 0x1e5d7884198>"
      ]
     },
     "metadata": {},
     "output_type": "display_data"
    },
    {
     "data": {
      "image/png": "[encoded data removed]",
      "text/plain": [
       "<matplotlib.figure.Figure at 0x1e5d7735320>"
      ]
     },
     "metadata": {},
     "output_type": "display_data"
    },
    {
     "data": {
      "image/png": "[encoded data removed]",
      "text/plain": [
       "<matplotlib.figure.Figure at 0x1e5d78dd7f0>"
      ]
     },
     "metadata": {},
     "output_type": "display_data"
    },
    {
     "data": {
      "image/png": "[encoded data removed]",
      "text/plain": [
       "<matplotlib.figure.Figure at 0x1e5d6b0dd68>"
      ]
     },
     "metadata": {},
     "output_type": "display_data"
    }
   ],
   "source": [
    "a = 1\n",
    "b = 2 \n",
    "c = 3\n",
    "d = 4\n",
    "\n",
    "T = 0.5*np.array([[1,1,1,1],[1,1,-1,-1],[-1,1,-1,1],[-1,1,1,-1]])\n",
    "B = np.diag([a,b,c,d])\n",
    "B = np.matmul(T.T, np.matmul(B,T))\n",
    "\n",
    "(eigvals, eigvalslist) = qr_eigenvalues(B, 100, 0)\n",
    "eigvalslist = np.reshape(eigvalslist, (int(eigvalslist.size/4), 4))\n",
    "\n",
    "print(\"Errechnete Eigenwerte: \", eigvals)\n",
    "\n",
    "plt.plot(eigvals[0] - eigvalslist[:, 0], label = 'EW 1')\n",
    "plt.legend()\n",
    "plt.show()\n",
    "plt.close()\n",
    "\n",
    "plt.plot(eigvals[1] - eigvalslist[:, 1], label = 'EW 2')\n",
    "plt.legend()\n",
    "plt.show()\n",
    "plt.close()\n",
    "\n",
    "plt.plot(eigvals[2] - eigvalslist[:, 2], label = 'EW 3')\n",
    "plt.legend()\n",
    "plt.show()\n",
    "plt.close()\n",
    "\n",
    "plt.plot(eigvals[3] - eigvalslist[:, 3], label = 'EW 4')\n",
    "plt.legend()\n",
    "plt.show()\n",
    "plt.close()"
   ]
  },
  {
   "cell_type": "code",
   "execution_count": null,
   "metadata": {
    "collapsed": true
   },
   "outputs": [],
   "source": []
  }
 ],
 "metadata": {
  "kernelspec": {
   "display_name": "Python 3",
   "language": "python",
   "name": "python3"
  },
  "language_info": {
   "codemirror_mode": {
    "name": "ipython",
    "version": 3
   },
   "file_extension": ".py",
   "mimetype": "text/x-python",
   "name": "python",
   "nbconvert_exporter": "python",
   "pygments_lexer": "ipython3",
   "version": "3.6.0"
  }
 },
 "nbformat": 4,
 "nbformat_minor": 2
}
