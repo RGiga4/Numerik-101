{
 "cells": [
  {
   "cell_type": "markdown",
   "metadata": {},
   "source": [
    "# Programmieraufgabe IV     ( 6 + 10 + 4 = 20 Punkte) \n",
    "## Abgabe in der Woche 17. bis 21. Dezember"
   ]
  },
  {
   "cell_type": "code",
   "execution_count": 1,
   "metadata": {},
   "outputs": [],
   "source": [
    "import numpy as np \n",
    "import matplotlib.pyplot as plt\n",
    "import numpy.linalg as la"
   ]
  },
  {
   "cell_type": "markdown",
   "metadata": {},
   "source": [
    "## Teilaufgabe a) "
   ]
  },
  {
   "cell_type": "markdown",
   "metadata": {},
   "source": [
    "Schreiben Sie eine Funktion, die eine gegebene Matrix $A$ (numpy-array) mittels Householder-Transformationen in eine obere Hessenbergmatrix überführt. \n"
   ]
  },
  {
   "cell_type": "code",
   "execution_count": 2,
   "metadata": {},
   "outputs": [],
   "source": [
    "# Das ist die Kopie von altem Code\n",
    "\n",
    "def householder(arg, w): \n",
    "    \n",
    "    ## Diese Funktion soll eine Householder-Transformation $I - 2ww^T$ auf das Argument arg (Matrix oder Vektor) anwenden.\n",
    "    \n",
    "    l = len(w)\n",
    "    \n",
    "    H_ = np.identity(l)\n",
    "    for i in range(l):\n",
    "        for j in range(l):\n",
    "            H_[i][j] -= 2*w[i]*w[j]\n",
    "    \n",
    "    (num_rows, num_cols) = np.shape(arg)\n",
    "    \n",
    "    H = np.identity(num_rows)\n",
    "    H[num_rows-l:, num_rows-l:] = H_\n",
    "    \n",
    "    result = H@arg\n",
    "    \n",
    "    return (result, H)"
   ]
  },
  {
   "cell_type": "code",
   "execution_count": 3,
   "metadata": {},
   "outputs": [],
   "source": [
    "# Diese Funktion funktioniert noch nicht.\n",
    "# Die Dimensionen stimmen nicht ueberein.\n",
    "\n",
    "def intohessenberg(A):\n",
    "    \n",
    "    m = np.shape(A)[0] - 2\n",
    "    \n",
    "    for k in range(m):\n",
    "        \n",
    "        v = np.copy(A[...,k][k+1:]) # A[k+1:m][k]\n",
    "        v[0] += np.sign(v[0]) * np.linalg.norm(v)\n",
    "        v = v / np.linalg.norm(v)\n",
    "        \n",
    "        ## Benutzte entweder die alte Funktion von oben:\n",
    "        A,_ = householder(A,v)\n",
    "        \n",
    "        ## Debug output\n",
    "        # print(\"k =\", k)\n",
    "        # print(\"v =\", v)\n",
    "        # print(\"np.transpose(v) =\", np.transpose(v))\n",
    "        # print(\"A[...,k:][k+1:] =\", A[...,k:][k+1:])\n",
    "        # print(\"np.transpose(v) @ A[...,k:][k+1:] =\", np.transpose(v) @ A[...,k:][k+1:])\n",
    "        # print(\"v @ (np.transpose(v) @ A[...,k:][k+1:]) =\", v @ (np.transpose(v) @ A[...,k:][k+1:]))\n",
    "        \n",
    "        ## Oder schreibe die Funktion neu:\n",
    "        # A[...,k:][k+1:] -= 2 * (v @ (np.transpose(v) @ A[...,k:][k+1:])) # A[k+1:m][k:m]\n",
    "        # A[...,k+1:][k:] -= 2 * ((A[...,k+1:][k:] @ v) @ np.transpose(v)) # A[1:m][k+1:m]\n",
    "        \n",
    "        # print(\"\")\n",
    "        \n",
    "    return A"
   ]
  },
  {
   "cell_type": "code",
   "execution_count": 4,
   "metadata": {},
   "outputs": [
    {
     "ename": "IndexError",
     "evalue": "index 3 is out of bounds for axis 1 with size 3",
     "output_type": "error",
     "traceback": [
      "\u001b[0;31m---------------------------------------------------------------------------\u001b[0m",
      "\u001b[0;31mIndexError\u001b[0m                                Traceback (most recent call last)",
      "\u001b[0;32m<ipython-input-4-7a90d4682862>\u001b[0m in \u001b[0;36m<module>\u001b[0;34m\u001b[0m\n\u001b[1;32m      2\u001b[0m \u001b[0mA\u001b[0m \u001b[0;34m=\u001b[0m \u001b[0mnp\u001b[0m\u001b[0;34m.\u001b[0m\u001b[0marray\u001b[0m\u001b[0;34m(\u001b[0m\u001b[0mA\u001b[0m\u001b[0;34m)\u001b[0m\u001b[0;34m.\u001b[0m\u001b[0mastype\u001b[0m\u001b[0;34m(\u001b[0m\u001b[0mfloat\u001b[0m\u001b[0;34m)\u001b[0m\u001b[0;34m\u001b[0m\u001b[0;34m\u001b[0m\u001b[0m\n\u001b[1;32m      3\u001b[0m \u001b[0;34m\u001b[0m\u001b[0m\n\u001b[0;32m----> 4\u001b[0;31m \u001b[0mprint\u001b[0m\u001b[0;34m(\u001b[0m\u001b[0mintohessenberg\u001b[0m\u001b[0;34m(\u001b[0m\u001b[0mA\u001b[0m\u001b[0;34m)\u001b[0m\u001b[0;34m)\u001b[0m\u001b[0;34m\u001b[0m\u001b[0;34m\u001b[0m\u001b[0m\n\u001b[0m",
      "\u001b[0;32m<ipython-input-3-e97923262f98>\u001b[0m in \u001b[0;36mintohessenberg\u001b[0;34m(A)\u001b[0m\n\u001b[1;32m      8\u001b[0m     \u001b[0;32mfor\u001b[0m \u001b[0mk\u001b[0m \u001b[0;32min\u001b[0m \u001b[0mrange\u001b[0m\u001b[0;34m(\u001b[0m\u001b[0mm\u001b[0m\u001b[0;34m)\u001b[0m\u001b[0;34m:\u001b[0m\u001b[0;34m\u001b[0m\u001b[0;34m\u001b[0m\u001b[0m\n\u001b[1;32m      9\u001b[0m \u001b[0;34m\u001b[0m\u001b[0m\n\u001b[0;32m---> 10\u001b[0;31m         \u001b[0mv\u001b[0m \u001b[0;34m=\u001b[0m \u001b[0mnp\u001b[0m\u001b[0;34m.\u001b[0m\u001b[0mcopy\u001b[0m\u001b[0;34m(\u001b[0m\u001b[0mA\u001b[0m\u001b[0;34m[\u001b[0m\u001b[0;34m...\u001b[0m\u001b[0;34m,\u001b[0m\u001b[0mk\u001b[0m\u001b[0;34m]\u001b[0m\u001b[0;34m[\u001b[0m\u001b[0mk\u001b[0m\u001b[0;34m+\u001b[0m\u001b[0;36m1\u001b[0m\u001b[0;34m:\u001b[0m\u001b[0;34m]\u001b[0m\u001b[0;34m)\u001b[0m \u001b[0;31m# A[k+1:m][k]\u001b[0m\u001b[0;34m\u001b[0m\u001b[0;34m\u001b[0m\u001b[0m\n\u001b[0m\u001b[1;32m     11\u001b[0m         \u001b[0mv\u001b[0m\u001b[0;34m[\u001b[0m\u001b[0;36m0\u001b[0m\u001b[0;34m]\u001b[0m \u001b[0;34m+=\u001b[0m \u001b[0mnp\u001b[0m\u001b[0;34m.\u001b[0m\u001b[0msign\u001b[0m\u001b[0;34m(\u001b[0m\u001b[0mv\u001b[0m\u001b[0;34m[\u001b[0m\u001b[0;36m0\u001b[0m\u001b[0;34m]\u001b[0m\u001b[0;34m)\u001b[0m \u001b[0;34m*\u001b[0m \u001b[0mnp\u001b[0m\u001b[0;34m.\u001b[0m\u001b[0mlinalg\u001b[0m\u001b[0;34m.\u001b[0m\u001b[0mnorm\u001b[0m\u001b[0;34m(\u001b[0m\u001b[0mv\u001b[0m\u001b[0;34m)\u001b[0m\u001b[0;34m\u001b[0m\u001b[0;34m\u001b[0m\u001b[0m\n\u001b[1;32m     12\u001b[0m         \u001b[0mv\u001b[0m \u001b[0;34m=\u001b[0m \u001b[0mv\u001b[0m \u001b[0;34m/\u001b[0m \u001b[0mnp\u001b[0m\u001b[0;34m.\u001b[0m\u001b[0mlinalg\u001b[0m\u001b[0;34m.\u001b[0m\u001b[0mnorm\u001b[0m\u001b[0;34m(\u001b[0m\u001b[0mv\u001b[0m\u001b[0;34m)\u001b[0m\u001b[0;34m\u001b[0m\u001b[0;34m\u001b[0m\u001b[0m\n",
      "\u001b[0;31mIndexError\u001b[0m: index 3 is out of bounds for axis 1 with size 3"
     ]
    }
   ],
   "source": [
    "A = [[1,2,3],[4,5,6],[7,8,9],[10,11,12],[13,14,15],[16,17,18],[19,20,21]]\n",
    "A = np.array(A).astype(float)\n",
    "\n",
    "print(intohessenberg(A))"
   ]
  },
  {
   "cell_type": "markdown",
   "metadata": {},
   "source": [
    "## Teilaufgabe b)"
   ]
  },
  {
   "cell_type": "markdown",
   "metadata": {},
   "source": [
    "Implementieren Sie das in der Vorlesung behandelte QR-Verfahren zur Eigenwertbestimmung einer oberen Hessenbergmatrix $A$ (numpy-array). Input der Funktion soll die Matrix $A$, eine maximale Anzahl von Iterationen $\\text{itmax}$ und eine Toleranz $\\text{tol}$ sein, die in ein (sinnvolles) Abbruchkriterium eingeht.\n",
    "\n",
    "Ausgegeben werden soll ein array mit den Näherungen für die Eigenwerte, geordnet nach Größe. Außerdem soll eine Liste der Eigenwertnäherungen aller Iterationen ausgegeben werden. \n",
    "\n",
    "Beachten Sie, dass hier die __in der Vorlesung besprochene praktische Umsetzung des QR-Verfahrens zur Eigenwertbestimmung__ implementiert werden soll, d.h. ein bloßes Ausrechnen der QR-Zerlegung $A=QR$ und anschließende Zuweisung $A \\leftarrow RQ$, explizites Aufstellen und Ausmultiplizieren von Givens-Rotations-Matrizen etc. soll hier _nicht_ verwendet werden!"
   ]
  },
  {
   "cell_type": "code",
   "execution_count": 5,
   "metadata": {},
   "outputs": [],
   "source": [
    "def qr_eigenvalues(A, itmax, tol):\n",
    "    \n",
    "    ## to be completed ## \n",
    "    \n",
    "    return eigvals, eigvalslist"
   ]
  },
  {
   "cell_type": "markdown",
   "metadata": {},
   "source": [
    "Testen Sie Ihre Implementierung, indem Sie Ihre Ergebnisse für eine zufällige symmetrische $10 \\times 10$-Matrix und die übliche Matrix $A = \\text{tridiag}(-1,4,1) \\in \\mathbb{R}^{5 \\times 5}$ mit der in numpy vorimplementierten Eigenwertberechnung (wählen Sie eine geeignete Routine) vergleichen. "
   ]
  },
  {
   "cell_type": "code",
   "execution_count": 6,
   "metadata": {},
   "outputs": [
    {
     "name": "stdout",
     "output_type": "stream",
     "text": [
      "[[ 5.13904021 -4.03136127  3.32812752  4.23090192 -3.5411207  -2.57398541\n",
      "  -1.43179885 -0.73674164  4.09911678  0.09160262]\n",
      " [-4.03136127 -7.66910455  2.68956301 -5.25676416 -7.89587645  1.07581117\n",
      "  -7.88128373 -3.0102749   0.31503492 -4.26236813]\n",
      " [ 3.32812752  2.68956301  2.98889931  0.7123523   0.31268395  1.62049287\n",
      "  -3.44878981  2.50947659  3.17333409 -4.82514526]\n",
      " [ 4.23090192 -5.25676416  0.7123523   9.38545239  0.23532298 -2.61838013\n",
      "   3.07330734  2.41720963 -0.38577411 -4.35522171]\n",
      " [-3.5411207  -7.89587645  0.31268395  0.23532298 -2.69465701  2.56316453\n",
      "  -0.78439915 -0.96349971 -3.09018456  2.44805361]\n",
      " [-2.57398541  1.07581117  1.62049287 -2.61838013  2.56316453  2.41720443\n",
      "   3.51604424 -5.30104486  2.25724477  0.39733746]\n",
      " [-1.43179885 -7.88128373 -3.44878981  3.07330734 -0.78439915  3.51604424\n",
      "  -6.70909266  7.97595842  2.00460596 -6.36742418]\n",
      " [-0.73674164 -3.0102749   2.50947659  2.41720963 -0.96349971 -5.30104486\n",
      "   7.97595842 -5.6212759   0.34582327  1.46494787]\n",
      " [ 4.09911678  0.31503492  3.17333409 -0.38577411 -3.09018456  2.25724477\n",
      "   2.00460596  0.34582327  8.02179612  2.64137499]\n",
      " [ 0.09160262 -4.26236813 -4.82514526 -4.35522171  2.44805361  0.39733746\n",
      "  -6.36742418  1.46494787  2.64137499  4.83032605]]\n",
      "[[ 4.  1.  0.  0.  0.]\n",
      " [-1.  4.  1.  0.  0.]\n",
      " [ 0. -1.  4.  1.  0.]\n",
      " [ 0.  0. -1.  4.  1.]\n",
      " [ 0.  0.  0. -1.  4.]]\n"
     ]
    }
   ],
   "source": [
    "scal = 10 # Skaliere die Zufallszahlen -> [-scal,scal)\n",
    "\n",
    "# np.random.random_sample((m,n)) gives B \\in [0,1)^(m x n)\n",
    "# https://docs.scipy.org/doc/numpy/reference/generated/numpy.random.random.html\n",
    "B = 2*scal*(np.random.random_sample((10,10)) - .5)\n",
    "B = (B + B.T)/2\n",
    "\n",
    "A = [[4,1,0,0,0],\n",
    "     [-1,4,1,0,0],\n",
    "     [0,-1,4,1,0],\n",
    "     [0,0,-1,4,1],\n",
    "     [0,0,0,-1,4]]\n",
    "A = np.array(A).astype(float)\n",
    "\n",
    "print(B)\n",
    "print(A)"
   ]
  },
  {
   "cell_type": "code",
   "execution_count": 7,
   "metadata": {},
   "outputs": [
    {
     "name": "stdout",
     "output_type": "stream",
     "text": [
      "sqrt(-1) = nan\n",
      "A:\n",
      "w_0 = (4+1.73205080757j)\n",
      "v_0 = [  2.88675135e-01 +4.99600361e-16j  -1.22124533e-15 +5.00000000e-01j\n",
      "  -5.77350269e-01 +0.00000000e+00j   6.66133815e-16 -5.00000000e-01j\n",
      "   2.88675135e-01 +4.99600361e-16j]\n",
      "w_1 = (4-1.73205080757j)\n",
      "v_1 = [  2.88675135e-01 -4.99600361e-16j  -1.22124533e-15 -5.00000000e-01j\n",
      "  -5.77350269e-01 -0.00000000e+00j   6.66133815e-16 +5.00000000e-01j\n",
      "   2.88675135e-01 -4.99600361e-16j]\n",
      "w_2 = (4+0j)\n",
      "v_2 = [  5.77350269e-01+0.j  -2.25807923e-16+0.j   5.77350269e-01+0.j\n",
      "  -7.99772176e-16+0.j   5.77350269e-01+0.j]\n",
      "w_3 = (4+1j)\n",
      "v_3 = [ -5.00000000e-01 +0.00000000e+00j  -2.48983133e-16 -5.00000000e-01j\n",
      "   5.55111512e-17 -4.44089210e-16j   1.95106077e-16 -5.00000000e-01j\n",
      "   5.00000000e-01 +2.46275674e-17j]\n",
      "w_4 = (4-1j)\n",
      "v_4 = [ -5.00000000e-01 -0.00000000e+00j  -2.48983133e-16 +5.00000000e-01j\n",
      "   5.55111512e-17 +4.44089210e-16j   1.95106077e-16 +5.00000000e-01j\n",
      "   5.00000000e-01 -2.46275674e-17j]\n",
      "B:\n",
      "w_0 = -21.9871669225\n",
      "v_0 = [-0.10214463 -0.54075526 -0.1163779  -0.05377702 -0.23109905  0.19856763\n",
      " -0.6439995   0.30949704  0.05594404 -0.27244277]\n",
      "w_1 = -15.9121264196\n",
      "v_1 = [-0.22399466 -0.5417135   0.29158936 -0.05337919 -0.41670212 -0.17164906\n",
      "  0.22306294 -0.54761367 -0.05487124  0.11290025]\n",
      "w_2 = 18.043752217\n",
      "v_2 = [ 0.40570262 -0.22428154  0.16621807  0.70147069 -0.07423216 -0.20157707\n",
      "  0.24540019  0.21934885  0.13886994 -0.30273723]\n",
      "w_3 = 13.5505731586\n",
      "v_3 = [ 0.3697941   0.23070408  0.38523325 -0.24550253 -0.27746864  0.12253176\n",
      " -0.17611134 -0.1084259   0.68157493  0.04509054]\n",
      "w_4 = 10.9078769311\n",
      "v_4 = [ 0.21521661 -0.39178227 -0.34665932  0.03967251  0.20246851 -0.07614218\n",
      "  0.03124421  0.11328752  0.30022121  0.72643493]\n",
      "w_5 = -5.66694117725\n",
      "v_5 = [ 0.04503274  0.14286176  0.17154334  0.14240748 -0.53743155  0.43881576\n",
      "  0.1241403   0.36142048 -0.35422936  0.41826977]\n",
      "w_6 = 7.43646184602\n",
      "v_6 = [-0.34304145 -0.18317828  0.01748076  0.03468545  0.23956094  0.65565751\n",
      "  0.44422782  0.0498615   0.36409452 -0.16611461]\n",
      "w_7 = 3.71763045861\n",
      "v_7 = [ 0.29188721 -0.1118721   0.3677556   0.22009607  0.44860361  0.39148716\n",
      " -0.34046482 -0.38122522 -0.29393589  0.12823948]\n",
      "w_8 = -1.13812492081\n",
      "v_8 = [-0.58608312  0.26253457  0.09239465  0.55996921 -0.023786   -0.11306904\n",
      " -0.33640355 -0.08693179  0.27268847  0.2388431 ]\n",
      "w_9 = 1.1366532208\n",
      "v_9 = [-0.20817165 -0.1473322   0.65704824 -0.23845628  0.31847563 -0.28490291\n",
      "  0.03823746  0.49560665 -0.03311838  0.12491082]\n"
     ]
    },
    {
     "name": "stderr",
     "output_type": "stream",
     "text": [
      "/home/nicolas/.local/lib/python3.6/site-packages/ipykernel_launcher.py:7: RuntimeWarning: invalid value encountered in sqrt\n",
      "  import sys\n"
     ]
    }
   ],
   "source": [
    "# The column v[:,i] is the eigenvector corresponding to the eigenvalue w[i]\n",
    "# https://docs.scipy.org/doc/numpy/reference/generated/numpy.linalg.eig.html\n",
    "\n",
    "w1, v1 = la.eig(A)\n",
    "w2, v2 = la.eig(B)\n",
    "\n",
    "print(\"sqrt(-1) =\", np.sqrt(-1)) #TODO complex numbers\n",
    "\n",
    "print(\"A:\")\n",
    "for i in range(w1.shape[0]):\n",
    "    print(\"w_\" + str(i), \"=\", w1[i])\n",
    "    print(\"v_\" + str(i), \"=\", v1[:,i])\n",
    "print(\"B:\")\n",
    "for i in range(w2.shape[0]):\n",
    "    print(\"w_\" + str(i), \"=\", w2[i])\n",
    "    print(\"v_\" + str(i), \"=\", v2[:,i])"
   ]
  },
  {
   "cell_type": "markdown",
   "metadata": {},
   "source": [
    "## Teilaufgabe c) "
   ]
  },
  {
   "cell_type": "markdown",
   "metadata": {},
   "source": [
    "Erstellen Sie einen Plot, aus dem für jeden Eigenwert der Matrix die Konvergenzgeschwindigkeit der jeweiligen Eigenwertnäherungen des QR-Verfahrens hervorgeht. Als die \"richtigen\" Eigenwerte können Sie beispielsweise die mit einer numpy-Routine berechneten Eigenwerte oder die letzte Iterierte Ihres Verfahrens verwenden. \n",
    "\n",
    "Test-Matrix soll $B = B(a,b,c,d)$ wie unten angegeben sein. \n",
    "\n",
    "Variieren Sie die Parameter $a,b,c,d$ und interpretieren Sie Ihre Beobachtungen."
   ]
  },
  {
   "cell_type": "code",
   "execution_count": 8,
   "metadata": {},
   "outputs": [],
   "source": [
    "a = 1\n",
    "b = 2 \n",
    "c = 3\n",
    "d = 4\n",
    "\n",
    "T = 0.5*np.array([[1,1,1,1],[1,1,-1,-1],[-1,1,-1,1],[-1,1,1,-1]])\n",
    "B = np.diag([a, b, c, d])\n",
    "B = np.matmul(T.T, np.matmul(B, T))\n",
    "\n",
    "## to be completed ## "
   ]
  }
 ],
 "metadata": {
  "kernelspec": {
   "display_name": "Python 3",
   "language": "python",
   "name": "python3"
  },
  "language_info": {
   "codemirror_mode": {
    "name": "ipython",
    "version": 3
   },
   "file_extension": ".py",
   "mimetype": "text/x-python",
   "name": "python",
   "nbconvert_exporter": "python",
   "pygments_lexer": "ipython3",
   "version": "3.6.7"
  }
 },
 "nbformat": 4,
 "nbformat_minor": 2
}
