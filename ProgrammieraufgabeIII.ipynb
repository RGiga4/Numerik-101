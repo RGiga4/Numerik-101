{
 "cells": [
  {
   "cell_type": "markdown",
   "metadata": {},
   "source": [
    "# Programmieraufgabe III (5+5+5+5 = 20 Punkte)\n",
    "## Abgabe in der Woche 3.-7. Dezember"
   ]
  },
  {
   "cell_type": "code",
   "execution_count": 1,
   "metadata": {},
   "outputs": [],
   "source": [
    "import numpy as np \n",
    "import matplotlib.pyplot as plt"
   ]
  },
  {
   "cell_type": "markdown",
   "metadata": {},
   "source": [
    "## Teilaufgabe a)"
   ]
  },
  {
   "cell_type": "markdown",
   "metadata": {},
   "source": [
    "Implementieren Sie die __einfache Vektoriteration nach von Mises__. Input soll sein\n",
    "\n",
    "* eine Funktion $\\texttt{Afun}$, die die Anwendung eines linearen Operators beschreibt, \n",
    "* ein Startvektor $z_0$ (nicht notwendigerweise normiert), \n",
    "* eine maximale Anzahl von Iterationen $\\text{it}_\\text{max}$ sowie eine Toleranz $\\varepsilon$, derart dass die Iteration stoppt, wenn zwei aufeinanderfolgende Eigenvektorapproximationen sich nur um Norm $<\\varepsilon$ unterscheiden. \n",
    "\n",
    "Output sollen Näherungen des gesuchten Eigenwerts und des zugehörigen Eigenvektors sein. Zusätzlich sollen jeweils Listen mit allen Iterierten (für Eigenwert und Eigenvektor) ausgegeben werden. Falls die Toleranz nicht erreicht wird, soll eine Fehlermeldung ausgegeben werden."
   ]
  },
  {
   "cell_type": "code",
   "execution_count": 2,
   "metadata": {},
   "outputs": [],
   "source": [
    "def vectoriteration(Afun, z0, itmax, epsilon):\n",
    "    \n",
    "    # to be filled in \n",
    "    \n",
    "    return eigval, z, eigvallist, zlist \n",
    "    "
   ]
  },
  {
   "cell_type": "markdown",
   "metadata": {},
   "source": [
    "Testen Sie Ihre Implementierung an der $4\\times 4$-Matrix $A = \\begin{pmatrix} 1 & & & \\\\ & 2 & & \\\\ & & 2 & \\\\ & & & 2 \\end{pmatrix}$. Welche Konvergenzgeschwindigkeit für die Eigenwertnäherungen können Sie beobachten?\n",
    "\n",
    "Wie ändert sich das Konvergenzverhalten, wenn Sie eine Nebendiagonale mit den Einträgen $0$, $1$, $1$ hinzufügen, d.h. für \n",
    "$A = \\begin{pmatrix} 1 & 0 & & \\\\ & 2 & 1 & \\\\ & & 2 & 1 \\\\ & & & 2 \\end{pmatrix}$?"
   ]
  },
  {
   "cell_type": "code",
   "execution_count": null,
   "metadata": {},
   "outputs": [],
   "source": [
    "\n"
   ]
  },
  {
   "cell_type": "markdown",
   "metadata": {},
   "source": [
    "## Teilaufgabe b)"
   ]
  },
  {
   "cell_type": "markdown",
   "metadata": {},
   "source": [
    "Sei $B$ diejenige $n \\times n$-Matrix mit Einträgen $b$ auf der Hauptdiagonalen und Einträgen $-1$ auf den beiden Nebendiagonalen. Testen Sie Ihre Implementierung aus Aufgabe a), indem Sie den betragsmäßig größten Eigenwert von $B$ für verschiedene $b> 2$ bzw. $n \\in \\mathbb{N}$ berechnen.\n",
    "\n",
    "Welche Konvergenzgeschwindigkeit hinsichtlich der Eigenwerte können Sie beobachten? Interpretieren Sie Ihre Ergebnisse."
   ]
  },
  {
   "cell_type": "code",
   "execution_count": null,
   "metadata": {},
   "outputs": [],
   "source": [
    "\n"
   ]
  },
  {
   "cell_type": "markdown",
   "metadata": {},
   "source": [
    "## Teilaufgabe c)"
   ]
  },
  {
   "cell_type": "markdown",
   "metadata": {},
   "source": [
    "Implementieren Sie die __inverse Iteration__ zur Bestimmung des betragsmäßig kleinsten Eigenwerts einer invertierbaren Matrix. Input darf hier also eine Matrix als numpy-array sein; die restlichen Inputs sollen wie in a) gewählt werden.  \n",
    "\n",
    "Wenden Sie Ihre Funktion auf die Matrix $B$ aus der vorhergehenden Aufgabe an und plotten Sie erneut die Konvergenzgeschwindkeiten für verschiedene $b$ und $n$."
   ]
  },
  {
   "cell_type": "code",
   "execution_count": 3,
   "metadata": {},
   "outputs": [],
   "source": [
    "def inverseiteration(A, z0, itmax, epsilon):\n",
    "    \n",
    "    # to be filled in\n",
    "    \n",
    "    return \n",
    "\n"
   ]
  },
  {
   "cell_type": "markdown",
   "metadata": {},
   "source": [
    "## Teilaufgabe d)"
   ]
  },
  {
   "cell_type": "markdown",
   "metadata": {},
   "source": [
    "Gegeben Sei nun die Diagonalmatrix $D_m \\in \\mathbb{R}^{10 \\times 10}$ mit den ersten $m$ Diagonaleinträgen $10$ und den letzten $(10-m)$ Diagonaleinträgen $2$. Ferner sei die Matrix $C = C(c) \\in \\mathbb{R}^{10 \\times 10}$ für $c \\in (-1,1)$ definiert durch $C_{10,j} = C_{j,10}=c$ für $j = 1,...,9$; alle anderen Einträge sind Null.\n",
    "\n",
    "Bestimmen Sie jeweils einen Eigenwert $\\lambda(c)$ der gestörten Matrix $D_m+C(c)$, der möglichst nahe am Eigenwert $2$ der ursprünglichen Matrix $D_m$ liegt und plotten Sie den Verlauf von $\\lambda(c)$ für variierendes $c \\in (-0.01,0.01)$. Implementieren und verwenden Sie dazu die __inverse/gebrochene Iteration nach Wielandt__ mit entsprechend sinnvollen Parametern.\n",
    "\n",
    "Deuten Sie das im Plot zu beobachtende Verhalten von $\\lambda(c)$ für variierendes $m$."
   ]
  },
  {
   "cell_type": "code",
   "execution_count": 4,
   "metadata": {},
   "outputs": [],
   "source": [
    "def inverseiterationwielandt(A, z0, mu, itmax, epsilon):\n",
    "    \n",
    "    # to be filled in\n",
    "    \n",
    "    return \n",
    "\n"
   ]
  }
 ],
 "metadata": {
  "kernelspec": {
   "display_name": "Python 3",
   "language": "python",
   "name": "python3"
  },
  "language_info": {
   "codemirror_mode": {
    "name": "ipython",
    "version": 3
   },
   "file_extension": ".py",
   "mimetype": "text/x-python",
   "name": "python",
   "nbconvert_exporter": "python",
   "pygments_lexer": "ipython3",
   "version": "3.6.7"
  }
 },
 "nbformat": 4,
 "nbformat_minor": 2
}
