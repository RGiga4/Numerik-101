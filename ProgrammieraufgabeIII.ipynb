{
 "cells": [
  {
   "cell_type": "markdown",
   "metadata": {},
   "source": [
    "# Programmieraufgabe III (5+5+5+5 = 20 Punkte)\n",
    "## Abgabe in der Woche 3.-7. Dezember"
   ]
  },
  {
   "cell_type": "code",
   "execution_count": 140,
   "metadata": {},
   "outputs": [],
   "source": [
    "import numpy as np\n",
    "import numpy.linalg as LA \n",
    "import matplotlib.pyplot as plt"
   ]
  },
  {
   "cell_type": "markdown",
   "metadata": {},
   "source": [
    "## Teilaufgabe a)"
   ]
  },
  {
   "cell_type": "markdown",
   "metadata": {},
   "source": [
    "Implementieren Sie die __einfache Vektoriteration nach von Mises__. Input soll sein\n",
    "\n",
    "* eine Funktion $\\texttt{Afun}$, die die Anwendung eines linearen Operators beschreibt, \n",
    "* ein Startvektor $z_0$ (nicht notwendigerweise normiert), \n",
    "* eine maximale Anzahl von Iterationen $\\text{it}_\\text{max}$ sowie eine Toleranz $\\varepsilon$, derart dass die Iteration stoppt, wenn zwei aufeinanderfolgende Eigenvektorapproximationen sich nur um Norm $<\\varepsilon$ unterscheiden. \n",
    "\n",
    "Output sollen Näherungen des gesuchten Eigenwerts und des zugehörigen Eigenvektors sein. Zusätzlich sollen jeweils Listen mit allen Iterierten (für Eigenwert und Eigenvektor) ausgegeben werden. Falls die Toleranz nicht erreicht wird, soll eine Fehlermeldung ausgegeben werden."
   ]
  },
  {
   "cell_type": "code",
   "execution_count": 2,
   "metadata": {},
   "outputs": [],
   "source": [
    "def vectoriteration(Afun, z0, itmax, epsilon):\n",
    "    \n",
    "    eigvallist = [] #??\n",
    "    zlist = [z0]\n",
    "    \n",
    "    for it in range(itmax):\n",
    "        \n",
    "        zold = zlist[-1]\n",
    "        \n",
    "        z = Afun(zold)\n",
    "        \n",
    "        k = np.argmax(z) #TODO norm\n",
    "        s = np.sign(zold[k] / z[k])\n",
    "        \n",
    "        eigval = s * np.linalg.norm(z)\n",
    "        z = s * z / np.linalg.norm(z)\n",
    "        \n",
    "        eigvallist.append(eigval)\n",
    "        zlist.append(z)\n",
    "        \n",
    "        if np.linalg.norm(z - zold) < epsilon: break\n",
    "        \n",
    "    if it + 1 == itmax: print(\"precision error\")\n",
    "    \n",
    "    return eigval, z, eigvallist, zlist"
   ]
  },
  {
   "cell_type": "markdown",
   "metadata": {},
   "source": [
    "Testen Sie Ihre Implementierung an der $4\\times 4$-Matrix $A = \\begin{pmatrix} 1 & & & \\\\ & 2 & & \\\\ & & 2 & \\\\ & & & 2 \\end{pmatrix}$. Welche Konvergenzgeschwindigkeit für die Eigenwertnäherungen können Sie beobachten?\n",
    "\n",
    "Wie ändert sich das Konvergenzverhalten, wenn Sie eine Nebendiagonale mit den Einträgen $0$, $1$, $1$ hinzufügen, d.h. für \n",
    "$A' = \\begin{pmatrix} 1 & 0 & & \\\\ & 2 & 1 & \\\\ & & 2 & 1 \\\\ & & & 2 \\end{pmatrix}$?"
   ]
  },
  {
   "cell_type": "code",
   "execution_count": 3,
   "metadata": {},
   "outputs": [],
   "source": [
    "def Afun(x):\n",
    "    A = np.array([[1, 0, 0, 0], [0, 2, 0, 0], [0, 0, 2, 0], [0, 0, 0, 2]])\n",
    "    return A @ x\n",
    "\n",
    "def A2fun(x):\n",
    "    A = np.array([[1, 0, 0, 0], [0, 2, 1, 0], [0, 0, 2, 1], [0, 0, 0, 2]])\n",
    "    return A @ x"
   ]
  },
  {
   "cell_type": "code",
   "execution_count": 4,
   "metadata": {},
   "outputs": [
    {
     "data": {
      "image/png": "[encoded data removed]",
      "text/plain": [
       "<matplotlib.figure.Figure at 0x7fc08e9827b8>"
      ]
     },
     "metadata": {
      "needs_background": "light"
     },
     "output_type": "display_data"
    },
    {
     "data": {
      "image/png": "[encoded data removed]",
      "text/plain": [
       "<matplotlib.figure.Figure at 0x7fc08e60af28>"
      ]
     },
     "metadata": {
      "needs_background": "light"
     },
     "output_type": "display_data"
    }
   ],
   "source": [
    "itmax = 1000\n",
    "epsilon = .0001\n",
    "\n",
    "x0 = np.array([.5, .5, .5, .5])\n",
    "y0 = np.array([.5, .5, .5, .5])\n",
    "\n",
    "\n",
    "xeigval, x, xeigvallist, xlist = vectoriteration(Afun, x0, itmax, epsilon)\n",
    "xplot = [np.linalg.norm(xval - x) for xval in xlist]\n",
    "xeigvalplot = [np.linalg.norm(xeigvalit - xeigval) for xeigvalit in xeigvallist]\n",
    "\n",
    "yeigval, y, yeigvallist, ylist = vectoriteration(A2fun, y0, itmax, epsilon)\n",
    "yplot = [np.linalg.norm(yval - y) for yval in ylist]\n",
    "yeigvalplot = [np.linalg.norm(yeigvalit - yeigval) for yeigvalit in yeigvallist]\n",
    "\n",
    "\n",
    "plt.plot(xplot, label=\"A\")\n",
    "plt.plot(xeigvalplot, label=\"A eigval\")\n",
    "\n",
    "plt.legend()\n",
    "plt.show()\n",
    "plt.close()\n",
    "\n",
    "\n",
    "plt.plot(yeigvalplot, label=\"A\\' eigval\")\n",
    "plt.plot(yplot, label=\"A\\'\")\n",
    "\n",
    "plt.legend()\n",
    "plt.show()\n",
    "plt.close()"
   ]
  },
  {
   "cell_type": "markdown",
   "metadata": {},
   "source": [
    "## Teilaufgabe b)"
   ]
  },
  {
   "cell_type": "markdown",
   "metadata": {},
   "source": [
    "Sei $B$ diejenige $n \\times n$-Matrix mit Einträgen $b$ auf der Hauptdiagonalen und Einträgen $-1$ auf den beiden Nebendiagonalen. Testen Sie Ihre Implementierung aus Aufgabe a), indem Sie den betragsmäßig größten Eigenwert von $B$ für verschiedene $b> 2$ bzw. $n \\in \\mathbb{N}$ berechnen.\n",
    "\n",
    "Welche Konvergenzgeschwindigkeit hinsichtlich der Eigenwerte können Sie beobachten? Interpretieren Sie Ihre Ergebnisse."
   ]
  },
  {
   "cell_type": "code",
   "execution_count": 5,
   "metadata": {},
   "outputs": [],
   "source": [
    "n = 10\n",
    "b = 42\n",
    "B = []\n",
    "for j in range(n):\n",
    "    row = []\n",
    "    for i in range(n):\n",
    "        if i == j: row.append(b)\n",
    "        elif i == j - 1: row.append(-1)\n",
    "        elif i == j + 1:row.append(-1)\n",
    "        else: row.append(0)\n",
    "    B.append(row)\n",
    "    \n",
    "\n",
    "def Bfun(x):\n",
    "    global B\n",
    "    B = np.array(B)\n",
    "    return B @ x"
   ]
  },
  {
   "cell_type": "code",
   "execution_count": 6,
   "metadata": {},
   "outputs": [
    {
     "data": {
      "image/png": "[encoded data removed]",
      "text/plain": [
       "<matplotlib.figure.Figure at 0x7fc08e6fc198>"
      ]
     },
     "metadata": {
      "needs_background": "light"
     },
     "output_type": "display_data"
    }
   ],
   "source": [
    "itmax = 1000\n",
    "epsilon = .0001\n",
    "\n",
    "x0 = np.ones(n)\n",
    "\n",
    "\n",
    "xeigval, x, xeigvallist, xlist = vectoriteration(Bfun, x0, itmax, epsilon)\n",
    "xplot = [np.linalg.norm(xval - x) for xval in xlist]\n",
    "xeigvalplot = [np.linalg.norm(xeigvalit - xeigval) for xeigvalit in xeigvallist]\n",
    "\n",
    "\n",
    "plt.plot(xplot, label=\"B\")\n",
    "plt.plot(xeigvalplot, label=\"B eigval\")\n",
    "\n",
    "plt.legend()\n",
    "plt.show()\n",
    "plt.close()"
   ]
  },
  {
   "cell_type": "markdown",
   "metadata": {},
   "source": [
    "## Teilaufgabe c)"
   ]
  },
  {
   "cell_type": "markdown",
   "metadata": {},
   "source": [
    "Implementieren Sie die __inverse Iteration__ zur Bestimmung des betragsmäßig kleinsten Eigenwerts einer invertierbaren Matrix. Input darf hier also eine Matrix als numpy-array sein; die restlichen Inputs sollen wie in a) gewählt werden.  \n",
    "\n",
    "Wenden Sie Ihre Funktion auf die Matrix $B$ aus der vorhergehenden Aufgabe an und plotten Sie erneut die Konvergenzgeschwindkeiten für verschiedene $b$ und $n$."
   ]
  },
  {
   "cell_type": "code",
   "execution_count": 7,
   "metadata": {},
   "outputs": [],
   "source": []
  },
  {
   "cell_type": "code",
   "execution_count": 184,
   "metadata": {},
   "outputs": [],
   "source": [
    "\n",
    "def myuppertriangularsolver(A,b):\n",
    "    \n",
    "    ## Löst die Gleichung Ax = b, wobei A eine obere Dreiecksmatrix . ##\n",
    "    #print(A)\n",
    "    #print(b)\n",
    "    n = len(b)\n",
    "    x = np.zeros_like(b)\n",
    "    \n",
    "    for i in range (n-1, -1, -1):\n",
    "        if(np.abs(A[i][i])>0.00000001):\n",
    "            sum = 0\n",
    "            for j in range (i+1, n):\n",
    "                sum += A[i][j]*x[j]\n",
    "            x[i] = (b[i] - sum)/A[i][i] \n",
    "        else:\n",
    "            x[i] = 0\n",
    "    #print(x)\n",
    "    return x\n",
    "def inverseiteration(A, z0, itmax, eps):# funkt für invertierbar und sigular, wird wired by diagonal und sing\n",
    "    \n",
    "    z_old = np.copy(z0)#kopieren\n",
    "    Q,R = np.linalg.qr(A)\n",
    "    \n",
    "    #print(Q)\n",
    "    #print(R)\n",
    "    ente_old = 0.1\n",
    "    ente = 0.1\n",
    "    k = 0\n",
    "    while k<itmax:\n",
    "        \n",
    "        z_old /=LA.norm(z_old)\n",
    "        \n",
    "        rhs = np.transpose(Q).dot(z_old)\n",
    "        z_new = myuppertriangularsolver(R,rhs)#Lösen\n",
    "        \n",
    "        #t = LA.norm(z_new)\n",
    "        ente_old = ente\n",
    "        ente = z_new.T.dot(A.dot(z_new))/(z_new.T.dot(z_new))\n",
    "        if(np.absolute(ente_old-ente)<eps):break\n",
    "        '''ente = LA.norm(z_old)/t \n",
    "        #print(z_old)\n",
    "        #print(z_new)\n",
    "        \n",
    "        \n",
    "        max_i = np.unravel_index(np.argmax(z_old), z_new.shape)#quak quak\n",
    "        min_i = np.unravel_index(np.argmax(-z_old), z_new.shape)\n",
    "        if -z_old[min_i]>z_old[max_i]: \n",
    "            quak = min_i\n",
    "        else: \n",
    "            quak = max_i\n",
    "        if (z_new[quak]/z_old[quak]<0):\n",
    "            ente *=-1\n",
    "        \n",
    "        \n",
    "        z_new/=t# normieren'''\n",
    "        #print(LA.norm(z_new-z_old))\n",
    "        #if(LA.norm(z_new-z_old)<eps):break\n",
    "        \n",
    "        z_old = z_new\n",
    "        k+=1\n",
    "    if(k == itmax):print('break wegen itmax')\n",
    "    # to be filled in\n",
    "    \n",
    "    return ente"
   ]
  },
  {
   "cell_type": "code",
   "execution_count": null,
   "metadata": {},
   "outputs": [],
   "source": []
  },
  {
   "cell_type": "code",
   "execution_count": 181,
   "metadata": {},
   "outputs": [
    {
     "data": {
      "text/plain": [
       "'itmax = 1000\\nepsilon = .0001\\n\\nx0 = np.ones(n)\\n\\n\\nxeigval, x, xeigvallist, xlist = inverseiteration(B, x0, itmax, epsilon)\\nxplot = [np.linalg.norm(xval - x) for xval in xlist]\\nxeigvalplot = [np.linalg.norm(xeigvalit - xeigval) for xeigvalit in xeigvallist]\\n\\n\\nplt.plot(xplot, label=\"B\")\\nplt.plot(xeigvalplot, label=\"B eigval\")\\n\\nplt.legend()\\nplt.show()\\nplt.close()'"
      ]
     },
     "execution_count": 181,
     "metadata": {},
     "output_type": "execute_result"
    }
   ],
   "source": [
    "'''itmax = 1000\n",
    "epsilon = .0001\n",
    "\n",
    "x0 = np.ones(n)\n",
    "\n",
    "\n",
    "xeigval, x, xeigvallist, xlist = inverseiteration(B, x0, itmax, epsilon)\n",
    "xplot = [np.linalg.norm(xval - x) for xval in xlist]\n",
    "xeigvalplot = [np.linalg.norm(xeigvalit - xeigval) for xeigvalit in xeigvallist]\n",
    "\n",
    "\n",
    "plt.plot(xplot, label=\"B\")\n",
    "plt.plot(xeigvalplot, label=\"B eigval\")\n",
    "\n",
    "plt.legend()\n",
    "plt.show()\n",
    "plt.close()'''"
   ]
  },
  {
   "cell_type": "markdown",
   "metadata": {},
   "source": [
    "## Teilaufgabe d)"
   ]
  },
  {
   "cell_type": "markdown",
   "metadata": {},
   "source": [
    "Gegeben Sei nun die Diagonalmatrix $D_m \\in \\mathbb{R}^{10 \\times 10}$ mit den ersten $m$ Diagonaleinträgen $10$ und den letzten $(10-m)$ Diagonaleinträgen $2$. Ferner sei die Matrix $C = C(c) \\in \\mathbb{R}^{10 \\times 10}$ für $c \\in (-1,1)$ definiert durch $C_{10,j} = C_{j,10}=c$ für $j = 1,...,9$; alle anderen Einträge sind Null.\n",
    "\n",
    "Bestimmen Sie jeweils einen Eigenwert $\\lambda(c)$ der gestörten Matrix $D_m+C(c)$, der möglichst nahe am Eigenwert $2$ der ursprünglichen Matrix $D_m$ liegt und plotten Sie den Verlauf von $\\lambda(c)$ für variierendes $c \\in (-0.01,0.01)$. Implementieren und verwenden Sie dazu die __inverse/gebrochene Iteration nach Wielandt__ mit entsprechend sinnvollen Parametern.\n",
    "\n",
    "Deuten Sie das im Plot zu beobachtende Verhalten von $\\lambda(c)$ für variierendes $m$."
   ]
  },
  {
   "cell_type": "code",
   "execution_count": 191,
   "metadata": {},
   "outputs": [
    {
     "data": {
      "image/png": "[encoded data removed]",
      "text/plain": [
       "<Figure size 432x288 with 1 Axes>"
      ]
     },
     "metadata": {
      "needs_background": "light"
     },
     "output_type": "display_data"
    },
    {
     "data": {
      "image/png": "[encoded data removed]",
      "text/plain": [
       "<Figure size 432x288 with 1 Axes>"
      ]
     },
     "metadata": {
      "needs_background": "light"
     },
     "output_type": "display_data"
    }
   ],
   "source": [
    "def inverseiterationwielandt(B, z0, mu, itmax, epsilon):\n",
    "    A = B-mu*np.identity(B.shape[0])\n",
    "    #print(A)\n",
    "    ente = inverseiteration(A, z0, itmax, epsilon)\n",
    "    # to be filled in\n",
    "    \n",
    "    return(ente+mu)\n",
    "def funC(c):\n",
    "    C = np.zeros((10,10))\n",
    "    for i in range(0,9):\n",
    "        C[i][9] = c\n",
    "        C[9][i] = c\n",
    "    return C\n",
    "\n",
    "\n",
    "z0 = np.ones((10))\n",
    "\n",
    "n = 10\n",
    "lin = np.linspace(-0.01,0.01,n+1)\n",
    "\n",
    "m = 5\n",
    "\n",
    "for m in range(1,8):\n",
    "    \n",
    "\n",
    "    D_m = np.zeros((10,10))\n",
    "\n",
    "    for i in range(10):\n",
    "        if(i<m):D_m[i][i] = 10\n",
    "        else: D_m[i][i] = 2\n",
    "\n",
    "    lamdas = [inverseiterationwielandt(D_m+funC(c), z0, 2.0, 100, 0.000001) for c in lin]\n",
    "    #print(lamdas)\n",
    "    lamdas = [x if np.absolute(x-2)<4 else 2 for x in lamdas]# kleines makeup der daten\n",
    "\n",
    "\n",
    "\n",
    "\n",
    "\n",
    "    plt.plot(lin, lamdas, '.',label = 'm = '+str(m))\n",
    "plt.legend()\n",
    "plt.show()\n",
    "plt.close()\n",
    "\n",
    "for m in [5,9]:\n",
    "    \n",
    "\n",
    "    D_m = np.zeros((10,10))\n",
    "\n",
    "    for i in range(10):\n",
    "        if(i<m):D_m[i][i] = 10\n",
    "        else: D_m[i][i] = 2\n",
    "\n",
    "    lamdas = [inverseiterationwielandt(D_m+funC(c), z0, 2.0, 100, 0.000001) for c in lin]\n",
    "    #print(lamdas)\n",
    "    lamdas = [x if np.absolute(x-2)<4 else 2 for x in lamdas]# kleines makeup der daten\n",
    "\n",
    "\n",
    "\n",
    "\n",
    "\n",
    "    plt.plot(lin, lamdas, '.',label = 'm = '+str(m))\n",
    "plt.legend()\n",
    "plt.show()\n",
    "plt.close()"
   ]
  },
  {
   "cell_type": "code",
   "execution_count": null,
   "metadata": {},
   "outputs": [],
   "source": []
  }
 ],
 "metadata": {
  "kernelspec": {
   "display_name": "Python 3",
   "language": "python",
   "name": "python3"
  },
  "language_info": {
   "codemirror_mode": {
    "name": "ipython",
    "version": 3
   },
   "file_extension": ".py",
   "mimetype": "text/x-python",
   "name": "python",
   "nbconvert_exporter": "python",
   "pygments_lexer": "ipython3",
   "version": "3.7.0"
  }
 },
 "nbformat": 4,
 "nbformat_minor": 2
}
