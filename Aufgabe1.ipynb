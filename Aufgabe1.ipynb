{
 "cells": [
  {
   "cell_type": "markdown",
   "metadata": {},
   "source": [
    "# Programmieraufgabe I                                              (9 + 8 + 4 + 4 = 25 Punkte)\n",
    "## _Abgabe in der Woche vom 5. bis 9. November_"
   ]
  },
  {
   "cell_type": "code",
   "execution_count": 2,
   "metadata": {
    "collapsed": true
   },
   "outputs": [],
   "source": [
    "import numpy as np \n",
    "from numpy import linalg as LA\n",
    "import matplotlib.pyplot as plt\n"
   ]
  },
  {
   "cell_type": "markdown",
   "metadata": {},
   "source": [
    "Die grundlegenden Operationen der linearen Algebra (d.h. Summen, Skalarprodukte, Norm, Matrix-Vektor-Produkt, etc.) sind sind für numpy-arrays bereits implementiert und dürfen hier verwendet werden. "
   ]
  },
  {
   "cell_type": "markdown",
   "metadata": {},
   "source": [
    "## Teilaufgabe a)"
   ]
  },
  {
   "cell_type": "markdown",
   "metadata": {},
   "source": [
    "Implementieren Sie eine Funktion, die als Input ein Matrix $A$ (als numpy-array) erhält und die reduzierte QR-Zerlegung ($\\hat{Q}$, $\\hat{R}$ jeweils als numpy-arrays) zurückgibt. Als Subroutine empfiehlt es sich, die Anwendung der Householder-Transformation separat zu implementieren.\n"
   ]
  },
  {
   "cell_type": "code",
   "execution_count": 4,
   "metadata": {
    "collapsed": false
   },
   "outputs": [
    {
     "name": "stdout",
     "output_type": "stream",
     "text": [
      "[[  2.22044605e-16   0.00000000e+00]\n",
      " [  0.00000000e+00  -2.22044605e-16]\n",
      " [  0.00000000e+00   0.00000000e+00]\n",
      " [  1.11022302e-16   1.11022302e-16]]\n",
      "[[ 0.  0.]\n",
      " [ 0.  0.]]\n"
     ]
    }
   ],
   "source": [
    "def sgn(x):\n",
    "    if x > 0:\n",
    "        return 1.\n",
    "    elif x < 0:\n",
    "        return -1.\n",
    "    elif x == 0:\n",
    "        return 0.\n",
    "    else:\n",
    "        return x\n",
    "def pan_norm(x, begin, n):#pan dimensinale 2-norm\n",
    "    res = 0.\n",
    "    for i in xrange(begin, n):\n",
    "        res += x[i]**2\n",
    "    return np.sqrt(res)\n",
    "def myqr(B): \n",
    "    ## Diese Funktion soll die reduzierte QR-Zerlegung von A berechnen und Q,R (in der Vorlesung $\\hat{Q}, \\hat{R}$) zurückgeben...\n",
    "    (m,n) = B.shape;\n",
    "    A = np.copy(B)# das R\n",
    "    Q = np.identity(m)\n",
    "    \n",
    "    \n",
    "    for i in xrange(min(n,m)):\n",
    "        Q[i][i] = 1\n",
    "    for i in xrange(n):\n",
    "        tmp = A[i:m, i:n]\n",
    "        #print(tmp)\n",
    "        sig = sgn(tmp[0][0])*LA.norm(tmp.T[0])\n",
    "        #print(sig)\n",
    "        w = np.copy(tmp.T[0]).reshape((m-i,1))\n",
    "        w[0][0] += sig\n",
    "        w /= LA.norm(w)\n",
    "        #print(w)\n",
    "        tmp = householder(tmp, w)\n",
    "        \n",
    "        #beim kopieren wird benutz das A 0-Block hat ist\n",
    "        for ix in xrange(i,m):#ich weiß es gibt iteratoren\n",
    "            for iy in xrange(i,n):\n",
    "                A[ix][iy] = tmp[ix-i][iy-i]\n",
    "        #print(tmp)\n",
    "        \n",
    "        tmp2 = Q[i:m, 0:m]\n",
    "        tmp2 = householder(tmp2, w)\n",
    "        for ix in xrange(i,m):#ich weiß es gibt iteratoren\n",
    "            for iy in xrange(0,m):\n",
    "                Q[ix][iy] = tmp2[ix-i][iy]\n",
    "        #print(Q)\n",
    "        #print(np.matmul(Q,B))\n",
    "        #print(A)\n",
    "    return Q[0:n,:].T,A[0:n,:]\n",
    "    #return Q,R\n",
    "\n",
    "def householder(arg, w): \n",
    "    ## Diese Funktion soll eine Householder-Transformation $I - 2ww^T$ auf das Argument arg (Matrix oder Vektor) anwenden.\n",
    "    (m,n) = arg.shape;\n",
    "   \n",
    "    A = np.copy(arg)\n",
    "    t = np.matmul(w.T, arg)\n",
    "    t = np.matmul(w, t)\n",
    "    res = A -2*t\n",
    "    return res\n",
    "\n",
    "A = np.array([[1, -2, 4], [1, -1, 1], [1,1,1], [1,2,4]], dtype = float)\n",
    "A = np.array([[3, 5], [0, 2], [0,0], [4,5]], dtype = float)\n",
    "q1, r1= myqr(A)\n",
    "q2, r2 = np.linalg.qr(A)\n",
    "print(q1-q2)\n",
    "print(r1-r2)\n"
   ]
  },
  {
   "cell_type": "code",
   "execution_count": 46,
   "metadata": {
    "collapsed": false
   },
   "outputs": [
    {
     "ename": "ValueError",
     "evalue": "shapes (1,2) and (4,2) not aligned: 2 (dim 1) != 4 (dim 0)",
     "output_type": "error",
     "traceback": [
      "\u001b[0;31m---------------------------------------------------------------------------\u001b[0m",
      "\u001b[0;31mValueError\u001b[0m                                Traceback (most recent call last)",
      "\u001b[0;32m<ipython-input-46-2a2f61fefdd0>\u001b[0m in \u001b[0;36m<module>\u001b[0;34m()\u001b[0m\n\u001b[1;32m     62\u001b[0m \u001b[0mA\u001b[0m \u001b[1;33m=\u001b[0m \u001b[0mnp\u001b[0m\u001b[1;33m.\u001b[0m\u001b[0marray\u001b[0m\u001b[1;33m(\u001b[0m\u001b[1;33m[\u001b[0m\u001b[1;33m[\u001b[0m\u001b[1;36m1\u001b[0m\u001b[1;33m,\u001b[0m \u001b[1;33m-\u001b[0m\u001b[1;36m2\u001b[0m\u001b[1;33m,\u001b[0m \u001b[1;36m4\u001b[0m\u001b[1;33m]\u001b[0m\u001b[1;33m,\u001b[0m \u001b[1;33m[\u001b[0m\u001b[1;36m1\u001b[0m\u001b[1;33m,\u001b[0m \u001b[1;33m-\u001b[0m\u001b[1;36m1\u001b[0m\u001b[1;33m,\u001b[0m \u001b[1;36m1\u001b[0m\u001b[1;33m]\u001b[0m\u001b[1;33m,\u001b[0m \u001b[1;33m[\u001b[0m\u001b[1;36m1\u001b[0m\u001b[1;33m,\u001b[0m\u001b[1;36m1\u001b[0m\u001b[1;33m,\u001b[0m\u001b[1;36m1\u001b[0m\u001b[1;33m]\u001b[0m\u001b[1;33m,\u001b[0m \u001b[1;33m[\u001b[0m\u001b[1;36m1\u001b[0m\u001b[1;33m,\u001b[0m\u001b[1;36m2\u001b[0m\u001b[1;33m,\u001b[0m\u001b[1;36m4\u001b[0m\u001b[1;33m]\u001b[0m\u001b[1;33m]\u001b[0m\u001b[1;33m,\u001b[0m \u001b[0mdtype\u001b[0m \u001b[1;33m=\u001b[0m \u001b[0mfloat\u001b[0m\u001b[1;33m)\u001b[0m\u001b[1;33m\u001b[0m\u001b[0m\n\u001b[1;32m     63\u001b[0m \u001b[0mA\u001b[0m \u001b[1;33m=\u001b[0m \u001b[0mnp\u001b[0m\u001b[1;33m.\u001b[0m\u001b[0marray\u001b[0m\u001b[1;33m(\u001b[0m\u001b[1;33m[\u001b[0m\u001b[1;33m[\u001b[0m\u001b[1;36m3\u001b[0m\u001b[1;33m,\u001b[0m \u001b[1;36m5\u001b[0m\u001b[1;33m]\u001b[0m\u001b[1;33m,\u001b[0m \u001b[1;33m[\u001b[0m\u001b[1;36m0\u001b[0m\u001b[1;33m,\u001b[0m \u001b[1;36m2\u001b[0m\u001b[1;33m]\u001b[0m\u001b[1;33m,\u001b[0m \u001b[1;33m[\u001b[0m\u001b[1;36m0\u001b[0m\u001b[1;33m,\u001b[0m\u001b[1;36m0\u001b[0m\u001b[1;33m]\u001b[0m\u001b[1;33m,\u001b[0m \u001b[1;33m[\u001b[0m\u001b[1;36m4\u001b[0m\u001b[1;33m,\u001b[0m\u001b[1;36m5\u001b[0m\u001b[1;33m]\u001b[0m\u001b[1;33m]\u001b[0m\u001b[1;33m,\u001b[0m \u001b[0mdtype\u001b[0m \u001b[1;33m=\u001b[0m \u001b[0mfloat\u001b[0m\u001b[1;33m)\u001b[0m\u001b[1;33m\u001b[0m\u001b[0m\n\u001b[0;32m---> 64\u001b[0;31m \u001b[0mq1\u001b[0m\u001b[1;33m,\u001b[0m \u001b[0mr1\u001b[0m\u001b[1;33m=\u001b[0m \u001b[0mmyqr\u001b[0m\u001b[1;33m(\u001b[0m\u001b[0mA\u001b[0m\u001b[1;33m)\u001b[0m\u001b[1;33m\u001b[0m\u001b[0m\n\u001b[0m\u001b[1;32m     65\u001b[0m \u001b[0mq2\u001b[0m\u001b[1;33m,\u001b[0m \u001b[0mr2\u001b[0m \u001b[1;33m=\u001b[0m \u001b[0mnp\u001b[0m\u001b[1;33m.\u001b[0m\u001b[0mlinalg\u001b[0m\u001b[1;33m.\u001b[0m\u001b[0mqr\u001b[0m\u001b[1;33m(\u001b[0m\u001b[0mA\u001b[0m\u001b[1;33m)\u001b[0m\u001b[1;33m\u001b[0m\u001b[0m\n\u001b[1;32m     66\u001b[0m \u001b[1;32mprint\u001b[0m\u001b[1;33m(\u001b[0m\u001b[0mq1\u001b[0m\u001b[1;33m[\u001b[0m\u001b[1;36m0\u001b[0m\u001b[1;33m:\u001b[0m\u001b[1;36m2\u001b[0m\u001b[1;33m,\u001b[0m\u001b[1;36m0\u001b[0m\u001b[1;33m:\u001b[0m\u001b[1;36m4\u001b[0m\u001b[1;33m]\u001b[0m\u001b[1;33m.\u001b[0m\u001b[0mT\u001b[0m\u001b[1;33m)\u001b[0m\u001b[1;33m\u001b[0m\u001b[0m\n",
      "\u001b[0;32m<ipython-input-46-2a2f61fefdd0>\u001b[0m in \u001b[0;36mmyqr\u001b[0;34m(B)\u001b[0m\n\u001b[1;32m     40\u001b[0m \u001b[1;33m\u001b[0m\u001b[0m\n\u001b[1;32m     41\u001b[0m         \u001b[0mtmp2\u001b[0m \u001b[1;33m=\u001b[0m \u001b[0mQ\u001b[0m\u001b[1;33m[\u001b[0m\u001b[0mi\u001b[0m\u001b[1;33m:\u001b[0m\u001b[0mm\u001b[0m\u001b[1;33m,\u001b[0m \u001b[1;36m0\u001b[0m\u001b[1;33m:\u001b[0m\u001b[0mm\u001b[0m\u001b[1;33m]\u001b[0m\u001b[1;33m\u001b[0m\u001b[0m\n\u001b[0;32m---> 42\u001b[0;31m         \u001b[0mtmp2\u001b[0m \u001b[1;33m=\u001b[0m \u001b[0mhouseholder\u001b[0m\u001b[1;33m(\u001b[0m\u001b[0mtmp2\u001b[0m\u001b[1;33m,\u001b[0m \u001b[0mw\u001b[0m\u001b[1;33m)\u001b[0m\u001b[1;33m\u001b[0m\u001b[0m\n\u001b[0m\u001b[1;32m     43\u001b[0m         \u001b[1;32mfor\u001b[0m \u001b[0mix\u001b[0m \u001b[1;32min\u001b[0m \u001b[0mxrange\u001b[0m\u001b[1;33m(\u001b[0m\u001b[0mi\u001b[0m\u001b[1;33m,\u001b[0m\u001b[1;36m2\u001b[0m\u001b[1;33m)\u001b[0m\u001b[1;33m:\u001b[0m\u001b[1;33m\u001b[0m\u001b[0m\n\u001b[1;32m     44\u001b[0m             \u001b[1;32mfor\u001b[0m \u001b[0miy\u001b[0m \u001b[1;32min\u001b[0m \u001b[0mxrange\u001b[0m\u001b[1;33m(\u001b[0m\u001b[1;36m0\u001b[0m\u001b[1;33m,\u001b[0m\u001b[0mm\u001b[0m\u001b[1;33m)\u001b[0m\u001b[1;33m:\u001b[0m\u001b[1;33m\u001b[0m\u001b[0m\n",
      "\u001b[0;32m<ipython-input-46-2a2f61fefdd0>\u001b[0m in \u001b[0;36mhouseholder\u001b[0;34m(arg, w)\u001b[0m\n\u001b[1;32m     55\u001b[0m \u001b[1;33m\u001b[0m\u001b[0m\n\u001b[1;32m     56\u001b[0m     \u001b[0mA\u001b[0m \u001b[1;33m=\u001b[0m \u001b[0mnp\u001b[0m\u001b[1;33m.\u001b[0m\u001b[0mcopy\u001b[0m\u001b[1;33m(\u001b[0m\u001b[0marg\u001b[0m\u001b[1;33m)\u001b[0m\u001b[1;33m\u001b[0m\u001b[0m\n\u001b[0;32m---> 57\u001b[0;31m     \u001b[0mt\u001b[0m \u001b[1;33m=\u001b[0m \u001b[0mnp\u001b[0m\u001b[1;33m.\u001b[0m\u001b[0mmatmul\u001b[0m\u001b[1;33m(\u001b[0m\u001b[0mw\u001b[0m\u001b[1;33m.\u001b[0m\u001b[0mT\u001b[0m\u001b[1;33m,\u001b[0m \u001b[0marg\u001b[0m\u001b[1;33m)\u001b[0m\u001b[1;33m\u001b[0m\u001b[0m\n\u001b[0m\u001b[1;32m     58\u001b[0m     \u001b[0mt\u001b[0m \u001b[1;33m=\u001b[0m \u001b[0mnp\u001b[0m\u001b[1;33m.\u001b[0m\u001b[0mmatmul\u001b[0m\u001b[1;33m(\u001b[0m\u001b[0mw\u001b[0m\u001b[1;33m,\u001b[0m \u001b[0mt\u001b[0m\u001b[1;33m)\u001b[0m\u001b[1;33m\u001b[0m\u001b[0m\n\u001b[1;32m     59\u001b[0m     \u001b[0mres\u001b[0m \u001b[1;33m=\u001b[0m \u001b[0mA\u001b[0m \u001b[1;33m-\u001b[0m\u001b[1;36m2\u001b[0m\u001b[1;33m*\u001b[0m\u001b[0mt\u001b[0m\u001b[1;33m\u001b[0m\u001b[0m\n",
      "\u001b[0;31mValueError\u001b[0m: shapes (1,2) and (4,2) not aligned: 2 (dim 1) != 4 (dim 0)"
     ]
    }
   ],
   "source": [
    "def sgn(x):\n",
    "    if x > 0:\n",
    "        return 1.\n",
    "    elif x < 0:\n",
    "        return -1.\n",
    "    elif x == 0:\n",
    "        return 0.\n",
    "    else:\n",
    "        return x\n",
    "def pan_norm(x, begin, n):#pan dimensinale 2-norm\n",
    "    res = 0.\n",
    "    for i in xrange(begin, n):\n",
    "        res += x[i]**2\n",
    "    return np.sqrt(res)\n",
    "def myqr(B): \n",
    "    ## Diese Funktion soll die reduzierte QR-Zerlegung von A berechnen und Q,R (in der Vorlesung $\\hat{Q}, \\hat{R}$) zurückgeben...\n",
    "    (m,n) = B.shape;\n",
    "    A = np.copy(B)[:n,:n]# das R\n",
    "    Q = np.zeros((m,n))\n",
    "    \n",
    "    \n",
    "    for i in xrange(min(n,m)):\n",
    "        Q[i][i] = 1\n",
    "    for i in xrange(n):\n",
    "        tmp = A[i:, i:n]\n",
    "        #print(tmp)\n",
    "        sig = sgn(tmp[0][0])*LA.norm(tmp.T[0])\n",
    "        #print(sig)\n",
    "        w = np.copy(tmp.T[0]).reshape((n-i,1))\n",
    "        w[0][0] += sig\n",
    "        w /= LA.norm(w)\n",
    "        #print(w)\n",
    "        tmp = householder(tmp, w)\n",
    "        \n",
    "        #beim kopieren wird benutz das A 0-Block hat ist\n",
    "        for ix in xrange(i,):#ich weiß es gibt iteratoren\n",
    "            for iy in xrange(i,n):\n",
    "                A[ix][iy] = tmp[ix-i][iy-i]\n",
    "        #print(tmp)\n",
    "        \n",
    "        tmp2 = Q[i:m, 0:m]\n",
    "        tmp2 = householder(tmp2, w)\n",
    "        for ix in xrange(i,2):\n",
    "            for iy in xrange(0,m):\n",
    "                Q[ix][iy] = tmp2[ix-i][iy]\n",
    "        #print(Q)\n",
    "        #print(np.matmul(Q,B))\n",
    "        #print(A)\n",
    "    return Q,A\n",
    "    #return Q,R\n",
    "\n",
    "def householder(arg, w): \n",
    "    ## Diese Funktion soll eine Householder-Transformation $I - 2ww^T$ auf das Argument arg (Matrix oder Vektor) anwenden.\n",
    "    (m,n) = arg.shape;\n",
    "   \n",
    "    A = np.copy(arg)\n",
    "    t = np.matmul(w.T, arg)\n",
    "    t = np.matmul(w, t)\n",
    "    res = A -2*t\n",
    "    return res\n",
    "\n",
    "A = np.array([[1, -2, 4], [1, -1, 1], [1,1,1], [1,2,4]], dtype = float)\n",
    "A = np.array([[3, 5], [0, 2], [0,0], [4,5]], dtype = float)\n",
    "q1, r1= myqr(A)\n",
    "q2, r2 = np.linalg.qr(A)\n",
    "print(q1[0:2,0:4].T)\n",
    "print(q2)\n",
    "print(r1)\n",
    "print(r2)"
   ]
  },
  {
   "cell_type": "markdown",
   "metadata": {},
   "source": [
    "Testen Sie Ihre eigene Implementierung, indem Sie eine zufällige $5 \\times 4$-Matrix erzeugen und deren mit Ihrer Implementierung generierte QR-Zerlegung mit der in numpy bereits implementierten QR-Zerlegung vergleichen."
   ]
  },
  {
   "cell_type": "code",
   "execution_count": 13,
   "metadata": {
    "collapsed": false
   },
   "outputs": [
    {
     "name": "stdout",
     "output_type": "stream",
     "text": [
      "Fehler = 2.60633858017e-15\n",
      "Fehler = 3.33027921391e-15\n",
      "Fehler = 1.54885069368e-15\n",
      "Fehler = 1.90527248225e-15\n",
      "Fehler = 3.27194301966e-15\n",
      "Fehler = 3.0511826216e-15\n",
      "Fehler = 1.22832520235e-15\n",
      "Fehler = 1.73546607768e-15\n",
      "Fehler = 2.65120642604e-15\n",
      "Fehler = 1.35874271552e-15\n",
      "Fehler = 2.32490063653e-15\n",
      "Fehler = 1.12017920617e-14\n",
      "Fehler = 1.19940650354e-15\n",
      "Fehler = 1.99798035966e-15\n",
      "Fehler = 1.04449597333e-15\n",
      "Fehler = 1.48031996919e-15\n",
      "Fehler = 1.51966440836e-15\n",
      "Fehler = 1.43718205034e-15\n",
      "Fehler = 2.16444325034e-15\n",
      "Fehler = 2.43981265387e-15\n",
      "Fehler = 1.44729392988e-15\n",
      "Fehler = 1.61997065554e-15\n",
      "Fehler = 2.62755414783e-15\n",
      "Fehler = 1.59015277361e-15\n",
      "Fehler = 1.36208205164e-15\n",
      "Fehler = 2.88231866798e-15\n",
      "Fehler = 3.09054380075e-15\n",
      "Fehler = 1.65475234087e-15\n",
      "Fehler = 5.51478528909e-15\n",
      "Fehler = 2.32671408985e-15\n",
      "Fehler = 1.2245654742e-15\n",
      "Fehler = 2.01652036782e-15\n",
      "Fehler = 1.66072733466e-15\n",
      "Fehler = 1.85918683822e-15\n",
      "Fehler = 3.8552848739e-15\n",
      "Fehler = 2.01480254168e-15\n",
      "Fehler = 1.59062770956e-15\n",
      "Fehler = 3.57263064526e-15\n",
      "Fehler = 2.77936949926e-15\n",
      "Fehler = 1.66403720402e-15\n",
      "Fehler = 1.42156293466e-15\n",
      "Fehler = 2.20894551127e-15\n",
      "Fehler = 3.01898818722e-15\n",
      "Fehler = 3.71301510725e-15\n",
      "Fehler = 1.3966670713e-15\n",
      "Fehler = 1.77080459239e-15\n",
      "Fehler = 1.56840865282e-15\n",
      "Fehler = 3.09836970084e-15\n",
      "Fehler = 1.44362891695e-15\n",
      "Fehler = 1.55807104127e-15\n",
      "Fehler = 1.19782212852e-15\n",
      "Fehler = 1.45360846888e-15\n",
      "Fehler = 1.98679722812e-15\n",
      "Fehler = 2.21981814042e-15\n",
      "Fehler = 3.240187825e-15\n",
      "Fehler = 2.04526101314e-15\n",
      "Fehler = 2.82199054212e-15\n",
      "Fehler = 2.17890095206e-15\n",
      "Fehler = 1.38604105721e-15\n",
      "Fehler = 2.22629438511e-15\n",
      "Fehler = 3.23554238912e-15\n",
      "Fehler = 2.20143627556e-15\n",
      "Fehler = 1.51388022203e-15\n",
      "Fehler = 1.53026975328e-15\n",
      "Fehler = 2.44320885305e-15\n",
      "Fehler = 1.5235571838e-15\n",
      "Fehler = 1.7274845533e-15\n",
      "Fehler = 1.20930241659e-15\n",
      "Fehler = 1.5569314629e-15\n",
      "Fehler = 1.58848224738e-15\n",
      "Fehler = 1.9222927507e-15\n",
      "Fehler = 1.53969740615e-15\n",
      "Fehler = 1.25224624292e-15\n",
      "Fehler = 2.55347625341e-15\n",
      "Fehler = 1.17770278944e-15\n",
      "Fehler = 1.61189649079e-15\n",
      "Fehler = 3.29355423254e-15\n",
      "Fehler = 3.2328374631e-15\n",
      "Fehler = 2.18999346697e-15\n",
      "Fehler = 2.07262018284e-15\n",
      "Fehler = 1.64900768835e-15\n",
      "Fehler = 1.11862978858e-15\n",
      "Fehler = 2.2541300411e-15\n",
      "Fehler = 2.41918522327e-15\n",
      "Fehler = 1.62083181605e-15\n",
      "Fehler = 1.37352015909e-15\n",
      "Fehler = 3.1257019883e-15\n",
      "Fehler = 1.83757777498e-15\n",
      "Fehler = 1.74096029505e-15\n",
      "Fehler = 1.5676699118e-15\n",
      "Fehler = 2.31784513492e-15\n",
      "Fehler = 1.75538814701e-15\n",
      "Fehler = 3.14972303301e-15\n",
      "Fehler = 2.01959972681e-15\n",
      "Fehler = 1.12868462882e-15\n",
      "Fehler = 1.01985035207e-15\n",
      "Fehler = 3.33780469076e-15\n",
      "Fehler = 2.65224261879e-15\n",
      "Fehler = 1.40206460576e-15\n",
      "Fehler = 1.69809650847e-15\n"
     ]
    }
   ],
   "source": [
    "\n",
    "## Hinweis: Verwenden Sie die Generierung zufälliger Matrizen aus numpy... \n",
    "for _ in xrange(100):\n",
    "    A = np.random.rand(5,4)\n",
    "    q1, r1= myqr(A)\n",
    "    q2, r2 = np.linalg.qr(A)\n",
    "    err = LA.norm(q1-q2)+LA.norm(r1-r2)\n",
    "    print( \"Fehler = \"+str(err))\n",
    "    if(err>10e-6):print(\"Fehler zu gross\")\n",
    "    \n"
   ]
  },
  {
   "cell_type": "markdown",
   "metadata": {},
   "source": [
    "## Teilaufgabe b) "
   ]
  },
  {
   "cell_type": "markdown",
   "metadata": {},
   "source": [
    "\n",
    "Implementieren Sie die QR-basierte Lösungsstrategie für das Least-Squares Problem $\\min_x \\lVert Ax - b \\rVert$: Die Funktion soll als Input die Matrix $A$ und den Vektor $b$ (beide als numpy-array) erhalten und die Lösung $x_{\\min}$ zurückgegebn. \n",
    "\n",
    "Die Lösung eines Gleichungsystems mit oberer Dreiecksstruktur sollen Sie als eigene Routine programmieren. (Der lineare Löser aus numpy soll hier nicht verwendet werden.)"
   ]
  },
  {
   "cell_type": "code",
   "execution_count": 4,
   "metadata": {
    "collapsed": true
   },
   "outputs": [],
   "source": [
    "def myuppertriangularsolver(A,b):\n",
    "    \n",
    "    ## Löst die Gleichung Ax = b, wobei A eine obere Dreiecksmatrix mit strikt positiven Diagonalementen ist. ##\n",
    "    \n",
    "    return x\n",
    "\n",
    "def myleastsquares(A,b):\n",
    "    \n",
    "    ## Löst das least squares problem $min_x \\lVert Ax-b \\rVert_2$. \n",
    "    \n",
    "    return xmin "
   ]
  },
  {
   "cell_type": "markdown",
   "metadata": {},
   "source": [
    "Testen Sie Ihre Implementierung an Aufgabe 1b) von Übungsblatt Nr. 2: "
   ]
  },
  {
   "cell_type": "code",
   "execution_count": 66,
   "metadata": {
    "collapsed": true
   },
   "outputs": [],
   "source": [
    "b = np.array([2, 3, 3, -2])\n",
    "A = np.array([[1, -2, 4], [1, -1, 1], [1,1,1], [1,2,4]])\n",
    "xtrue=np.array([4, -4./5, -1])\n",
    "\n",
    "## Test: ..."
   ]
  },
  {
   "cell_type": "markdown",
   "metadata": {},
   "source": [
    "## Teilaufgabe c) "
   ]
  },
  {
   "cell_type": "markdown",
   "metadata": {},
   "source": [
    "Es sei das Interval $I = (0,1)$ gegeben. Die folgende Funktion gibt einen Vektor von $x-$Werten aus $I$ sowie die geringfügig zufällig gestörten zugehörigen $y-$Werte $y \\approx f(x)$ zurück."
   ]
  },
  {
   "cell_type": "code",
   "execution_count": 58,
   "metadata": {
    "collapsed": true
   },
   "outputs": [],
   "source": [
    "def noisyfunction(fun, numberofpoints, noisemax):\n",
    "    xvals = np.random.rand(numberofpoints)\n",
    "    yvals = np.zeros(numberofpoints)\n",
    "    for k in range(numberofpoints):\n",
    "        yvals[k] = fun(xvals[k]) + 2*noisemax*(np.random.rand()-0.5)\n",
    "    return xvals, yvals"
   ]
  },
  {
   "cell_type": "markdown",
   "metadata": {},
   "source": [
    "Es sei eine Funktion $F: \\mathbb{R} \\times \\mathbb{N} \\rightarrow \\mathbb{R}$ gegeben, z.B. $F_{\\text{Pol}}(x,l) := x^l$ oder $F_{\\sin}(x,l) = \\sin(\\pi lx)$, derart, dass durch $f_l(x) := F(x,l)$ eine \"sinnvolle\" Familie von Basisfunktionen definiert wird. \n",
    "\n",
    "Für gegebene Datenpunkte $(x_1, y_1), ..., (x_m, y_m)$ und $n \\in \\mathbb{N}$ wollen wir einen Koeffizientenvektor $c = (c_0, ..., c_n)$ bestimmen, der das Least-Squares Problem\n",
    "$\\min_{c \\in \\mathbb{R}^n} \\sum_{k=1}^m \\left| \\sum_{l=1}^n c_l f_l(x_k) - y_k \\right|^2 $ löst. Schreiben Sie dazu die Funktion \"myregression\" mit folgenden Inputs: \n",
    "* xvals, yvals: Arrays mit den gegebenen Wertepaaren\n",
    "* funfamily: Funktion $F$ für die Erzeugung der Basisfunktionen (siehe oben)\n",
    "* degree: entspricht $n$, der Anzahl der verwendeten Basisfunktionen\n",
    "* xtoevaluate: array mit $x-$Werten, an denen die gefundene Regressions-Lösung ausgewertet werden soll\n",
    "\n",
    "Ausgegeben werden soll der Koeffizientenvektor coeffvec sowie die Auswertung y der Regressions-Lösung an den in xtoevaluate gegebenen x-Werten."
   ]
  },
  {
   "cell_type": "code",
   "execution_count": 68,
   "metadata": {
    "collapsed": true
   },
   "outputs": [],
   "source": [
    "def myregression(xvals, yvals, funfamily, degree, xtoevaluate):\n",
    "   \n",
    "    ## ... ## \n",
    "\n",
    "    return y, coeffvec\n",
    "\n",
    "## Implementierung der Basis-Familien $F_Pol$ bzw. $F_sin$ von oben: \n",
    "def polynomialfamily(x,l):\n",
    "    return x**l\n",
    "\n",
    "def sinefamily(x,l):\n",
    "    return np.sin(np.pi*x*(l+1))"
   ]
  },
  {
   "cell_type": "markdown",
   "metadata": {},
   "source": [
    "## Teilaufgabe d) "
   ]
  },
  {
   "cell_type": "markdown",
   "metadata": {},
   "source": [
    "Testen Sie Ihre Implementierung für die Lösung des Least-Squares Problems mit den unten erzeugten Wertepaaren: \n",
    "\n",
    "* Plotten Sie dazu jeweils die verrauschten Wertepaare sowie die Regressionsfunktion.  \n",
    "\n",
    "* Variieren Sie die Anzahl der Basisfunktionen bzw. die Wahl der Familie von Basisfunktionen.  \n",
    "\n",
    "Erklären Sie, weshalb die Lösung des Least-Squares Problems für die Approximation von $x-\\frac{1}{2}$ mittels Sinus-Schwingungen sehr viel instabiler zu sein scheint als die Approximation des Sinus mit Polynomen."
   ]
  },
  {
   "cell_type": "code",
   "execution_count": 71,
   "metadata": {
    "collapsed": true
   },
   "outputs": [],
   "source": [
    "def fun_1(x):\n",
    "    return np.sin(2*np.pi*x)\n",
    "xvals_1,yvals_1=noisyfunction(fun_1, 50, 0.1)\n",
    "\n",
    "def fun_2(x):\n",
    "    return x-0.5\n",
    "xvals_2, yvals_2 = noisyfunction(fun_2, 50, 0.1)\n",
    "\n",
    "## ..."
   ]
  },
  {
   "cell_type": "code",
   "execution_count": null,
   "metadata": {
    "collapsed": true
   },
   "outputs": [],
   "source": []
  }
 ],
 "metadata": {
  "kernelspec": {
   "display_name": "Python 2",
   "language": "python",
   "name": "python2"
  },
  "language_info": {
   "codemirror_mode": {
    "name": "ipython",
    "version": 2
   },
   "file_extension": ".py",
   "mimetype": "text/x-python",
   "name": "python",
   "nbconvert_exporter": "python",
   "pygments_lexer": "ipython2",
   "version": "2.7.13"
  }
 },
 "nbformat": 4,
 "nbformat_minor": 2
}
