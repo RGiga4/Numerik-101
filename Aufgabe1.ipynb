{
 "cells": [
  {
   "cell_type": "markdown",
   "metadata": {},
   "source": [
    "# Programmieraufgabe I                                              (9 + 8 + 4 + 4 = 25 Punkte)\n",
    "## _Abgabe in der Woche vom 5. bis 9. November_"
   ]
  },
  {
   "cell_type": "code",
   "execution_count": 27,
   "metadata": {},
   "outputs": [],
   "source": [
    "import numpy as np \n",
    "import matplotlib.pyplot as plt"
   ]
  },
  {
   "cell_type": "markdown",
   "metadata": {},
   "source": [
    "Die grundlegenden Operationen der linearen Algebra (d.h. Summen, Skalarprodukte, Norm, Matrix-Vektor-Produkt, etc.) sind sind für numpy-arrays bereits implementiert und dürfen hier verwendet werden. "
   ]
  },
  {
   "cell_type": "markdown",
   "metadata": {},
   "source": [
    "## Teilaufgabe a)"
   ]
  },
  {
   "cell_type": "markdown",
   "metadata": {},
   "source": [
    "Implementieren Sie eine Funktion, die als Input ein Matrix $A$ (als numpy-array) erhält und die reduzierte QR-Zerlegung ($\\hat{Q}$, $\\hat{R}$ jeweils als numpy-arrays) zurückgibt. Als Subroutine empfiehlt es sich, die Anwendung der Householder-Transformation separat zu implementieren.\n"
   ]
  },
  {
   "cell_type": "code",
   "execution_count": 28,
   "metadata": {},
   "outputs": [],
   "source": [
    "def myqr(A): \n",
    "    \n",
    "    ## Diese Funktion soll die reduzierte QR-Zerlegung von A berechnen und Q,R (in der Vorlesung $\\hat{Q}, \\hat{R}$) zurückgeben...\n",
    "    \n",
    "    (num_rows, num_cols) = np.shape(A)\n",
    "    \n",
    "    ## Initialisiere Q und R\n",
    "    Q = np.identity(num_rows)\n",
    "    R = np.copy(A)\n",
    "    \n",
    "    \n",
    "    ## Bilde nach und nach Teilspaltenvektoren von A auf Vielfache des ersten Einheitsvektors ab\n",
    "    for i in range(num_cols):\n",
    "        \n",
    "        x = R[i:, i]\n",
    "        e = np.zeros_like(x)\n",
    "        e[0] = np.sign(x[0])*np.linalg.norm(x)\n",
    "        v = x + e\n",
    "        w = v / np.linalg.norm(v)\n",
    "        \n",
    "        \n",
    "        ## Nun ist das passende w berechnet, und R wird mittels Householder Transformiert, Q wird neu berechnet\n",
    "        (R, H) = householder(R, w)\n",
    "        R[i+1:,i] = np.zeros_like(R[i+1:,i])\n",
    "        Q = np.dot(Q, H.T)\n",
    "        \n",
    "    \n",
    "    ##print(\"Probe vor Reduzieren von Q: Q*Q.T =\\n\", np.dot(Q, Q.T), \"\\n\")\n",
    "                                                                           \n",
    "    Q = Q[:, :num_cols]\n",
    "    R = R[:num_cols, :]\n",
    "    return (Q,R)\n",
    "\n",
    "def householder(arg, w): \n",
    "    \n",
    "    ## Diese Funktion soll eine Householder-Transformation $I - 2ww^T$ auf das Argument arg (Matrix oder Vektor) anwenden.\n",
    "    \n",
    "    l = len(w)\n",
    "    \n",
    "    ## Berechne I - 2ww^T\n",
    "    H_ = np.identity(l)\n",
    "    for i in range(l):\n",
    "        for j in range(l):\n",
    "            H_[i][j] -= 2*w[i]*w[j]\n",
    "    \n",
    "    (num_rows, num_cols) = np.shape(arg)\n",
    "    \n",
    "    #Bringe die Matrix für die Householder-Transformation auf passende Größe indem H_ in die rechte untere Ecke einer sonst Einheitsmatrix kommt\n",
    "    H = np.identity(num_rows)\n",
    "    H[num_rows-l:, num_rows-l:] = H_\n",
    "    \n",
    "    ## Führe Householder-Transformation auf arg aus\n",
    "    result = H@arg\n",
    "    \n",
    "    return (result, H)\n"
   ]
  },
  {
   "cell_type": "markdown",
   "metadata": {},
   "source": [
    "Testen Sie Ihre eigene Implementierung, indem Sie eine zufällige $5 \\times 4$-Matrix erzeugen und deren mit Ihrer Implementierung generierte QR-Zerlegung mit der in numpy bereits implementierten QR-Zerlegung vergleichen."
   ]
  },
  {
   "cell_type": "code",
   "execution_count": 30,
   "metadata": {},
   "outputs": [
    {
     "name": "stdout",
     "output_type": "stream",
     "text": [
      "Matrix A:\n",
      " [[ 0.8421457   0.95356904  0.3599108   0.51250273]\n",
      " [ 0.16492855  0.73381476  0.60209708  0.93785506]\n",
      " [ 0.88120508  0.94388     0.76951415  0.7408848 ]\n",
      " [ 0.57122643  0.50546254  0.06948756  0.42150169]\n",
      " [ 0.21829669  0.23174212  0.92842463  0.03528832]] \n",
      "\n",
      "Matrix Q:\n",
      " [[-0.61307608 -0.0325823   0.28427068  0.7344949 ]\n",
      " [-0.12006681 -0.97121331  0.01724095 -0.1592491 ]\n",
      " [-0.64151103  0.06099617 -0.21057617 -0.40730027]\n",
      " [-0.41584878  0.22717806  0.24560987 -0.48199699]\n",
      " [-0.15891844  0.01877996 -0.90234495  0.19220396]] \n",
      "\n",
      "Matrix R:\n",
      " [[-1.37363979 -1.52525068 -0.9630365  -1.08298314]\n",
      " [ 0.         -0.56700496 -0.51633218 -0.78594606]\n",
      " [ 0.          0.         -0.87004098  0.07752906]\n",
      " [ 0.          0.          0.         -0.2710645 ]] \n",
      "\n",
      "Probe: Q*R = \n",
      " [[ 0.8421457   0.95356904  0.3599108   0.51250273]\n",
      " [ 0.16492855  0.73381476  0.60209708  0.93785506]\n",
      " [ 0.88120508  0.94388     0.76951415  0.7408848 ]\n",
      " [ 0.57122643  0.50546254  0.06948756  0.42150169]\n",
      " [ 0.21829669  0.23174212  0.92842463  0.03528832]] \n",
      "\n",
      "\n",
      "Python Q-R-Zerlegung:\n",
      "Q:\n",
      " [[-0.61307608 -0.0325823   0.28427068  0.7344949 ]\n",
      " [-0.12006681 -0.97121331  0.01724095 -0.1592491 ]\n",
      " [-0.64151103  0.06099617 -0.21057617 -0.40730027]\n",
      " [-0.41584878  0.22717806  0.24560987 -0.48199699]\n",
      " [-0.15891844  0.01877996 -0.90234495  0.19220396]] \n",
      "R:\n",
      " [[-1.37363979 -1.52525068 -0.9630365  -1.08298314]\n",
      " [ 0.         -0.56700496 -0.51633218 -0.78594606]\n",
      " [ 0.          0.         -0.87004098  0.07752906]\n",
      " [ 0.          0.          0.         -0.2710645 ]] \n",
      "\n",
      "Abweichung von Q und R im Vgl. zu Python:\n",
      "Abweichung Q:\n",
      " [[  0.00000000e+00  -2.77555756e-17   1.66533454e-16  -1.11022302e-16]\n",
      " [  0.00000000e+00   3.33066907e-16  -6.93889390e-18   0.00000000e+00]\n",
      " [  0.00000000e+00  -8.32667268e-17   1.11022302e-16   2.77555756e-16]\n",
      " [  0.00000000e+00   2.77555756e-17   8.32667268e-17  -1.11022302e-16]\n",
      " [  0.00000000e+00   4.51028104e-17  -4.44089210e-16  -5.82867088e-16]] \n",
      "Abweichung R:\n",
      " [[  6.66133815e-16  -2.22044605e-16   0.00000000e+00   0.00000000e+00]\n",
      " [  0.00000000e+00   2.22044605e-16   2.22044605e-16   5.55111512e-16]\n",
      " [  0.00000000e+00   0.00000000e+00   0.00000000e+00   5.55111512e-17]\n",
      " [  0.00000000e+00   0.00000000e+00   0.00000000e+00   1.66533454e-16]]\n"
     ]
    }
   ],
   "source": [
    "\n",
    "## Hinweis: Verwenden Sie die Generierung zufälliger Matrizen aus numpy... \n",
    "## Ein paar Tests zu Teilaufgabe a)\n",
    "A = np.random.rand(5,4)\n",
    "\n",
    "print(\"Matrix A:\\n\", A, \"\\n\")\n",
    "\n",
    "(Q, R) = myqr(A)\n",
    "print(\"Matrix Q:\\n\", Q, \"\\n\")\n",
    "print(\"Matrix R:\\n\", R, \"\\n\")\n",
    "print(\"Probe: Q*R = \\n\", np.dot(Q, R), \"\\n\\n\")\n",
    "\n",
    "(Q_, R_) = np.linalg.qr(A)\n",
    "print(\"Python Q-R-Zerlegung:\\nQ:\\n\", Q_, \"\\nR:\\n\", R_, \"\\n\")\n",
    "\n",
    "print(\"Abweichung von Q und R im Vgl. zu Python:\\nAbweichung Q:\\n\", Q-Q_, \"\\nAbweichung R:\\n\", R-R_)\n"
   ]
  },
  {
   "cell_type": "markdown",
   "metadata": {},
   "source": [
    "## Teilaufgabe b) "
   ]
  },
  {
   "cell_type": "markdown",
   "metadata": {},
   "source": [
    "\n",
    "Implementieren Sie die QR-basierte Lösungsstrategie für das Least-Squares Problem $\\min_x \\lVert Ax - b \\rVert$: Die Funktion soll als Input die Matrix $A$ und den Vektor $b$ (beide als numpy-array) erhalten und die Lösung $x_{\\min}$ zurückgegebn. \n",
    "\n",
    "Die Lösung eines Gleichungsystems mit oberer Dreiecksstruktur sollen Sie als eigene Routine programmieren. (Der lineare Löser aus numpy soll hier nicht verwendet werden.)"
   ]
  },
  {
   "cell_type": "code",
   "execution_count": 31,
   "metadata": {},
   "outputs": [],
   "source": [
    "def myuppertriangularsolver(A,b):\n",
    "    \n",
    "    ## Löst die Gleichung Ax = b, wobei A eine obere Dreiecksmatrix mit strikt positiven Diagonalementen ist. ##\n",
    "    \n",
    "    n = len(b)\n",
    "    x = np.zeros_like(b)\n",
    "    \n",
    "    for i in range (n-1, -1, -1):\n",
    "        sum = 0\n",
    "        for j in range (i+1, n):\n",
    "            sum += A[i][j]*x[j]\n",
    "        x[i] = 1/A[i][i] * (b[i] - sum)\n",
    "    \n",
    "    return x\n",
    "\n",
    "\n",
    "def myleastsquares(A,b):\n",
    "    \n",
    "    ## Löst das least squares problem $min_x \\lVert Ax-b \\rVert_2$.\n",
    "    \n",
    "    (num_rows, num_cols) = np.shape(A)\n",
    "    \n",
    "    (Q, R) = myqr(A)\n",
    "    Qtb = np.dot(Q.T, b)\n",
    "    \n",
    "    xmin = myuppertriangularsolver(R, Qtb)\n",
    "    \n",
    "    return xmin"
   ]
  },
  {
   "cell_type": "markdown",
   "metadata": {},
   "source": [
    "Testen Sie Ihre Implementierung an Aufgabe 1b) von Übungsblatt Nr. 2: "
   ]
  },
  {
   "cell_type": "code",
   "execution_count": 32,
   "metadata": {},
   "outputs": [
    {
     "name": "stdout",
     "output_type": "stream",
     "text": [
      "\n",
      "Test b): Lösen der Aufgabe 1b von Blatt 2:\n",
      " [ 4.  -0.8 -1. ]\n"
     ]
    }
   ],
   "source": [
    "b = np.array([2, 3, 3, -2])\n",
    "A = np.array([[1, -2, 4], [1, -1, 1], [1,1,1], [1,2,4]])\n",
    "xtrue=np.array([4, -4./5, -1])\n",
    "\n",
    "## Test: ...\n",
    "## Test zu Teilaufgabe b)\n",
    "b = np.array([2, 3, 3, -2])\n",
    "C = np.array([[1, -2, 4], [1, -1, 1], [1,1,1], [1,2,4]])\n",
    "xtrue=np.array([4, -4./5, -1])\n",
    "\n",
    "\n",
    "print(\"\\nTest b): Lösen der Aufgabe 1b von Blatt 2:\\n\", myleastsquares(C, b))"
   ]
  },
  {
   "cell_type": "markdown",
   "metadata": {},
   "source": [
    "## Teilaufgabe c) "
   ]
  },
  {
   "cell_type": "markdown",
   "metadata": {},
   "source": [
    "Es sei das Interval $I = (0,1)$ gegeben. Die folgende Funktion gibt einen Vektor von $x-$Werten aus $I$ sowie die geringfügig zufällig gestörten zugehörigen $y-$Werte $y \\approx f(x)$ zurück."
   ]
  },
  {
   "cell_type": "code",
   "execution_count": 21,
   "metadata": {},
   "outputs": [],
   "source": [
    "def noisyfunction(fun, numberofpoints, noisemax):\n",
    "    xvals = np.random.rand(numberofpoints)\n",
    "    yvals = np.zeros(numberofpoints)\n",
    "    for k in range(numberofpoints):\n",
    "        yvals[k] = fun(xvals[k]) + 2*noisemax*(np.random.rand()-0.5)\n",
    "    return xvals, yvals"
   ]
  },
  {
   "cell_type": "markdown",
   "metadata": {},
   "source": [
    "Es sei eine Funktion $F: \\mathbb{R} \\times \\mathbb{N} \\rightarrow \\mathbb{R}$ gegeben, z.B. $F_{\\text{Pol}}(x,l) := x^l$ oder $F_{\\sin}(x,l) = \\sin(\\pi lx)$, derart, dass durch $f_l(x) := F(x,l)$ eine \"sinnvolle\" Familie von Basisfunktionen definiert wird. \n",
    "\n",
    "Für gegebene Datenpunkte $(x_1, y_1), ..., (x_m, y_m)$ und $n \\in \\mathbb{N}$ wollen wir einen Koeffizientenvektor $c = (c_0, ..., c_n)$ bestimmen, der das Least-Squares Problem\n",
    "$\\min_{c \\in \\mathbb{R}^n} \\sum_{k=1}^m \\left| \\sum_{l=1}^n c_l f_l(x_k) - y_k \\right|^2 $ löst. Schreiben Sie dazu die Funktion \"myregression\" mit folgenden Inputs: \n",
    "* xvals, yvals: Arrays mit den gegebenen Wertepaaren\n",
    "* funfamily: Funktion $F$ für die Erzeugung der Basisfunktionen (siehe oben)\n",
    "* degree: entspricht $n$, der Anzahl der verwendeten Basisfunktionen\n",
    "* xtoevaluate: array mit $x-$Werten, an denen die gefundene Regressions-Lösung ausgewertet werden soll\n",
    "\n",
    "Ausgegeben werden soll der Koeffizientenvektor coeffvec sowie die Auswertung y der Regressions-Lösung an den in xtoevaluate gegebenen x-Werten."
   ]
  },
  {
   "cell_type": "code",
   "execution_count": 33,
   "metadata": {},
   "outputs": [],
   "source": [
    "def myregression(xvals, yvals, funfamily, degree, xtoevaluate):\n",
    "    \n",
    "    y = np.zeros_like(xtoevaluate)\n",
    "    A = np.zeros(shape=(len(xvals), degree))\n",
    "    \n",
    "    for i in range (len(xvals)):\n",
    "        for j in range (degree):\n",
    "            A[i][j] = funfamily(xvals[i], j)\n",
    "    \n",
    "    coeffvec = myleastsquares(A, yvals)\n",
    "    \n",
    "    for i in range (len(xtoevaluate)):\n",
    "        ev = 0\n",
    "        for j in range (degree):\n",
    "            ev += coeffvec[j]*funfamily(xtoevaluate[i], j)\n",
    "        y[i] = ev\n",
    "\n",
    "    return y, coeffvec\n",
    "\n",
    "\n",
    "## Implementierung der Basis-Familien $F_Pol$ bzw. $F_sin$ von oben: \n",
    "def polynomialfamily(x,l):\n",
    "    return x**l\n",
    "\n",
    "def sinefamily(x,l):\n",
    "    return np.sin(np.pi*x*(l+1))"
   ]
  },
  {
   "cell_type": "markdown",
   "metadata": {},
   "source": [
    "## Teilaufgabe d) "
   ]
  },
  {
   "cell_type": "markdown",
   "metadata": {},
   "source": [
    "Testen Sie Ihre Implementierung für die Lösung des Least-Squares Problems mit den unten erzeugten Wertepaaren: \n",
    "\n",
    "* Plotten Sie dazu jeweils die verrauschten Wertepaare sowie die Regressionsfunktion.  \n",
    "\n",
    "* Variieren Sie die Anzahl der Basisfunktionen bzw. die Wahl der Familie von Basisfunktionen.  \n",
    "\n",
    "Erklären Sie, weshalb die Lösung des Least-Squares Problems für die Approximation von $x-\\frac{1}{2}$ mittels Sinus-Schwingungen sehr viel instabiler zu sein scheint als die Approximation des Sinus mit Polynomen."
   ]
  },
  {
   "cell_type": "code",
   "execution_count": 35,
   "metadata": {},
   "outputs": [
    {
     "data": {
      "image/png": "[encoded data removed]",
      "text/plain": [
       "<matplotlib.figure.Figure at 0x7f7358c91da0>"
      ]
     },
     "metadata": {},
     "output_type": "display_data"
    },
    {
     "data": {
      "image/png": "[encoded data removed]",
      "text/plain": [
       "<matplotlib.figure.Figure at 0x7f735cb1c7f0>"
      ]
     },
     "metadata": {},
     "output_type": "display_data"
    }
   ],
   "source": [
    "def fun_1(x):\n",
    "    return np.sin(2*np.pi*x)\n",
    "\n",
    "def fun_2(x):\n",
    "    return x-0.5\n",
    "\n",
    "## Tests Aufgabe d)\n",
    "xvals_1,yvals_1=noisyfunction(fun_1, 50, 0.1)\n",
    "xvals_2, yvals_2 = noisyfunction(fun_2, 50, 0.1)\n",
    "degree = 20\n",
    "values = 100\n",
    "\n",
    "xtoevaluate = np.zeros(values)\n",
    "for i in range (values):\n",
    "    xtoevaluate[i] = i/values\n",
    "               \n",
    "(y1, coeffvec1) = myregression(xvals_1, yvals_1, polynomialfamily, degree, xtoevaluate)\n",
    "(y2, coeffvec2) = myregression(xvals_1, yvals_1, sinefamily, degree, xtoevaluate)\n",
    "(y3, coeffvec3) = myregression(xvals_2, yvals_2, polynomialfamily, degree, xtoevaluate)\n",
    "(y4, coeffvec4) = myregression(xvals_2, yvals_2, sinefamily, degree, xtoevaluate)\n",
    "\n",
    "plt.plot(xvals_1, yvals_1, '.')\n",
    "plt.plot(xtoevaluate, y1, '-', label = 'y1')\n",
    "plt.plot(xtoevaluate, y2, '-', label = 'y2')\n",
    "plt.legend()\n",
    "plt.show()\n",
    "plt.close()\n",
    "\n",
    "plt.plot(xvals_2, yvals_2, '.')\n",
    "plt.plot(xtoevaluate, y3, '-', label = 'y3')\n",
    "plt.plot(xtoevaluate, y4, '-', label = 'y4')\n",
    "plt.legend()\n",
    "plt.show()\n",
    "plt.close()\n",
    "\n"
   ]
  },
  {
   "cell_type": "code",
   "execution_count": null,
   "metadata": {
    "collapsed": true
   },
   "outputs": [],
   "source": []
  },
  {
   "cell_type": "code",
   "execution_count": null,
   "metadata": {
    "collapsed": true
   },
   "outputs": [],
   "source": []
  }
 ],
 "metadata": {
  "kernelspec": {
   "display_name": "Python 3",
   "language": "python",
   "name": "python3"
  },
  "language_info": {
   "codemirror_mode": {
    "name": "ipython",
    "version": 3
   },
   "file_extension": ".py",
   "mimetype": "text/x-python",
   "name": "python",
   "nbconvert_exporter": "python",
   "pygments_lexer": "ipython3",
   "version": "3.7.0"
  }
 },
 "nbformat": 4,
 "nbformat_minor": 2
}
