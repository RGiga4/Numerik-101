{
 "cells": [
  {
   "cell_type": "markdown",
   "metadata": {},
   "source": [
    "# Programmieraufgabe V ( 8 + 8 + 8 = 24 Punkte) \n",
    "## Abgabe in der Woche 14.-18. Januar "
   ]
  },
  {
   "cell_type": "code",
   "execution_count": 1,
   "metadata": {},
   "outputs": [],
   "source": [
    "import numpy as np\n",
    "import matplotlib.pyplot as plt"
   ]
  },
  {
   "cell_type": "markdown",
   "metadata": {},
   "source": [
    "## Teilaufgabe a) "
   ]
  },
  {
   "cell_type": "markdown",
   "metadata": {},
   "source": [
    "Implementieren Sie die _$N$-fach summierte Newton-Cotes-Quadratur_ vom Grad $m = 1$ und $m = 3$ bzw. die $N$-fach summierte _Gauss-Legendre-Quadratur_ für $m=2$ bzw. $m=4$ (siehe Vorlesung) auf einem Interval $[a,b]$. \n",
    "\n",
    "Input sollen jeweils die zu integrierende Funktion $f$, die Intervallgrenzen $a,b$ und die Anzahl der Teilintervalle $N$ sein."
   ]
  },
  {
   "cell_type": "code",
   "execution_count": 17,
   "metadata": {},
   "outputs": [
    {
     "name": "stdout",
     "output_type": "stream",
     "text": [
      "1.2\n",
      "1.8\n",
      "2.4\n",
      "3.0\n",
      "1.125\n"
     ]
    }
   ],
   "source": [
    "def f(x):\n",
    "    if(x>0.5):return 1\n",
    "    return 0\n",
    "def New_Cot_Int(f,a,b,N):\n",
    "    m=3\n",
    "    lin = np.linspace(a,b,N+1)\n",
    "    res = 0.0\n",
    "    t = 0.0\n",
    "    index = 0\n",
    "    for xi in lin:\n",
    "        if(m==1):\n",
    "            if(index == 0 or index == N):\n",
    "                t = 0.5*f(xi)\n",
    "            else:\n",
    "                t = f(xi)\n",
    "            res += t\n",
    "        if(m==3):\n",
    "            if(index == 0 or index == N):\n",
    "                t = (1/8)*f(xi)\n",
    "            else:\n",
    "                t = (1/4)*f(xi)\n",
    "                (lin[index+1]-xi)/3\n",
    "                (2*(lin[index+1]-xi))/3\n",
    "            res += t\n",
    "        index += 1\n",
    "    return res\n",
    "print(New_Cot_Int(f,0,3,5))"
   ]
  },
  {
   "cell_type": "markdown",
   "metadata": {},
   "source": [
    "Testen Sie Ihre Implementierung an den Funktionen $f(x) = \\chi_{x > 1/2} \\cdot \\sin(\\pi x)$, $g(x) = x^n$, (mit $n \\in \\{7,8\\}$) und $h(x) = \\exp(x)$. Der Integrationsbereich soll jeweils das Intervall $[0,1]$ sein. Mit $\\chi_{x > 1/2}$ bezeichnen wir die charakteristische Funktion der Menge $\\{ x \\in \\mathbb{R}: x > 1/2 \\}$. \n",
    "\n",
    "Plotten Sie jeweils den Fehler der Quadratur in Abhängigkeit von der Anzahl der Subintervalle $N$ bzw. in Abhängigkeit von der Zahl der benötigten Funktionsauswertungen. Interpretieren Sie Ihre Beobachtungen."
   ]
  },
  {
   "cell_type": "code",
   "execution_count": 43,
   "metadata": {},
   "outputs": [],
   "source": []
  },
  {
   "cell_type": "code",
   "execution_count": null,
   "metadata": {},
   "outputs": [],
   "source": []
  },
  {
   "cell_type": "markdown",
   "metadata": {},
   "source": [
    "## Teilaufgabe b)"
   ]
  },
  {
   "cell_type": "markdown",
   "metadata": {},
   "source": [
    "Implementieren Sie die _$d$-fach tensorierte $N$-fach summierte Trapezregel_ für die numerische Integration einer Funktion auf $[0,1]^d$ für $d = 1,2,3$. Input soll die zu integrierende Funktion $f$, die Dimension $d$ sowie die Anzahl der Teilintervalle $N$ sein."
   ]
  },
  {
   "cell_type": "code",
   "execution_count": null,
   "metadata": {},
   "outputs": [],
   "source": []
  },
  {
   "cell_type": "markdown",
   "metadata": {},
   "source": [
    "Testen Sie Ihre Implementierung mit Hilfe der Funktion $k(x_1, ..., x_d) = (\\pi/2)^d \\prod_{i=1}^d \\sin(\\pi x_i)$ für $d = 1,2,3$. Plotten Sie jeweils den Fehler der Quadratur in Abhängigkeit von der Zahl der benötigten Funktionsauswertungen. Interpretieren Sie Ihre Ergebnisse. "
   ]
  },
  {
   "cell_type": "code",
   "execution_count": null,
   "metadata": {},
   "outputs": [],
   "source": []
  },
  {
   "cell_type": "markdown",
   "metadata": {},
   "source": [
    "## Teilaufgabe c)"
   ]
  },
  {
   "cell_type": "markdown",
   "metadata": {},
   "source": [
    "Implementieren Sie die Monte-Carlo Quadratur auf dem Integrationsbereich $[0,1]^d$. Input soll die zu integrierende Funktion $f$, die Dimension $d$ und die Anzahl der Samples $N$ sein."
   ]
  },
  {
   "cell_type": "code",
   "execution_count": null,
   "metadata": {},
   "outputs": [],
   "source": []
  },
  {
   "cell_type": "markdown",
   "metadata": {},
   "source": [
    "Testen Sie Ihre Implementierung an der Beispielfunktion aus Teilaufgabe b) für $d=1,2,3$. Plotten Sie erneut den Fehler der Quadratur gegen die Anzahl der Funktionsauswertungen. (Beachten Sie: Beim Quadraturfehler der Monte-Carlo Quadratur handelt es sich um eine Zufallsvariable: Verwenden Sie daher für diesen Plot jeweils den Mittelwert des (positiven!) Fehlers aus 20 Monte-Carlo Quadraturen mit $n$ Funktionsauswertungen, um den zu erwartenden Quadraturfehler der Monte-Carlo Quadratur mit $n$ Auswertungen zu bestimmen.)\n",
    "\n",
    "Eine mögliche Wahl wäre z.B. Monte-Carlo Quadratur mit $n = 100, 200, 300, ..., 5000$ Funktionsauswertungen. \n",
    "\n",
    "Interpretieren Sie Ihre Beobachtung, insbesondere im Vergleich zu den Ergebnissen aus b). "
   ]
  },
  {
   "cell_type": "code",
   "execution_count": null,
   "metadata": {},
   "outputs": [],
   "source": [
    "\n",
    "    "
   ]
  },
  {
   "cell_type": "code",
   "execution_count": null,
   "metadata": {},
   "outputs": [],
   "source": []
  }
 ],
 "metadata": {
  "kernelspec": {
   "display_name": "Python 3",
   "language": "python",
   "name": "python3"
  },
  "language_info": {
   "codemirror_mode": {
    "name": "ipython",
    "version": 3
   },
   "file_extension": ".py",
   "mimetype": "text/x-python",
   "name": "python",
   "nbconvert_exporter": "python",
   "pygments_lexer": "ipython3",
   "version": "3.5.2"
  }
 },
 "nbformat": 4,
 "nbformat_minor": 2
}
