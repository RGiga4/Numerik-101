{
 "cells": [
  {
   "cell_type": "markdown",
   "metadata": {},
   "source": [
    "# Programmieraufgabe V ( 8 + 8 + 8 = 24 Punkte) \n",
    "## Abgabe in der Woche 14.-18. Januar "
   ]
  },
  {
   "cell_type": "code",
   "execution_count": 2,
   "metadata": {},
   "outputs": [],
   "source": [
    "import numpy as np\n",
    "import matplotlib.pyplot as plt"
   ]
  },
  {
   "cell_type": "markdown",
   "metadata": {},
   "source": [
    "## Teilaufgabe a) "
   ]
  },
  {
   "cell_type": "markdown",
   "metadata": {},
   "source": [
    "Implementieren Sie die _$N$-fach summierte Newton-Cotes-Quadratur_ vom Grad $m = 1$ und $m = 3$ bzw. die $N$-fach summierte _Gauss-Legendre-Quadratur_ für $m=2$ bzw. $m=4$ (siehe Vorlesung) auf einem Interval $[a,b]$. \n",
    "\n",
    "Input sollen jeweils die zu integrierende Funktion $f$, die Intervallgrenzen $a,b$ und die Anzahl der Teilintervalle $N$ sein."
   ]
  },
  {
   "cell_type": "code",
   "execution_count": 45,
   "metadata": {},
   "outputs": [
    {
     "name": "stdout",
     "output_type": "stream",
     "text": [
      "0.5\n"
     ]
    }
   ],
   "source": [
    "def f(x):\n",
    "    if(x>0.5):return 1\n",
    "    return 0\n",
    "def New_Cot_xi(a,b,N,m):\n",
    "    lin = np.linspace(a,b,N*m+1)\n",
    "    return lin\n",
    "def New_Cot_wi(a,b,N,m):\n",
    "    base =[]\n",
    "    tmp = 0\n",
    "    if(m==1):\n",
    "        base = [(1/2),(1/2)]\n",
    "    if(m==3):\n",
    "        base = [(1/8),(3/8),(3/8),(1/8)]\n",
    "    tmp = base[0]\n",
    "    base[0] = 2*base[0]\n",
    "    base = base[:-1]\n",
    "    \n",
    "    res = N*base\n",
    "    res[0] = tmp\n",
    "    res.append(tmp)\n",
    "    return res\n",
    "def New_Cot(f,a,b,m,first):\n",
    "    \"\"\"stange Cot_New summierung um fkt aufrufe zu minimieren\"\"\"\n",
    "    t = 0.\n",
    "    \n",
    "    if(m==1):\n",
    "        if(first):    \n",
    "            t = 0.5*f(a)\n",
    "        else:\n",
    "            t = f(a)\n",
    "            \n",
    "    if(m==3):\n",
    "        if(first):    \n",
    "            t = (1/8)*f(a)\n",
    "        else:\n",
    "            t = (1/4)*f(a)\n",
    "        \n",
    " \n",
    "                \n",
    "                    \n",
    "        h = (b-a)/3\n",
    "                \n",
    "        t += (3/8)*f(a+h)\n",
    "                \n",
    "        t += (3/8)*f(a+2*h)\n",
    "                \n",
    "    return t\n",
    "def Integrator(f,a,b,N, fkt_xi, fkt_wi, m):\n",
    "    lin = fkt_xi(a,b,N,m)\n",
    "    w = fkt_wi(a,b,N,m)\n",
    "    res = 0.0\n",
    "    \n",
    "    \n",
    "    for xi, wi in zip(lin,w):\n",
    "        res+=wi*f(xi)\n",
    "    res = res/N\n",
    "    return res\n",
    "def New_Cot_Int(f,a,b,N):\n",
    "    m=3\n",
    "    lin = np.linspace(a,b,N+1)\n",
    "    res = 0.0\n",
    "    t = 0.0\n",
    "    index = 0\n",
    "    for xi in lin:\n",
    "        if(m==1):\n",
    "            if(index == 0 or index == N):\n",
    "                t = 0.5*f(xi)\n",
    "            else:\n",
    "                t = f(xi)\n",
    "            res += t\n",
    "        if(m==3):\n",
    "            if(index == N):\n",
    "                t = (1/8)*f(xi)\n",
    "            else:\n",
    "                if(index == 0):\n",
    "                    t = (1/8)*f(xi)\n",
    "                else:\n",
    "                    t = (1/4)*f(xi)\n",
    "                h = (lin[index+1]-xi)/3\n",
    "                \n",
    "                t += (3/8)*f(xi+h)\n",
    "                \n",
    "                t += (3/8)*f(xi+2*h)\n",
    "                \n",
    "            res += t\n",
    "        index += 1\n",
    "    res = res*(b-a)/N\n",
    "    return res\n",
    "#print(New_Cot_Int(f,0,1,5))\n",
    "print(Integrator(f,0,1,5,New_Cot_xi,New_Cot_wi,3))\n",
    "#print(New_Cot_wi(0,1,1,3))\n",
    "#print(New_Cot_xi(0,1,2,3))"
   ]
  },
  {
   "cell_type": "markdown",
   "metadata": {},
   "source": [
    "Testen Sie Ihre Implementierung an den Funktionen $f(x) = \\chi_{x > 1/2} \\cdot \\sin(\\pi x)$, $g(x) = x^n$, (mit $n \\in \\{7,8\\}$) und $h(x) = \\exp(x)$. Der Integrationsbereich soll jeweils das Intervall $[0,1]$ sein. Mit $\\chi_{x > 1/2}$ bezeichnen wir die charakteristische Funktion der Menge $\\{ x \\in \\mathbb{R}: x > 1/2 \\}$. \n",
    "\n",
    "Plotten Sie jeweils den Fehler der Quadratur in Abhängigkeit von der Anzahl der Subintervalle $N$ bzw. in Abhängigkeit von der Zahl der benötigten Funktionsauswertungen. Interpretieren Sie Ihre Beobachtungen."
   ]
  },
  {
   "cell_type": "code",
   "execution_count": 43,
   "metadata": {},
   "outputs": [],
   "source": []
  },
  {
   "cell_type": "code",
   "execution_count": null,
   "metadata": {},
   "outputs": [],
   "source": []
  },
  {
   "cell_type": "markdown",
   "metadata": {},
   "source": [
    "## Teilaufgabe b)"
   ]
  },
  {
   "cell_type": "markdown",
   "metadata": {},
   "source": [
    "Implementieren Sie die _$d$-fach tensorierte $N$-fach summierte Trapezregel_ für die numerische Integration einer Funktion auf $[0,1]^d$ für $d = 1,2,3$. Input soll die zu integrierende Funktion $f$, die Dimension $d$ sowie die Anzahl der Teilintervalle $N$ sein."
   ]
  },
  {
   "cell_type": "code",
   "execution_count": null,
   "metadata": {},
   "outputs": [],
   "source": []
  },
  {
   "cell_type": "markdown",
   "metadata": {},
   "source": [
    "Testen Sie Ihre Implementierung mit Hilfe der Funktion $k(x_1, ..., x_d) = (\\pi/2)^d \\prod_{i=1}^d \\sin(\\pi x_i)$ für $d = 1,2,3$. Plotten Sie jeweils den Fehler der Quadratur in Abhängigkeit von der Zahl der benötigten Funktionsauswertungen. Interpretieren Sie Ihre Ergebnisse. "
   ]
  },
  {
   "cell_type": "code",
   "execution_count": null,
   "metadata": {},
   "outputs": [],
   "source": []
  },
  {
   "cell_type": "markdown",
   "metadata": {},
   "source": [
    "## Teilaufgabe c)"
   ]
  },
  {
   "cell_type": "markdown",
   "metadata": {},
   "source": [
    "Implementieren Sie die Monte-Carlo Quadratur auf dem Integrationsbereich $[0,1]^d$. Input soll die zu integrierende Funktion $f$, die Dimension $d$ und die Anzahl der Samples $N$ sein."
   ]
  },
  {
   "cell_type": "code",
   "execution_count": null,
   "metadata": {},
   "outputs": [],
   "source": []
  },
  {
   "cell_type": "markdown",
   "metadata": {},
   "source": [
    "Testen Sie Ihre Implementierung an der Beispielfunktion aus Teilaufgabe b) für $d=1,2,3$. Plotten Sie erneut den Fehler der Quadratur gegen die Anzahl der Funktionsauswertungen. (Beachten Sie: Beim Quadraturfehler der Monte-Carlo Quadratur handelt es sich um eine Zufallsvariable: Verwenden Sie daher für diesen Plot jeweils den Mittelwert des (positiven!) Fehlers aus 20 Monte-Carlo Quadraturen mit $n$ Funktionsauswertungen, um den zu erwartenden Quadraturfehler der Monte-Carlo Quadratur mit $n$ Auswertungen zu bestimmen.)\n",
    "\n",
    "Eine mögliche Wahl wäre z.B. Monte-Carlo Quadratur mit $n = 100, 200, 300, ..., 5000$ Funktionsauswertungen. \n",
    "\n",
    "Interpretieren Sie Ihre Beobachtung, insbesondere im Vergleich zu den Ergebnissen aus b). "
   ]
  },
  {
   "cell_type": "code",
   "execution_count": null,
   "metadata": {},
   "outputs": [],
   "source": [
    "\n",
    "    "
   ]
  },
  {
   "cell_type": "code",
   "execution_count": null,
   "metadata": {},
   "outputs": [],
   "source": []
  }
 ],
 "metadata": {
  "kernelspec": {
   "display_name": "Python 3",
   "language": "python",
   "name": "python3"
  },
  "language_info": {
   "codemirror_mode": {
    "name": "ipython",
    "version": 3
   },
   "file_extension": ".py",
   "mimetype": "text/x-python",
   "name": "python",
   "nbconvert_exporter": "python",
   "pygments_lexer": "ipython3",
   "version": "3.7.0"
  }
 },
 "nbformat": 4,
 "nbformat_minor": 2
}
